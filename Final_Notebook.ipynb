{
 "cells": [
  {
   "cell_type": "markdown",
   "metadata": {},
   "source": [
    "# Import packages + dataset"
   ]
  },
  {
   "cell_type": "code",
   "execution_count": 598,
   "metadata": {
    "colab": {},
    "colab_type": "code",
    "id": "vrRUCJVoO50G"
   },
   "outputs": [],
   "source": [
    "import numpy as np\n",
    "import pandas as pd\n",
    "import matplotlib.pyplot as plt\n",
    "\n",
    "%matplotlib inline\n",
    "\n",
    "import seaborn as sns\n",
    "\n",
    "from sklearn.model_selection import train_test_split\n",
    "from sklearn.linear_model import LinearRegression\n",
    "from sklearn import metrics\n",
    "from sklearn.preprocessing import OneHotEncoder, LabelEncoder\n",
    "\n",
    "import datetime\n",
    "import statistics\n",
    "\n",
    "from dateutil.relativedelta import relativedelta\n",
    "from collections import Counter"
   ]
  },
  {
   "cell_type": "code",
   "execution_count": 599,
   "metadata": {},
   "outputs": [],
   "source": [
    "pd.set_option('display.max_columns', None)"
   ]
  },
  {
   "cell_type": "code",
   "execution_count": 600,
   "metadata": {
    "colab": {
     "base_uri": "https://localhost:8080/",
     "height": 71
    },
    "colab_type": "code",
    "id": "P2RAwP3OO50N",
    "outputId": "75335b07-305a-4362-c684-cb3fc2ed6b3c"
   },
   "outputs": [
    {
     "name": "stderr",
     "output_type": "stream",
     "text": [
      "C:\\ProgramData\\Anaconda\\lib\\site-packages\\IPython\\core\\interactiveshell.py:3049: DtypeWarning: Columns (48,52,55,56,57,59,60,61,63,64) have mixed types. Specify dtype option on import or set low_memory=False.\n",
      "  interactivity=interactivity, compiler=compiler, result=result)\n"
     ]
    }
   ],
   "source": [
    "# Read in the datasets.\n",
    "df = pd.read_csv('penn_hr_data.csv')\n",
    "df_month = pd.read_csv('penn_hr_monthly.csv')"
   ]
  },
  {
   "cell_type": "code",
   "execution_count": 601,
   "metadata": {},
   "outputs": [],
   "source": [
    "# Prep an empty df that will eventually contain all features to be fed into the model.\n",
    "data = pd.DataFrame(columns = ['WORKER_ID', 'SEX'])"
   ]
  },
  {
   "cell_type": "markdown",
   "metadata": {
    "colab_type": "text",
    "id": "gJA-jULuO50T"
   },
   "source": [
    "# Data Cleaning "
   ]
  },
  {
   "cell_type": "markdown",
   "metadata": {},
   "source": [
    "### Drop certain entries"
   ]
  },
  {
   "cell_type": "code",
   "execution_count": 602,
   "metadata": {},
   "outputs": [],
   "source": [
    "# Omit 15 entries that are on leave of absence.\n",
    "df = df[df['EMPLOYMENT_STATUS'] != 'L']\n",
    "\n",
    "# Omit 1 entry with invalid visa (19)\n",
    "# (already dropped)\n",
    "\n",
    "# Omit entries with negative months of service\n",
    "df = df[df['MONTHS_IN_PRIMARY_JOB'] >= 0]\n",
    "\n",
    "# Omit entries with nonsensical education level year\n",
    "df = df[~df['EDUCATION_LEVEL_YEAR'].isin([1887, 2020, 2105])]\n",
    "\n",
    "# Omit entries without salary values\n",
    "df = df[-df['PRIMARY_APPT_SALARY'].isnull()]\n",
    "\n",
    "# Omit 98 entries without birth date or original hire date\n",
    "df = df[-df['ORIGINAL_HIRE_DATE'].isnull()]\n",
    "df = df[-df['Birth_Date'].isnull()]"
   ]
  },
  {
   "cell_type": "code",
   "execution_count": 603,
   "metadata": {},
   "outputs": [],
   "source": [
    "# Now that rows have dropped, we can update our data df\n",
    "data['WORKER_ID'] = df.Worker_ID\n",
    "data['MONTHS_IN_PRIMARY_JOB'] = df.MONTHS_IN_PRIMARY_JOB\n",
    "data['PRIMARY_APPT_SALARY'] = df.PRIMARY_APPT_SALARY\n",
    "data['IN_UNION'] = df.IN_UNION\n",
    "data['SALARY_GROWTH'] = df.Career_Salary_Growth\n",
    "data['PERCENT_SALARY_GROWTH'] = df.Percent_Career_Salary_Growth\n",
    "data['NUM_SAL_ADJUSTMENTS'] = df.Number_of_Sal_Adjustments\n",
    "data['NUM_RECLASSES'] = df.Number_of_Reclass\n",
    "data['RACE_OF_COLOR'] = df['Race_OfColor']"
   ]
  },
  {
   "cell_type": "markdown",
   "metadata": {},
   "source": [
    "### Monthly dataset"
   ]
  },
  {
   "cell_type": "code",
   "execution_count": 604,
   "metadata": {},
   "outputs": [
    {
     "data": {
      "text/plain": [
       "' Our main dataset spans July 1, 2009 - June 30, 2019. '"
      ]
     },
     "execution_count": 604,
     "metadata": {},
     "output_type": "execute_result"
    }
   ],
   "source": [
    "''' Our main dataset spans July 1, 2009 - June 30, 2019. '''"
   ]
  },
  {
   "cell_type": "markdown",
   "metadata": {},
   "source": [
    "#### Dropping entries"
   ]
  },
  {
   "cell_type": "code",
   "execution_count": null,
   "metadata": {
    "scrolled": false
   },
   "outputs": [],
   "source": [
    "# Comparing monthly dataset to original dfset\n",
    "df.Worker_ID[-df.Worker_ID.isin(df_month.WORKER_ID)].value_counts()  \n",
    "df_month.WORKER_ID[-df_month.WORKER_ID.isin(df.Worker_ID)].value_counts()\n",
    "\n",
    "# There are 5346 workers in original dataset that are NOT in the monthly dataset.\n",
    "# There are 14 workers in the monthly dataset that are NOT in the original dataset."
   ]
  },
  {
   "cell_type": "code",
   "execution_count": 606,
   "metadata": {},
   "outputs": [],
   "source": [
    "# Drop workers that are not in the original dataset.\n",
    "df_month = df_month[df_month.WORKER_ID.isin(df.Worker_ID)]\n",
    "\n",
    "# Keep only employment status == A or T\n",
    "df_month = df_month[df_month.EMPLOYMENT_STATUS.isin(['A', 'T'])]"
   ]
  },
  {
   "cell_type": "markdown",
   "metadata": {},
   "source": [
    "### Merge original + monthly dataset"
   ]
  },
  {
   "cell_type": "code",
   "execution_count": 607,
   "metadata": {},
   "outputs": [],
   "source": [
    "''' Since the monthly dataset do not have center info, let's merge the dataset. '''\n",
    "# If you have same columns in diff dfs, merged df will have \"col_x\" and \"col_y\"\n",
    "nonrepeated_cols = df.columns.difference(df_month.columns)\n",
    "\n",
    "df_merged = pd.merge(df[nonrepeated_cols], df_month, left_on = 'Worker_ID', right_on = 'WORKER_ID', how = 'inner')\n",
    "\n",
    "# Remember, we are analyzing only preventable emmployees.\n",
    "df_merged = df_merged[-df_merged['SEPARATION_REASON'].isin(['20', '21', '22', '23', '24', '3', '4', '6', '30', '31', '80', '81'])]"
   ]
  },
  {
   "cell_type": "markdown",
   "metadata": {
    "colab_type": "text",
    "id": "DUquBIehO50V"
   },
   "source": [
    "### Cleaning up the columns"
   ]
  },
  {
   "cell_type": "code",
   "execution_count": 608,
   "metadata": {
    "colab": {},
    "colab_type": "code",
    "id": "pvM4n3VnO50Y"
   },
   "outputs": [],
   "source": [
    "text_cols = ['EDUCATION_LEVEL','COUNTRY_OF_CITIZENSHIP','HOME_CITY','VISA','JOB_GRADE','JOB_TITLE','Manager_Edu_Level',\n",
    "             'EDUCATION_LEVEL_YEAR','Manager_Edu_Level_Year','REPORTS_TO_PENN_ID']\n",
    "\n",
    "for col in text_cols:\n",
    "    df[col] = df[col].fillna('')\n",
    "    df[col] = df[col].apply(str).str.strip()\n",
    "    \n",
    "edu_cols = ['EDUCATION_LEVEL_YEAR','Manager_Edu_Level_Year']\n",
    "\n",
    "for col in edu_cols:\n",
    "    df[col] = df[col].apply(lambda x: int(x) if len(x)>0 else None)"
   ]
  },
  {
   "cell_type": "code",
   "execution_count": 609,
   "metadata": {
    "colab": {},
    "colab_type": "code",
    "id": "tnLKAmvMO50c"
   },
   "outputs": [],
   "source": [
    "# transform str to datetime object\n",
    "dates_cols = ['Birth_Date','PRIMARY_APPT_BEGIN_DATE','ORIGINAL_HIRE_DATE','TERMINATION_DATE']\n",
    "\n",
    "for col in dates_cols:\n",
    "    df[col] = pd.DatetimeIndex(df[col])"
   ]
  },
  {
   "cell_type": "markdown",
   "metadata": {},
   "source": [
    "### One hot encoding"
   ]
  },
  {
   "cell_type": "code",
   "execution_count": 610,
   "metadata": {},
   "outputs": [],
   "source": [
    "''' Variable of interest: Employment status '''\n",
    "# Convert T => 1 and A => 0\n",
    "le = LabelEncoder()\n",
    "\n",
    "df['EMPLOYMENT_STATUS'] = le.fit_transform(df['EMPLOYMENT_STATUS'])\n",
    "\n",
    "data['EMPLOYMENT_STATUS'] = df['EMPLOYMENT_STATUS']"
   ]
  },
  {
   "cell_type": "code",
   "execution_count": 611,
   "metadata": {},
   "outputs": [],
   "source": [
    "# Weekly paid = 1\n",
    "df['PAY_CYCLE'] = df['PAY_CYCLE'].apply(lambda x: 0 if x == 'M1' else 1)\n",
    "\n",
    "data['PAY_CYCLE'] = df['PAY_CYCLE']"
   ]
  },
  {
   "cell_type": "code",
   "execution_count": 612,
   "metadata": {},
   "outputs": [],
   "source": [
    "# Female = 1\n",
    "df['SEX'] = df['SEX'].apply(lambda x: 0 if x == 'M' else 1)\n",
    "\n",
    "data['SEX'] = df['SEX']"
   ]
  },
  {
   "cell_type": "code",
   "execution_count": 613,
   "metadata": {
    "scrolled": true
   },
   "outputs": [],
   "source": [
    "# Create dummies for race, marital status, and grant paid\n",
    "categorical_cols = ['RACE','MARITAL_STATUS','GRANT_PAID']\n",
    "\n",
    "for col in categorical_cols:\n",
    "    df1 = pd.get_dummies(df[col]).rename(lambda x: col + '_' + str(x), axis=1)\n",
    "    df = pd.concat([df, df1], axis=1)\n",
    "\n",
    "# Add to the data df\n",
    "data['RACE_A'] = df['RACE_A']\n",
    "data['RACE_B'] = df['RACE_B']\n",
    "data['RACE_C'] = df['RACE_C']\n",
    "data['RACE_P'] = df['RACE_P']\n",
    "data['RACE_R'] = df['RACE_R']\n",
    "data['RACE_S'] = df['RACE_S']\n",
    "data['RACE_U'] = df['RACE_U']\n",
    "data['RACE_Z'] = df['RACE_Z']\n",
    "\n",
    "data['MARRIED'] = df['MARITAL_STATUS_M']\n",
    "data['SINGLE'] = df['MARITAL_STATUS_S']\n",
    "data['WIDOWED'] = df['MARITAL_STATUS_W']\n",
    "data['DIVORCED'] = df['MARITAL_STATUS_D']\n",
    "\n",
    "data['GRANT_PAID_F'] = df['GRANT_PAID_F']\n",
    "data['GRANT_PAID_N'] = df['GRANT_PAID_N']\n",
    "data['GRANT_PAID_P'] = df['GRANT_PAID_P']"
   ]
  },
  {
   "cell_type": "markdown",
   "metadata": {},
   "source": [
    "# Monthly turnover rates"
   ]
  },
  {
   "cell_type": "markdown",
   "metadata": {},
   "source": [
    "### Create headcount df"
   ]
  },
  {
   "cell_type": "markdown",
   "metadata": {},
   "source": [
    "Separate dataset into \"good\" vs. \"bad\" hires."
   ]
  },
  {
   "cell_type": "code",
   "execution_count": null,
   "metadata": {},
   "outputs": [],
   "source": [
    "# Non-voluntary reasons:\n",
    "'''\n",
    "### Bad hires\n",
    "20 :  Not Qualified\n",
    "21 :  Excessive Unexcused Absence or Tardiness\n",
    "22 :  Unsatisfactory Performance\n",
    "23 :  Misconduct or Violation of Rules\n",
    "24 :  Other Termination for Cause\n",
    "\n",
    "### Out of Penn control / concern\n",
    "3 :  Lack of Funding\n",
    "4 :  Completion of Contract\n",
    "6 :  End of Appointment\n",
    "\n",
    "30 :  Normal Retirement\n",
    "31 :  Early Retirement\n",
    "\n",
    "80 :  Death\n",
    "81 :  Death with Benefits Eligible Dependent(s)\n",
    "'''\n",
    "\n",
    "# Voluntary reasons:\n",
    "'''\n",
    "33 :  Auto Termination\n",
    "\n",
    "40 :  Accepted New Job (Academic)\n",
    "41 :  Accepted New Job (Non-Academic)\n",
    "\n",
    "42 :  Marriage or Domestic Obligations\n",
    "43 :  Dissatisfied with Pay\n",
    "44 :  Personal Reasons\n",
    "45 :  Quit without Notice\n",
    "46 :  Relocation\n",
    "47 :  Returned to School\n",
    "48 :  Dissatisfied with Working Conditions\n",
    "\n",
    "60 :  Medical Necessity\n",
    "'''"
   ]
  },
  {
   "cell_type": "code",
   "execution_count": 623,
   "metadata": {},
   "outputs": [],
   "source": [
    "''' Separate bad vs. good hires '''\n",
    "# Subset 'employees Penn should refrain from hiring'\n",
    "df_month_bad = df_month[df_month['SEPARATION_REASON'].isin(['20', '21', '22', '23', '24'])]\n",
    "\n",
    "# Subset 'employees that Penn can do things for do keep' (i.e. excludes 'out of control' reasons)\n",
    "df_month_good = df_month[-df_month['SEPARATION_REASON'].isin(['20', '21', '22', '23', '24', '3', '4', '6', '30', '31', '80', '81'])]"
   ]
  },
  {
   "cell_type": "code",
   "execution_count": 624,
   "metadata": {},
   "outputs": [],
   "source": [
    "# Focus analysis on \"good\" hires\n",
    "\n",
    "# df for active employees\n",
    "df_headcount_A = df_month_good[df_month_good.EMPLOYMENT_STATUS == 'A'].groupby(['CALENDAR_YEAR', 'CALENDAR_MONTH']).agg({'WORKER_ID': 'count'})\n",
    "df_A_unstack = df_headcount_A.unstack()\n",
    "df_A_unstack = df_A_unstack.fillna(0)\n",
    "\n",
    "# df for terminated employees\n",
    "df_headcount_T = df_month_good[df_month_good.EMPLOYMENT_STATUS == 'T'].groupby(['CALENDAR_YEAR', 'CALENDAR_MONTH']).agg({'WORKER_ID': 'count'})\n",
    "df_T_unstack = df_headcount_T.unstack()\n",
    "df_T_unstack = df_T_unstack.fillna(0)"
   ]
  },
  {
   "cell_type": "markdown",
   "metadata": {},
   "source": [
    "### Calculate monthly turnover rate"
   ]
  },
  {
   "cell_type": "code",
   "execution_count": 625,
   "metadata": {},
   "outputs": [],
   "source": [
    "# Vectorize no. of terminated employees\n",
    "terminated = []\n",
    "\n",
    "for year in range(2008, 2020):\n",
    "    for month in range(1, 13):\n",
    "        terminated.append(df_T_unstack.loc[year, ('WORKER_ID', month)])\n",
    "        \n",
    "terminated = terminated[6:-6]   # our data begins in July"
   ]
  },
  {
   "cell_type": "code",
   "execution_count": 626,
   "metadata": {},
   "outputs": [],
   "source": [
    "# Vectorize no. of current employees\n",
    "headcount = []\n",
    "\n",
    "for year in range(2008, 2020):\n",
    "    for month in range(1, 13):\n",
    "        headcount.append(df_A_unstack.loc[year, ('WORKER_ID', month)])\n",
    "        \n",
    "headcount = headcount[5:-6]   # include one extra space to take avg(previous & current month)\n",
    "headcount[0] = headcount[1]   # since the first month is unknown, let it equal July, 2008 count"
   ]
  },
  {
   "cell_type": "code",
   "execution_count": 627,
   "metadata": {},
   "outputs": [],
   "source": [
    "# Find the avg no. of headcount per month\n",
    "def avg(prev, current):\n",
    "    return((prev + current)/2)\n",
    "\n",
    "avg_employed = []\n",
    "for i in range(0, len(headcount)-1):\n",
    "    avg_count = avg(headcount[i], headcount[i+1])\n",
    "    \n",
    "    avg_employed.append(avg_count)"
   ]
  },
  {
   "cell_type": "code",
   "execution_count": 628,
   "metadata": {},
   "outputs": [],
   "source": [
    "# Calculate the monthly turnover\n",
    "turnover = [(a/b)*100 for a,b in zip(terminated, avg_employed)]"
   ]
  },
  {
   "cell_type": "code",
   "execution_count": 629,
   "metadata": {},
   "outputs": [],
   "source": [
    "# Create df of these values, and export as csv.\n",
    "df_ts = pd.DataFrame(columns = ['Terminated', 'Employed', 'Turnover'])\n",
    "\n",
    "df_ts['Terminated'] = terminated\n",
    "df_ts['Employed'] = headcount[1:]\n",
    "df_ts['Turnover'] = turnover\n",
    "\n",
    "df_ts.to_csv('Ts_Penn_HR.csv')"
   ]
  },
  {
   "cell_type": "markdown",
   "metadata": {},
   "source": [
    "### Top 5 centers for turnover"
   ]
  },
  {
   "cell_type": "code",
   "execution_count": 630,
   "metadata": {},
   "outputs": [
    {
     "name": "stdout",
     "output_type": "stream",
     "text": [
      "2 :  School of Arts and Sciences\n",
      "4 :  Provost Interdisciplinary Programs\n",
      "6 :  School of Nursing\n",
      "7 :  Wharton School\n",
      "13 :  School of Engineering and Applied Science\n",
      "19 :  Annenberg Center For Performing Arts\n",
      "24 :  Division of Recreation & Intercollegiate Athletics\n",
      "26 :  University Museum\n",
      "32 :  Graduate School of Education\n",
      "33 :  School of Design\n",
      "35 :  School of Social Policy and Practice\n",
      "36 :  Annenberg School for Communication\n",
      "40 :  Perelman School of Medicine\n",
      "50 :  University Library\n",
      "51 :  School of Dental Medicine\n",
      "56 :  Law School\n",
      "58 :  School of Veterinary Medicine\n",
      "60 :  Morris Arboretum\n",
      "61 :  Institute of Contemporary Art\n",
      "62 :  Penn Global\n",
      "78 :  Audit Compliance and Privacy\n",
      "79 :  Division of Public Safety\n",
      "81 :  President's Center\n",
      "83 :  Provost's Center\n",
      "84 :  Student Activities\n",
      "85 :  Student Services\n",
      "86 :  College Houses and Academic Services\n",
      "87 :  Division of Finance\n",
      "90 :  Development and Alumni Relations\n",
      "91 :  Information Systems and Computing\n",
      "92 :  Human Resources\n",
      "93 :  Business Services\n",
      "95 :  Residential and Hospitality Services\n",
      "96 :  Facilities and Real Estate Services\n",
      "98 :  Executive Vice President\n",
      "35\n"
     ]
    }
   ],
   "source": [
    "center_dict = dict(zip(df['HOME_SCHOOL_CTR'], df['School_Name']))\n",
    "\n",
    "for key in sorted(center_dict.keys()):\n",
    "    print(key, ': ', center_dict[key])\n",
    "    \n",
    "print(len(center_dict))   # 35 centers"
   ]
  },
  {
   "cell_type": "code",
   "execution_count": 631,
   "metadata": {},
   "outputs": [],
   "source": [
    "# Calculate turnover (over 10 years) for all 35 centers.\n",
    "center_turnover = {}\n",
    "\n",
    "for center in center_dict.keys():\n",
    "    \n",
    "    # df for terminated vs. active employees\n",
    "    center_headcount_T = df_merged[(df_merged.EMPLOYMENT_STATUS == 'T') & (df_merged.HOME_SCHOOL_CTR == center)].groupby(['CALENDAR_YEAR', 'CALENDAR_MONTH']).agg({'WORKER_ID': 'count'})\n",
    "    center_T_unstack = center_headcount_T.unstack()\n",
    "    center_T_unstack = center_T_unstack.fillna(0)\n",
    "    \n",
    "    center_headcount_A = df_merged[(df_merged.EMPLOYMENT_STATUS == 'A') & (df_merged.HOME_SCHOOL_CTR == center)].groupby(['CALENDAR_YEAR', 'CALENDAR_MONTH']).agg({'WORKER_ID': 'count'})\n",
    "    center_A_unstack = center_headcount_A.unstack()\n",
    "    center_A_unstack = center_A_unstack.fillna(0)\n",
    "    \n",
    "    if center_A_unstack.loc[2019, ('WORKER_ID', 6)] < 100:   # concerned only about centers with at least 100 workers\n",
    "        continue\n",
    "        \n",
    "    if center in [24, 85]:   # these centers have several months without data\n",
    "        continue\n",
    "    \n",
    "    # Get a headcount of active vs. terminated for each year.\n",
    "    terminated = []\n",
    "    active = []    \n",
    "    \n",
    "    for year in range(2008, 2020):\n",
    "        \n",
    "        # For terminated count\n",
    "        if year in center_headcount_T.index.get_level_values('CALENDAR_YEAR'):\n",
    "            \n",
    "            for month in range(1, 13):\n",
    "                if month in center_T_unstack.columns.get_level_values('CALENDAR_MONTH'):\n",
    "                    terminated.append(center_T_unstack.loc[year, ('WORKER_ID', month)])\n",
    "                else:\n",
    "                    terminated.append(0)\n",
    "            \n",
    "        else:\n",
    "            for month in range(1, 13):\n",
    "                terminated.append(0)\n",
    "        \n",
    "        # For active count\n",
    "        if year in center_headcount_A.index.get_level_values('CALENDAR_YEAR'):\n",
    "            \n",
    "            for month in range(1, 13):  \n",
    "                if month in center_A_unstack.columns.get_level_values('CALENDAR_MONTH'):\n",
    "                    active.append(center_A_unstack.loc[year, ('WORKER_ID', month)])\n",
    "                else:\n",
    "                    active.append(0)\n",
    "                \n",
    "        else: \n",
    "            for month in range(1, 13):\n",
    "                active.append(0)\n",
    "            \n",
    "    \n",
    "    terminated = terminated[6:-6]   # our data begins in July\n",
    "    active = active[5:-6]   # include one extra space to take avg(previous & current month)\n",
    "    active[0] = active[1]   # since the first month is unknown, let it equal July, 2008 count\n",
    "     \n",
    "    # Calculate turnover\n",
    "    def avg(prev, current):\n",
    "        return((prev + current)/2)\n",
    "\n",
    "    avg_employed = []\n",
    "    for i in range(0, len(active)-1):\n",
    "        avg_count = avg(active[i], active[i+1])\n",
    "    \n",
    "        avg_employed.append(avg_count)\n",
    "        \n",
    "    turnover = [(a/b)*100 for a,b in zip(terminated, avg_employed)]\n",
    "    turnover = statistics.mean(turnover)\n",
    "    \n",
    "    # Save to the dictionary\n",
    "    center_turnover.update({turnover:center})"
   ]
  },
  {
   "cell_type": "code",
   "execution_count": 632,
   "metadata": {},
   "outputs": [
    {
     "name": "stdout",
     "output_type": "stream",
     "text": [
      "0.8844831312335206 :  90\n",
      "0.8331337452192406 :  6\n",
      "0.8206152129820788 :  40\n",
      "0.7845693744288824 :  2\n",
      "0.6602800914280138 :  58\n",
      "0.5907596638037422 :  83\n",
      "0.5829871330577039 :  51\n",
      "0.5213946789511531 :  81\n",
      "0.5194046925022527 :  7\n",
      "0.5168012722389413 :  13\n",
      "0.4558165609848325 :  32\n",
      "0.45400648452812625 :  93\n",
      "0.40820369577065213 :  56\n",
      "0.36644560632790807 :  87\n",
      "0.3439147993371528 :  50\n",
      "0.34378882551045414 :  91\n",
      "0.31074777757198385 :  79\n",
      "0.310574155544094 :  95\n",
      "0.1295258936840108 :  96\n"
     ]
    },
    {
     "data": {
      "text/plain": [
       "'\\nTop 5 centers with highest turnover:\\n\\n1) Development and Alumni Relations\\n2) Division of Recreation & Intercollegiate Athletics\\n3) School of Nursing\\n4) Perelman School of Medicine\\n5) School of Arts and Sciences\\n'"
      ]
     },
     "execution_count": 632,
     "metadata": {},
     "output_type": "execute_result"
    }
   ],
   "source": [
    "for key in sorted(center_turnover.keys(), reverse = True):\n",
    "    print(key, ': ', center_turnover[key])\n",
    "    \n",
    "'''\n",
    "Top 5 centers with highest turnover:\n",
    "\n",
    "1) Development and Alumni Relations\n",
    "2) Division of Recreation & Intercollegiate Athletics\n",
    "3) School of Nursing\n",
    "4) Perelman School of Medicine\n",
    "5) School of Arts and Sciences\n",
    "'''"
   ]
  },
  {
   "cell_type": "markdown",
   "metadata": {},
   "source": [
    "# Feature engineering"
   ]
  },
  {
   "cell_type": "markdown",
   "metadata": {
    "colab_type": "text",
    "id": "XQWPhclkO50h"
   },
   "source": [
    "Keep in mind: Your target variable is EMPLOYMENT_STATUS.\n",
    "\n",
    "1 = terminated\n",
    "0 = active"
   ]
  },
  {
   "cell_type": "markdown",
   "metadata": {},
   "source": [
    "### Age columns"
   ]
  },
  {
   "cell_type": "code",
   "execution_count": 633,
   "metadata": {
    "colab": {},
    "colab_type": "code",
    "id": "UlB5EyJwO50i"
   },
   "outputs": [],
   "source": [
    "# Age when employee started working at Penn\n",
    "df['Age_start'] = df['ORIGINAL_HIRE_DATE'] - df['Birth_Date']\n",
    "df['Age_start'] = df['Age_start'].apply(lambda x: int(np.floor(x.days/365)))\n",
    "\n",
    "# Age when employee was terminated (if active, current age)\n",
    "df['Age_last'] = df['AGE_AT_TERMINATION'].fillna(df['CURRENT_AGE'])\n",
    "\n",
    "data['AGE_START'] = df['Age_start']\n",
    "data['AGE_LAST'] = df['Age_last']"
   ]
  },
  {
   "cell_type": "markdown",
   "metadata": {
    "colab_type": "text",
    "id": "qNgN84DtO50l"
   },
   "source": [
    "###  First job at Penn"
   ]
  },
  {
   "cell_type": "code",
   "execution_count": 634,
   "metadata": {
    "colab": {},
    "colab_type": "code",
    "id": "gp22Gp_cO50m"
   },
   "outputs": [],
   "source": [
    "# 1 indicates the primary job is the employee's first job at Penn, 0 indicates otherwise\n",
    "df['Is_First'] = (df['ORIGINAL_HIRE_DATE'] == df['PRIMARY_APPT_BEGIN_DATE']).astype(int)\n",
    "\n",
    "data['FIRST_JOB_PENN'] = df['Is_First']"
   ]
  },
  {
   "cell_type": "markdown",
   "metadata": {
    "colab_type": "text",
    "id": "55GjHn-MO50n"
   },
   "source": [
    "### From Philly"
   ]
  },
  {
   "cell_type": "code",
   "execution_count": 635,
   "metadata": {
    "colab": {},
    "colab_type": "code",
    "id": "HM8EDnNhO50o"
   },
   "outputs": [],
   "source": [
    "# Clean up all misspellings of PHILADELPHIA. \n",
    "df['HOME_CITY'] = df['HOME_CITY'].apply(lambda x: 'PHILADELPHIA' if (x == 'PHILA') or (x == 'PHILADELPIA') or \n",
    "                                            (x == 'PHILADEPHIA') or (x == 'PHILDELPHIA') or (x == 'PHILDEPHIA') else x)\n",
    "\n",
    "# From Philly = 1\n",
    "df['Local'] = df['HOME_CITY'].apply(lambda x: 1 if x == 'PHILADELPHIA' else 0)\n",
    "\n",
    "data['FROM_PHILLY'] = df['Local']"
   ]
  },
  {
   "cell_type": "markdown",
   "metadata": {},
   "source": [
    "### US citizenship"
   ]
  },
  {
   "cell_type": "code",
   "execution_count": 636,
   "metadata": {},
   "outputs": [],
   "source": [
    "# US citizen = 1\n",
    "df['US'] = df['COUNTRY_OF_CITIZENSHIP'].apply(lambda x: 1 if x == '' else 0)\n",
    "\n",
    "data['US_CITIZEN'] = df['US']"
   ]
  },
  {
   "cell_type": "markdown",
   "metadata": {
    "colab_type": "text",
    "id": "j5NI6L2fO50p"
   },
   "source": [
    "### Average ratings"
   ]
  },
  {
   "cell_type": "code",
   "execution_count": 637,
   "metadata": {
    "colab": {},
    "colab_type": "code",
    "id": "MXZ9PR8WO50p"
   },
   "outputs": [],
   "source": [
    "rating_map = {'E':10,'R':8,'M':6,'N':4,'U':2}\n",
    "\n",
    "rating_df = pd.DataFrame()\n",
    "\n",
    "for year in range(2010,2020):\n",
    "    df['OVR_RATING_CD_'+str(year)] = df['OVR_RATING_CD_'+str(year)].apply(lambda x: rating_map[x] if x in rating_map else 0)\n",
    "    rating_df = pd.concat([rating_df,df['OVR_RATING_CD_'+str(year)]],axis=1)\n",
    "    \n",
    "valid_years = np.array([10-c[0] for c in [Counter(x) for x in rating_df.values]])\n",
    "total = np.array(rating_df.apply(np.sum,axis=1).values)\n",
    "avg_rating = np.zeros(len(total))\n",
    "\n",
    "for i in range(len(total)):\n",
    "    \n",
    "    if valid_years[i] == 0:\n",
    "        avg_rating[i] = None\n",
    "        \n",
    "    else:\n",
    "        avg_rating[i] = total[i]/valid_years[i]\n",
    "        \n",
    "df['avg_rating'] = pd.Series(avg_rating)\n",
    "\n",
    "data['AVG_RATING'] = df['avg_rating']"
   ]
  },
  {
   "cell_type": "markdown",
   "metadata": {
    "colab_type": "text",
    "id": "Dq3vGk5PO50q"
   },
   "source": [
    "### Employee vs. Manager columns"
   ]
  },
  {
   "cell_type": "code",
   "execution_count": 638,
   "metadata": {
    "colab": {},
    "colab_type": "code",
    "id": "VLgWTdvhO50r"
   },
   "outputs": [],
   "source": [
    "# Has_Manager indicates if a person has a manager (1)\n",
    "df['Has_Manager'] = df['REPORTS_TO_PENN_ID'].apply(lambda x: 0 if len(x)==0 else 1)\n",
    "\n",
    "# 1 if manager and employee are of different sex\n",
    "df['sex_diff'] = (df[\"SEX\"]!=df['Manager_Sex']).apply(int)\n",
    "df.loc[df['Manager_Sex'].isnull(),'sex_diff'] = 0\n",
    "\n",
    "# 1 if manager and employee are of different race\n",
    "df['race_diff'] = (df[\"RACE\"]!=df['Manager_Race']).apply(int)\n",
    "df.loc[df['Manager_Race'].isnull(),'race_diff'] = 0\n",
    "\n",
    "data['HAS_MANAGER'] = df['Has_Manager']\n",
    "data['SEX_DIFF'] = df['sex_diff']\n",
    "data['RACE_DIFF'] = df['race_diff']"
   ]
  },
  {
   "cell_type": "code",
   "execution_count": 639,
   "metadata": {
    "colab": {},
    "colab_type": "code",
    "id": "Y7zBIVTgO50s"
   },
   "outputs": [],
   "source": [
    "# Compare employee vs. manager edu levels\n",
    "edu_map = {'B':0, 'C':1,'E':2, 'D':2, 'F':3, 'G':4, 'H':5, 'K':6,'I':6, 'L':6, 'J':6}\n",
    "\n",
    "# map NaN in education level to 1, same group as \"C\"\n",
    "df['EDUCATION_LEVEL'] = df['EDUCATION_LEVEL'].apply(lambda x: edu_map[x] if x in edu_map else 1)\n",
    "\n",
    "# leave NaN in nanager education as None\n",
    "df['Manager_Edu_Level'] = df['Manager_Edu_Level'].apply(lambda x: edu_map[x] if x in edu_map else None)\n",
    "\n",
    "# difference between manager and employee education levels\n",
    "# if someone doesn't have a manager, or manager education df is missing, make the difference 0\n",
    "df['edu_diff'] = df['Manager_Edu_Level'] - df['EDUCATION_LEVEL']\n",
    "df['edu_diff'] = df['edu_diff'].fillna(0)\n",
    "\n",
    "data['EDU_LEVEL'] = df['EDUCATION_LEVEL']\n",
    "data['EDU_DIFF'] = df['edu_diff']"
   ]
  },
  {
   "cell_type": "markdown",
   "metadata": {
    "colab_type": "text",
    "id": "4og9qrWbO50u"
   },
   "source": [
    "### Job grade columns"
   ]
  },
  {
   "cell_type": "markdown",
   "metadata": {
    "colab_type": "text",
    "id": "gsJEPrdVO50u"
   },
   "source": [
    "- Remove job grade 'PHR'<br>\n",
    "- Job grades A-H are IT positions and correspond to job grades 25-32, respectively <br>\n",
    "- Job grade U indicates \"In_Union\": mostly maintenance people (judging from their job titles); classify them as job grade 21(lowest in dataset) <br>\n",
    "- Add new column IS_IT <br>  "
   ]
  },
  {
   "cell_type": "code",
   "execution_count": 640,
   "metadata": {
    "colab": {},
    "colab_type": "code",
    "id": "xVqxuT-CO50u"
   },
   "outputs": [],
   "source": [
    "job_grade = {}\n",
    "\n",
    "# create a dict that maps A-H to 25-32\n",
    "for i,j in enumerate(range(25,33)):\n",
    "    job_grade[chr(ord('A')+i)] = j\n",
    "    \n",
    "# new column IS_IT, 1 for yes, 0 for no\n",
    "x = df['JOB_GRADE'].apply(lambda x: 1 if x in job_grade else 0)\n",
    "x = x.to_frame().rename(columns={'JOB_GRADE':'IS_IT'})\n",
    "df = pd.concat([df, x], axis=1)\n",
    "\n",
    "# convert letter job grades to numbers\n",
    "job_grade['U'] = 21\n",
    "df['JOB_GRADE'] = df['JOB_GRADE'].apply(lambda x: job_grade[x] if x in job_grade else x)\n",
    "\n",
    "# Remove job grade = 'PHR'\n",
    "df = df[df['JOB_GRADE']!='PHR']\n",
    "\n",
    "df['JOB_GRADE'] = df['JOB_GRADE'].astype(int)\n",
    "\n",
    "data['JOB_GRADE'] = df['JOB_GRADE']\n",
    "data['HAS_IT_JOB'] = df.IS_IT"
   ]
  },
  {
   "cell_type": "markdown",
   "metadata": {},
   "source": [
    "### Time till visa expires"
   ]
  },
  {
   "cell_type": "code",
   "execution_count": 641,
   "metadata": {},
   "outputs": [
    {
     "data": {
      "text/plain": [
       "\"\\nNon foreigners & immigrants don't have a visa expiration date.\\nThis means that they will be in America permanently. To differentiate them from visa-holders, assign them a value = 180.\\n\\nWhy 180? The longest visa is 10 years, so 15 years (= 180 months) is long enough to denote residents as permanent.\\n\""
      ]
     },
     "execution_count": 641,
     "metadata": {},
     "output_type": "execute_result"
    }
   ],
   "source": [
    "# Calculate the no. of months till visa expires.\n",
    "'''\n",
    "Non foreigners & immigrants don't have a visa expiration date.\n",
    "This means that they will be in America permanently. To differentiate them from visa-holders, assign them a value = 180.\n",
    "\n",
    "Why 180? The longest visa is 10 years, so 15 years (= 180 months) is long enough to denote residents as permanent.\n",
    "'''"
   ]
  },
  {
   "cell_type": "code",
   "execution_count": 642,
   "metadata": {},
   "outputs": [],
   "source": [
    "# Get today's datetime.\n",
    "today = datetime.datetime.today()\n",
    "\n",
    "visa_month = df['VISA_EXPIRATION_DATE'].apply(lambda x: str(x).split('/')[0])\n",
    "visa_year = df['VISA_EXPIRATION_DATE'].apply(lambda x: str(x)[-9:-5]) \n",
    "\n",
    "visa_month = visa_month.replace('nan', 99)\n",
    "visa_year = visa_year.replace('', 9999)\n",
    "\n",
    "visa_month = visa_month.apply(lambda x: int(x))\n",
    "visa_year = visa_year.apply(lambda x: int(x))\n",
    "\n",
    "\n",
    "# Calculate the no. of months till visa expires.\n",
    "time_left = (visa_year - today.year) * 12 + (visa_month - today.month)\n",
    "\n",
    "\n",
    "# Add as a column to the df.\n",
    "df['VISA_MONTHS_LEFT'] = time_left"
   ]
  },
  {
   "cell_type": "code",
   "execution_count": 643,
   "metadata": {},
   "outputs": [],
   "source": [
    "# Assign 180 to all workers who don't need to worry about visas.\n",
    "df.loc[df['VISA'].isin(['IM', '  ', '']), 'VISA_MONTHS_LEFT'] = 180\n",
    "df.loc[df['VISA'].isnull(), 'VISA_MONTHS_LEFT'] = 180\n",
    "\n",
    "data['VISA_MONTHS_LEFT'] = df.VISA_MONTHS_LEFT"
   ]
  },
  {
   "cell_type": "markdown",
   "metadata": {},
   "source": [
    "### Change in marital status during employment"
   ]
  },
  {
   "cell_type": "code",
   "execution_count": 644,
   "metadata": {},
   "outputs": [],
   "source": [
    "# Find workers who experienced a change in marital status during employment period\n",
    "worker_unique = df_month.WORKER_ID.unique()\n",
    "\n",
    "workers_marriage_changed = []\n",
    "\n",
    "for worker in worker_unique:\n",
    "    status = df_month.MARITAL_STATUS[df_month.WORKER_ID == worker]\n",
    "    \n",
    "    if len(status.unique()) > 1:\n",
    "        workers_marriage_changed.append(worker)"
   ]
  },
  {
   "cell_type": "code",
   "execution_count": 645,
   "metadata": {},
   "outputs": [],
   "source": [
    "df['MARRIAGE_CHANGED'] = np.nan\n",
    "\n",
    "for index, value in enumerate(df.Worker_ID):\n",
    "    \n",
    "    if (value in workers_marriage_changed):\n",
    "        df.loc[index, 'MARRIAGE_CHANGED'] = 1\n",
    "        \n",
    "    else:\n",
    "        df.loc[index, 'MARRIAGE_CHANGED'] = 0\n",
    "        \n",
    "        \n",
    "data['MARITAL_CHANGED'] = df['MARRIAGE_CHANGED']"
   ]
  },
  {
   "cell_type": "markdown",
   "metadata": {},
   "source": [
    "### Change in educational attainment during employment"
   ]
  },
  {
   "cell_type": "code",
   "execution_count": 646,
   "metadata": {},
   "outputs": [],
   "source": [
    "# Find workers who experienced a change in education level during employment period\n",
    "worker_unique = df_month.WORKER_ID.unique()\n",
    "\n",
    "workers_edu_changed = []\n",
    "\n",
    "for worker in worker_unique:\n",
    "    level = df_month.EDUCATION_LEVEL[df_month.WORKER_ID == worker]\n",
    "    \n",
    "    # Get rid of NaN (they are counted as a unique value)\n",
    "    level = [value for value in level if pd.notnull(value)]\n",
    "    level_unique = []\n",
    "    \n",
    "    for i in level:\n",
    "        if i not in level_unique:\n",
    "            level_unique.append(i)\n",
    "    \n",
    "    if len(level_unique) > 1:\n",
    "        workers_edu_changed.append(worker)"
   ]
  },
  {
   "cell_type": "code",
   "execution_count": 647,
   "metadata": {},
   "outputs": [],
   "source": [
    "df['EDU_CHANGED'] = np.nan\n",
    "\n",
    "for index, value in enumerate(df.Worker_ID):\n",
    "    \n",
    "    if (value in workers_edu_changed):\n",
    "        df.loc[index, 'EDU_CHANGED'] = 1\n",
    "        \n",
    "    else:\n",
    "        df.loc[index, 'EDU_CHANGED'] = 0\n",
    "        \n",
    "        \n",
    "data['EDU_CHANGED'] = df['EDU_CHANGED']"
   ]
  },
  {
   "cell_type": "markdown",
   "metadata": {},
   "source": [
    "### Change in job title during employment"
   ]
  },
  {
   "cell_type": "code",
   "execution_count": 648,
   "metadata": {},
   "outputs": [],
   "source": [
    "# Find workers who experienced a change in job title during employment period\n",
    "worker_unique = df_month.WORKER_ID.unique()\n",
    "\n",
    "workers_title_changed = []\n",
    "\n",
    "for worker in worker_unique:\n",
    "    title = df_month.JOB_GRADE[df_month.WORKER_ID == worker]\n",
    "    \n",
    "    if len(title.unique()) > 1:\n",
    "        workers_title_changed.append(worker)"
   ]
  },
  {
   "cell_type": "code",
   "execution_count": 649,
   "metadata": {},
   "outputs": [],
   "source": [
    "df['TITLE_CHANGED'] = np.nan\n",
    "\n",
    "for index, value in enumerate(df.Worker_ID):\n",
    "    \n",
    "    if (value in workers_title_changed):\n",
    "        df.loc[index, 'TITLE_CHANGED'] = 1\n",
    "        \n",
    "    else:\n",
    "        df.loc[index, 'TITLE_CHANGED'] = 0\n",
    "        \n",
    "        \n",
    "data['JOB_TITLE_CHANGED'] = df['TITLE_CHANGED']"
   ]
  },
  {
   "cell_type": "markdown",
   "metadata": {},
   "source": [
    "### Inspect data"
   ]
  },
  {
   "cell_type": "code",
   "execution_count": 650,
   "metadata": {
    "scrolled": true
   },
   "outputs": [
    {
     "data": {
      "text/html": [
       "<div>\n",
       "<style scoped>\n",
       "    .dataframe tbody tr th:only-of-type {\n",
       "        vertical-align: middle;\n",
       "    }\n",
       "\n",
       "    .dataframe tbody tr th {\n",
       "        vertical-align: top;\n",
       "    }\n",
       "\n",
       "    .dataframe thead th {\n",
       "        text-align: right;\n",
       "    }\n",
       "</style>\n",
       "<table border=\"1\" class=\"dataframe\">\n",
       "  <thead>\n",
       "    <tr style=\"text-align: right;\">\n",
       "      <th></th>\n",
       "      <th>WORKER_ID</th>\n",
       "      <th>SEX</th>\n",
       "      <th>MONTHS_IN_PRIMARY_JOB</th>\n",
       "      <th>PRIMARY_APPT_SALARY</th>\n",
       "      <th>IN_UNION</th>\n",
       "      <th>SALARY_GROWTH</th>\n",
       "      <th>PERCENT_SALARY_GROWTH</th>\n",
       "      <th>NUM_SAL_ADJUSTMENTS</th>\n",
       "      <th>NUM_RECLASSES</th>\n",
       "      <th>RACE_OF_COLOR</th>\n",
       "      <th>EMPLOYMENT_STATUS</th>\n",
       "      <th>PAY_CYCLE</th>\n",
       "      <th>RACE_A</th>\n",
       "      <th>RACE_B</th>\n",
       "      <th>RACE_C</th>\n",
       "      <th>RACE_P</th>\n",
       "      <th>RACE_R</th>\n",
       "      <th>RACE_S</th>\n",
       "      <th>RACE_U</th>\n",
       "      <th>RACE_Z</th>\n",
       "      <th>MARRIED</th>\n",
       "      <th>SINGLE</th>\n",
       "      <th>WIDOWED</th>\n",
       "      <th>DIVORCED</th>\n",
       "      <th>GRANT_PAID_F</th>\n",
       "      <th>GRANT_PAID_N</th>\n",
       "      <th>GRANT_PAID_P</th>\n",
       "      <th>AGE_START</th>\n",
       "      <th>AGE_LAST</th>\n",
       "      <th>FIRST_JOB_PENN</th>\n",
       "      <th>FROM_PHILLY</th>\n",
       "      <th>US_CITIZEN</th>\n",
       "      <th>AVG_RATING</th>\n",
       "      <th>HAS_MANAGER</th>\n",
       "      <th>SEX_DIFF</th>\n",
       "      <th>RACE_DIFF</th>\n",
       "      <th>EDU_LEVEL</th>\n",
       "      <th>EDU_DIFF</th>\n",
       "      <th>JOB_GRADE</th>\n",
       "      <th>HAS_IT_JOB</th>\n",
       "      <th>VISA_MONTHS_LEFT</th>\n",
       "      <th>MARITAL_CHANGED</th>\n",
       "      <th>EDU_CHANGED</th>\n",
       "      <th>JOB_TITLE_CHANGED</th>\n",
       "    </tr>\n",
       "  </thead>\n",
       "  <tbody>\n",
       "    <tr>\n",
       "      <th>0</th>\n",
       "      <td>1</td>\n",
       "      <td>0</td>\n",
       "      <td>32</td>\n",
       "      <td>41615.00</td>\n",
       "      <td>0</td>\n",
       "      <td>1615.00</td>\n",
       "      <td>0.0403</td>\n",
       "      <td>0</td>\n",
       "      <td>0</td>\n",
       "      <td>0</td>\n",
       "      <td>1</td>\n",
       "      <td>1</td>\n",
       "      <td>0</td>\n",
       "      <td>0</td>\n",
       "      <td>1</td>\n",
       "      <td>0</td>\n",
       "      <td>0</td>\n",
       "      <td>0</td>\n",
       "      <td>0</td>\n",
       "      <td>0</td>\n",
       "      <td>0</td>\n",
       "      <td>1</td>\n",
       "      <td>0</td>\n",
       "      <td>0</td>\n",
       "      <td>0</td>\n",
       "      <td>1</td>\n",
       "      <td>0</td>\n",
       "      <td>26</td>\n",
       "      <td>28.0</td>\n",
       "      <td>1</td>\n",
       "      <td>0</td>\n",
       "      <td>1</td>\n",
       "      <td>4.0</td>\n",
       "      <td>1</td>\n",
       "      <td>1</td>\n",
       "      <td>0</td>\n",
       "      <td>1</td>\n",
       "      <td>4.0</td>\n",
       "      <td>25.0</td>\n",
       "      <td>0.0</td>\n",
       "      <td>180.0</td>\n",
       "      <td>0.0</td>\n",
       "      <td>0.0</td>\n",
       "      <td>0.0</td>\n",
       "    </tr>\n",
       "    <tr>\n",
       "      <th>1</th>\n",
       "      <td>2</td>\n",
       "      <td>0</td>\n",
       "      <td>10</td>\n",
       "      <td>32714.00</td>\n",
       "      <td>0</td>\n",
       "      <td>6714.00</td>\n",
       "      <td>0.2582</td>\n",
       "      <td>0</td>\n",
       "      <td>0</td>\n",
       "      <td>0</td>\n",
       "      <td>1</td>\n",
       "      <td>0</td>\n",
       "      <td>0</td>\n",
       "      <td>0</td>\n",
       "      <td>1</td>\n",
       "      <td>0</td>\n",
       "      <td>0</td>\n",
       "      <td>0</td>\n",
       "      <td>0</td>\n",
       "      <td>0</td>\n",
       "      <td>0</td>\n",
       "      <td>1</td>\n",
       "      <td>0</td>\n",
       "      <td>0</td>\n",
       "      <td>0</td>\n",
       "      <td>0</td>\n",
       "      <td>1</td>\n",
       "      <td>23</td>\n",
       "      <td>27.0</td>\n",
       "      <td>0</td>\n",
       "      <td>1</td>\n",
       "      <td>1</td>\n",
       "      <td>7.0</td>\n",
       "      <td>1</td>\n",
       "      <td>1</td>\n",
       "      <td>0</td>\n",
       "      <td>4</td>\n",
       "      <td>0.0</td>\n",
       "      <td>25.0</td>\n",
       "      <td>0.0</td>\n",
       "      <td>180.0</td>\n",
       "      <td>0.0</td>\n",
       "      <td>0.0</td>\n",
       "      <td>1.0</td>\n",
       "    </tr>\n",
       "    <tr>\n",
       "      <th>2</th>\n",
       "      <td>3</td>\n",
       "      <td>0</td>\n",
       "      <td>84</td>\n",
       "      <td>62636.72</td>\n",
       "      <td>0</td>\n",
       "      <td>10636.72</td>\n",
       "      <td>0.2045</td>\n",
       "      <td>0</td>\n",
       "      <td>0</td>\n",
       "      <td>0</td>\n",
       "      <td>1</td>\n",
       "      <td>0</td>\n",
       "      <td>0</td>\n",
       "      <td>0</td>\n",
       "      <td>1</td>\n",
       "      <td>0</td>\n",
       "      <td>0</td>\n",
       "      <td>0</td>\n",
       "      <td>0</td>\n",
       "      <td>0</td>\n",
       "      <td>0</td>\n",
       "      <td>1</td>\n",
       "      <td>0</td>\n",
       "      <td>0</td>\n",
       "      <td>1</td>\n",
       "      <td>0</td>\n",
       "      <td>0</td>\n",
       "      <td>39</td>\n",
       "      <td>46.0</td>\n",
       "      <td>1</td>\n",
       "      <td>1</td>\n",
       "      <td>1</td>\n",
       "      <td>10.0</td>\n",
       "      <td>1</td>\n",
       "      <td>1</td>\n",
       "      <td>0</td>\n",
       "      <td>4</td>\n",
       "      <td>2.0</td>\n",
       "      <td>26.0</td>\n",
       "      <td>1.0</td>\n",
       "      <td>180.0</td>\n",
       "      <td>0.0</td>\n",
       "      <td>0.0</td>\n",
       "      <td>0.0</td>\n",
       "    </tr>\n",
       "    <tr>\n",
       "      <th>3</th>\n",
       "      <td>4</td>\n",
       "      <td>0</td>\n",
       "      <td>115</td>\n",
       "      <td>90815.00</td>\n",
       "      <td>0</td>\n",
       "      <td>25815.00</td>\n",
       "      <td>0.3971</td>\n",
       "      <td>0</td>\n",
       "      <td>0</td>\n",
       "      <td>0</td>\n",
       "      <td>1</td>\n",
       "      <td>0</td>\n",
       "      <td>0</td>\n",
       "      <td>0</td>\n",
       "      <td>1</td>\n",
       "      <td>0</td>\n",
       "      <td>0</td>\n",
       "      <td>0</td>\n",
       "      <td>0</td>\n",
       "      <td>0</td>\n",
       "      <td>1</td>\n",
       "      <td>0</td>\n",
       "      <td>0</td>\n",
       "      <td>0</td>\n",
       "      <td>0</td>\n",
       "      <td>1</td>\n",
       "      <td>0</td>\n",
       "      <td>27</td>\n",
       "      <td>52.0</td>\n",
       "      <td>0</td>\n",
       "      <td>0</td>\n",
       "      <td>1</td>\n",
       "      <td>8.0</td>\n",
       "      <td>1</td>\n",
       "      <td>1</td>\n",
       "      <td>0</td>\n",
       "      <td>4</td>\n",
       "      <td>1.0</td>\n",
       "      <td>29.0</td>\n",
       "      <td>0.0</td>\n",
       "      <td>180.0</td>\n",
       "      <td>0.0</td>\n",
       "      <td>0.0</td>\n",
       "      <td>0.0</td>\n",
       "    </tr>\n",
       "    <tr>\n",
       "      <th>4</th>\n",
       "      <td>5</td>\n",
       "      <td>1</td>\n",
       "      <td>4</td>\n",
       "      <td>29120.00</td>\n",
       "      <td>0</td>\n",
       "      <td>0.00</td>\n",
       "      <td>0.0000</td>\n",
       "      <td>0</td>\n",
       "      <td>0</td>\n",
       "      <td>0</td>\n",
       "      <td>1</td>\n",
       "      <td>0</td>\n",
       "      <td>0</td>\n",
       "      <td>0</td>\n",
       "      <td>1</td>\n",
       "      <td>0</td>\n",
       "      <td>0</td>\n",
       "      <td>0</td>\n",
       "      <td>0</td>\n",
       "      <td>0</td>\n",
       "      <td>0</td>\n",
       "      <td>1</td>\n",
       "      <td>0</td>\n",
       "      <td>0</td>\n",
       "      <td>0</td>\n",
       "      <td>1</td>\n",
       "      <td>0</td>\n",
       "      <td>21</td>\n",
       "      <td>23.0</td>\n",
       "      <td>0</td>\n",
       "      <td>1</td>\n",
       "      <td>1</td>\n",
       "      <td>NaN</td>\n",
       "      <td>1</td>\n",
       "      <td>1</td>\n",
       "      <td>0</td>\n",
       "      <td>1</td>\n",
       "      <td>5.0</td>\n",
       "      <td>24.0</td>\n",
       "      <td>0.0</td>\n",
       "      <td>180.0</td>\n",
       "      <td>0.0</td>\n",
       "      <td>0.0</td>\n",
       "      <td>0.0</td>\n",
       "    </tr>\n",
       "  </tbody>\n",
       "</table>\n",
       "</div>"
      ],
      "text/plain": [
       "   WORKER_ID  SEX  MONTHS_IN_PRIMARY_JOB  PRIMARY_APPT_SALARY  IN_UNION  \\\n",
       "0          1    0                     32             41615.00         0   \n",
       "1          2    0                     10             32714.00         0   \n",
       "2          3    0                     84             62636.72         0   \n",
       "3          4    0                    115             90815.00         0   \n",
       "4          5    1                      4             29120.00         0   \n",
       "\n",
       "   SALARY_GROWTH  PERCENT_SALARY_GROWTH  NUM_SAL_ADJUSTMENTS  NUM_RECLASSES  \\\n",
       "0        1615.00                 0.0403                    0              0   \n",
       "1        6714.00                 0.2582                    0              0   \n",
       "2       10636.72                 0.2045                    0              0   \n",
       "3       25815.00                 0.3971                    0              0   \n",
       "4           0.00                 0.0000                    0              0   \n",
       "\n",
       "   RACE_OF_COLOR  EMPLOYMENT_STATUS  PAY_CYCLE  RACE_A  RACE_B  RACE_C  \\\n",
       "0              0                  1          1       0       0       1   \n",
       "1              0                  1          0       0       0       1   \n",
       "2              0                  1          0       0       0       1   \n",
       "3              0                  1          0       0       0       1   \n",
       "4              0                  1          0       0       0       1   \n",
       "\n",
       "   RACE_P  RACE_R  RACE_S  RACE_U  RACE_Z  MARRIED  SINGLE  WIDOWED  DIVORCED  \\\n",
       "0       0       0       0       0       0        0       1        0         0   \n",
       "1       0       0       0       0       0        0       1        0         0   \n",
       "2       0       0       0       0       0        0       1        0         0   \n",
       "3       0       0       0       0       0        1       0        0         0   \n",
       "4       0       0       0       0       0        0       1        0         0   \n",
       "\n",
       "   GRANT_PAID_F  GRANT_PAID_N  GRANT_PAID_P  AGE_START  AGE_LAST  \\\n",
       "0             0             1             0         26      28.0   \n",
       "1             0             0             1         23      27.0   \n",
       "2             1             0             0         39      46.0   \n",
       "3             0             1             0         27      52.0   \n",
       "4             0             1             0         21      23.0   \n",
       "\n",
       "   FIRST_JOB_PENN  FROM_PHILLY  US_CITIZEN  AVG_RATING  HAS_MANAGER  SEX_DIFF  \\\n",
       "0               1            0           1         4.0            1         1   \n",
       "1               0            1           1         7.0            1         1   \n",
       "2               1            1           1        10.0            1         1   \n",
       "3               0            0           1         8.0            1         1   \n",
       "4               0            1           1         NaN            1         1   \n",
       "\n",
       "   RACE_DIFF  EDU_LEVEL  EDU_DIFF  JOB_GRADE  HAS_IT_JOB  VISA_MONTHS_LEFT  \\\n",
       "0          0          1       4.0       25.0         0.0             180.0   \n",
       "1          0          4       0.0       25.0         0.0             180.0   \n",
       "2          0          4       2.0       26.0         1.0             180.0   \n",
       "3          0          4       1.0       29.0         0.0             180.0   \n",
       "4          0          1       5.0       24.0         0.0             180.0   \n",
       "\n",
       "   MARITAL_CHANGED  EDU_CHANGED  JOB_TITLE_CHANGED  \n",
       "0              0.0          0.0                0.0  \n",
       "1              0.0          0.0                1.0  \n",
       "2              0.0          0.0                0.0  \n",
       "3              0.0          0.0                0.0  \n",
       "4              0.0          0.0                0.0  "
      ]
     },
     "execution_count": 650,
     "metadata": {},
     "output_type": "execute_result"
    }
   ],
   "source": [
    "data.head()"
   ]
  },
  {
   "cell_type": "markdown",
   "metadata": {},
   "source": [
    "### Check to see which columns still have null values (and how many)"
   ]
  },
  {
   "cell_type": "code",
   "execution_count": 651,
   "metadata": {},
   "outputs": [
    {
     "name": "stdout",
     "output_type": "stream",
     "text": [
      "SALARY_GROWTH 1471\n",
      "PERCENT_SALARY_GROWTH 1471\n",
      "AVG_RATING 6415\n",
      "JOB_GRADE 79\n",
      "HAS_IT_JOB 79\n",
      "VISA_MONTHS_LEFT 79\n",
      "MARITAL_CHANGED 98\n"
     ]
    }
   ],
   "source": [
    "# Columns with null values\n",
    "for i in data.columns:\n",
    "    if data[i].isnull().sum() != 0:\n",
    "        print(i, data[i].isnull().sum())"
   ]
  },
  {
   "cell_type": "code",
   "execution_count": 652,
   "metadata": {},
   "outputs": [],
   "source": [
    "# Drop average ratings... too many null values and hard to impute.\n",
    "data = data.drop(columns = ['AVG_RATING'])"
   ]
  },
  {
   "cell_type": "code",
   "execution_count": 653,
   "metadata": {},
   "outputs": [],
   "source": [
    "# Fill in other null values with zeros.\n",
    "data = data.fillna(0)"
   ]
  },
  {
   "cell_type": "markdown",
   "metadata": {},
   "source": [
    "# Subset data"
   ]
  },
  {
   "cell_type": "code",
   "execution_count": 654,
   "metadata": {},
   "outputs": [],
   "source": [
    "# Again, focus on \"good\" hires\n",
    "data['SEPARATION_REASON'] = df['SEPARATION_REASON']\n",
    "\n",
    "data = data.loc[-data['SEPARATION_REASON'].isin(['20', '21', '22', '23', '24', '3', '4', '6', '30', '31', '80', '81'])]\n",
    "data2 = data.drop(columns = ['SEPARATION_REASON'])\n",
    "data = data2\n",
    "\n",
    "# Save a separate copy of 'data' with the worker IDs\n",
    "data_pred = data\n",
    "\n",
    "# Now, drop the worker IDs for 'data,' which is to be fed into the model for training and testing\n",
    "data = data.drop(columns = 'WORKER_ID')"
   ]
  },
  {
   "cell_type": "markdown",
   "metadata": {},
   "source": [
    "# Building models"
   ]
  },
  {
   "cell_type": "markdown",
   "metadata": {
    "colab_type": "text",
    "id": "yq_1DrPXO506"
   },
   "source": [
    "### Select training data"
   ]
  },
  {
   "cell_type": "markdown",
   "metadata": {
    "colab_type": "text",
    "id": "e38jmubzO507"
   },
   "source": [
    "Let's make sure that there is a comparable number of active vs. terminated employees."
   ]
  },
  {
   "cell_type": "code",
   "execution_count": 656,
   "metadata": {
    "colab": {},
    "colab_type": "code",
    "id": "j1KisqEZO507",
    "scrolled": false
   },
   "outputs": [
    {
     "data": {
      "text/plain": [
       "10371"
      ]
     },
     "execution_count": 656,
     "metadata": {},
     "output_type": "execute_result"
    }
   ],
   "source": [
    "len(data_pred[data_pred.EMPLOYMENT_STATUS == 1].WORKER_ID)   # 6823 terminated\n",
    "len(data_pred[data_pred.EMPLOYMENT_STATUS == 0].WORKER_ID)   # 10371 active "
   ]
  },
  {
   "cell_type": "markdown",
   "metadata": {},
   "source": [
    "Let's take a look at the length of service between overall vs. active vs. terminated"
   ]
  },
  {
   "cell_type": "code",
   "execution_count": 658,
   "metadata": {},
   "outputs": [
    {
     "data": {
      "image/png": "[encoded data removed]",
      "text/plain": [
       "<Figure size 432x288 with 1 Axes>"
      ]
     },
     "metadata": {
      "needs_background": "light"
     },
     "output_type": "display_data"
    },
    {
     "data": {
      "image/png": "[encoded data removed]",
      "text/plain": [
       "<Figure size 432x288 with 1 Axes>"
      ]
     },
     "metadata": {
      "needs_background": "light"
     },
     "output_type": "display_data"
    },
    {
     "data": {
      "image/png": "[encoded data removed]",
      "text/plain": [
       "<Figure size 432x288 with 1 Axes>"
      ]
     },
     "metadata": {
      "needs_background": "light"
     },
     "output_type": "display_data"
    }
   ],
   "source": [
    "hist = data[['MONTHS_IN_PRIMARY_JOB']].plot.hist(bins=10)\n",
    "\n",
    "hist = data[['MONTHS_IN_PRIMARY_JOB']][data['EMPLOYMENT_STATUS'] == 0].plot.hist(bins=10) \n",
    "\n",
    "hist = data[['MONTHS_IN_PRIMARY_JOB']][data['EMPLOYMENT_STATUS'] == 1].plot.hist(bins=10)"
   ]
  },
  {
   "cell_type": "code",
   "execution_count": 659,
   "metadata": {
    "colab": {
     "base_uri": "https://localhost:8080/",
     "height": 478
    },
    "colab_type": "code",
    "id": "P8HrvLneO509",
    "outputId": "055f9aa2-73e8-428a-853e-f5dc38494360",
    "scrolled": true
   },
   "outputs": [
    {
     "name": "stdout",
     "output_type": "stream",
     "text": [
      "terminated within 0.0-1.0 years (<= 11.0 months): 0.2337681371830573, percentage_sum: 0.2337681371830573\n",
      "terminated within 1.0-2.0 years (<= 23.0 months): 0.26439982412428553, percentage_sum: 0.4981679613073428\n",
      "terminated within 2.0-3.0 years (<= 35.0 months): 0.1773413454492159, percentage_sum: 0.6755093067565587\n",
      "terminated within 3.0-4.0 years (<= 47.0 months): 0.10215447750256486, percentage_sum: 0.7776637842591235\n",
      "terminated within 4.0-5.0 years (<= 59.0 months): 0.061996189359519276, percentage_sum: 0.8396599736186429\n",
      "terminated within 5.0-6.0 years (<= 71.0 months): 0.037959841711856956, percentage_sum: 0.8776198153304998\n",
      "terminated within 6.0-7.0 years (<= 83.0 months): 0.027700425032976695, percentage_sum: 0.9053202403634765\n",
      "terminated within 7.0-8.0 years (<= 95.0 months): 0.022277590502711418, percentage_sum: 0.9275978308661879\n",
      "terminated within 8.0-9.0 years (<= 107.0 months): 0.01714788216327129, percentage_sum: 0.9447457130294592\n",
      "terminated within 9.0-10.0 years (<= 119.0 months): 0.01172504763300601, percentage_sum: 0.9564707606624652\n"
     ]
    },
    {
     "data": {
      "image/png": "[encoded data removed]",
      "text/plain": [
       "<Figure size 432x288 with 1 Axes>"
      ]
     },
     "metadata": {
      "needs_background": "light"
     },
     "output_type": "display_data"
    }
   ],
   "source": [
    "x = data[['MONTHS_IN_PRIMARY_JOB']][data['EMPLOYMENT_STATUS'] == 1].\\\n",
    "    groupby(by = np.floor(data['MONTHS_IN_PRIMARY_JOB']/12)).\\\n",
    "    count().rename(columns={'MONTHS_IN_PRIMARY_JOB':'count'})\n",
    "\n",
    "ax = x.plot.bar(y='count')\n",
    " \n",
    "for c,i in enumerate(x.index):\n",
    "    per_year = x.iloc[c:(c+1)].values.sum()/x.values.sum()\n",
    "    percentage = x.iloc[:(c+1)].values.sum()/x.values.sum()\n",
    "    print('terminated within {}-{} years (<= {} months): {}'.format(i,i+1,12*(i+1)-1,per_year), 'percentage_sum: {}'.format(percentage),sep=', ')\n",
    "    if percentage>=0.95:\n",
    "        break"
   ]
  },
  {
   "cell_type": "markdown",
   "metadata": {},
   "source": [
    "Plot a correlation heat map to see what features are strongly correlated with employment status."
   ]
  },
  {
   "cell_type": "code",
   "execution_count": 660,
   "metadata": {
    "colab": {
     "base_uri": "https://localhost:8080/",
     "height": 1000
    },
    "colab_type": "code",
    "id": "qJrI5fnUO51F",
    "outputId": "a81b802d-c448-420f-ca75-5c8a95c259c8",
    "scrolled": false
   },
   "outputs": [
    {
     "data": {
      "image/png": "[encoded data removed]",
      "text/plain": [
       "<Figure size 1440x1440 with 2 Axes>"
      ]
     },
     "metadata": {},
     "output_type": "display_data"
    }
   ],
   "source": [
    "sns.set(style=\"white\")\n",
    "\n",
    "corr = data.corr()\n",
    "mask = np.zeros_like(corr, dtype=np.bool)\n",
    "mask[np.triu_indices_from(mask)] = True\n",
    "\n",
    "f, ax = plt.subplots(figsize=(20,20))\n",
    "\n",
    "cmap = sns.diverging_palette(220, 10, as_cmap=True)\n",
    "sns.heatmap(corr,  cmap=cmap, center=0,\n",
    "            square=True, linewidths=.5, cbar_kws={\"shrink\": .5})\n",
    "plt.show()"
   ]
  },
  {
   "cell_type": "markdown",
   "metadata": {
    "colab_type": "text",
    "id": "Uo5bYL9sO51M"
   },
   "source": [
    "### Split and standardize the data"
   ]
  },
  {
   "cell_type": "code",
   "execution_count": 661,
   "metadata": {},
   "outputs": [],
   "source": [
    "# transform data into array\n",
    "y = data[['EMPLOYMENT_STATUS']].values.reshape(-1)\n",
    "X = data.drop(columns='EMPLOYMENT_STATUS')\n",
    "\n",
    "# split into training and testing data\n",
    "from sklearn.model_selection import train_test_split\n",
    "\n",
    "x_train, x_test, y_train, y_test = train_test_split(X, y, test_size=0.3)\n",
    "\n",
    "# save nonstandarized copies for Random Forest\n",
    "x_train_nonstd = x_train\n",
    "x_test_nonstd = x_test"
   ]
  },
  {
   "cell_type": "code",
   "execution_count": 662,
   "metadata": {},
   "outputs": [],
   "source": [
    "binary_cols = []\n",
    "\n",
    "for i in data.columns:\n",
    "    if len(data[i].unique()) == 2:\n",
    "        binary_cols.append(i)\n",
    "        \n",
    "nonbinary = []\n",
    "\n",
    "for i in data.columns:\n",
    "    if i not in binary_cols:\n",
    "        nonbinary.append(i)"
   ]
  },
  {
   "cell_type": "code",
   "execution_count": null,
   "metadata": {},
   "outputs": [],
   "source": [
    "from sklearn.preprocessing import StandardScaler\n",
    "\n",
    "scaler = StandardScaler().fit(x_train[nonbinary])\n",
    "\n",
    "x_train[nonbinary] = scaler.transform(x_train[nonbinary])\n",
    "x_test[nonbinary] = scaler.transform(x_test[nonbinary])\n",
    "\n",
    "x_train = x_train.values\n",
    "x_test = x_test.values"
   ]
  },
  {
   "cell_type": "markdown",
   "metadata": {
    "colab_type": "text",
    "id": "liurshQ_O51I"
   },
   "source": [
    "### PCA"
   ]
  },
  {
   "cell_type": "code",
   "execution_count": 664,
   "metadata": {
    "colab": {
     "base_uri": "https://localhost:8080/",
     "height": 334
    },
    "colab_type": "code",
    "id": "gHoNcyU9O51I",
    "outputId": "2fdefc5b-4811-479d-c4fe-775191ff34d7"
   },
   "outputs": [
    {
     "data": {
      "image/png": "[encoded data removed]",
      "text/plain": [
       "<Figure size 432x288 with 1 Axes>"
      ]
     },
     "metadata": {},
     "output_type": "display_data"
    },
    {
     "name": "stdout",
     "output_type": "stream",
     "text": [
      "[0.086 0.155 0.207 0.251 0.283 0.313 0.339 0.362 0.385 0.407 0.429 0.45\n",
      " 0.47  0.49  0.51  0.53  0.549 0.569 0.588 0.607 0.627 0.646 0.665 0.684\n",
      " 0.703 0.721 0.74  0.759 0.777 0.795 0.813 0.83  0.847 0.864 0.88  0.895\n",
      " 0.91  0.924 0.936 0.948 0.959 0.968 0.977 0.984 0.99  0.995 0.999 1.\n",
      " 1.    1.    1.    1.   ]\n",
      "46 components explained over 99% variance\n"
     ]
    }
   ],
   "source": [
    "from sklearn.decomposition import PCA\n",
    "\n",
    "pca = PCA(n_components = x_train_standardized.shape[1]-1, whiten=True).fit(x_train_standardized) # \n",
    "\n",
    "ratio = pca.explained_variance_ratio_\n",
    "cum_ratio = np.array([sum(ratio[0:i+1]) for i in range(len(ratio))])\n",
    "\n",
    "plt.bar(list(range(len(ratio))),ratio)\n",
    "plt.plot(cum_ratio,'-o')\n",
    "plt.show()\n",
    "print(np.round(cum_ratio,3))\n",
    "t = 0.99\n",
    "cut_off = np.where(cum_ratio>t)[0][0]+1\n",
    "print('{} components explained over {}% variance'.format(cut_off, int(100*t)))"
   ]
  },
  {
   "cell_type": "code",
   "execution_count": 665,
   "metadata": {
    "colab": {},
    "colab_type": "code",
    "id": "QyRvwchZbPqR"
   },
   "outputs": [],
   "source": [
    "pca_final = PCA(n_components=cut_off).fit(x_train_standardized)\n",
    "x_train_pca = pca.transform(x_train_standardized)\n",
    "x_test_pca = pca.transform(x_test_standardized)"
   ]
  },
  {
   "cell_type": "markdown",
   "metadata": {
    "colab_type": "text",
    "id": "KfsKtLrMD3H_"
   },
   "source": [
    "PCA not applicable for Random Forest. Only marginally better for the rest. "
   ]
  },
  {
   "cell_type": "markdown",
   "metadata": {
    "colab_type": "text",
    "id": "EAWq0IAt5byX"
   },
   "source": [
    "# Train models, and compare their performance via CV"
   ]
  },
  {
   "cell_type": "markdown",
   "metadata": {},
   "source": [
    "Metric used to evaluate model performance: F1 score and ROC_AUC"
   ]
  },
  {
   "cell_type": "code",
   "execution_count": 666,
   "metadata": {
    "colab": {},
    "colab_type": "code",
    "id": "6GlNm3mL9IcJ"
   },
   "outputs": [],
   "source": [
    "from sklearn.linear_model import LogisticRegression\n",
    "from sklearn.svm import SVC\n",
    "from xgboost import XGBClassifier\n",
    "from sklearn.ensemble import RandomForestClassifier\n",
    "\n",
    "rfc = RandomForestClassifier(n_estimators = 100,class_weight = \"balanced\")\n",
    "lr = LogisticRegression(solver='lbfgs',max_iter=500)\n",
    "svm = SVC(gamma='auto')\n",
    "xg = XGBClassifier()\n",
    "\n",
    "models = {}\n",
    "models['Logistic Regression'] = lr\n",
    "models['Random Forest'] = rfc\n",
    "models['SVM'] = svm\n",
    "models['XGBoost'] = xg"
   ]
  },
  {
   "cell_type": "code",
   "execution_count": 667,
   "metadata": {
    "colab": {
     "base_uri": "https://localhost:8080/",
     "height": 100
    },
    "colab_type": "code",
    "id": "AiP8N_95O51T",
    "outputId": "f0e64316-e32f-46b7-e34a-b9687bdcb27a"
   },
   "outputs": [
    {
     "name": "stdout",
     "output_type": "stream",
     "text": [
      "             Algorithm  ROC AUC Mean  ROC AUC STD  Accuracy Mean  Accuracy STD\n",
      "1        Random Forest         90.73         0.77          83.99          1.06\n",
      "3              XGBoost         90.62         0.94          83.76          0.96\n",
      "2                  SVM         88.25         0.79          80.86          1.16\n",
      "0  Logistic Regression         87.17         0.83          80.71          1.03\n"
     ]
    }
   ],
   "source": [
    "from sklearn.model_selection import KFold,cross_val_score\n",
    "acc_results = []\n",
    "auc_results = []\n",
    "\n",
    "names = []\n",
    "col = ['Algorithm', 'ROC AUC Mean', 'ROC AUC STD', \n",
    "       'Accuracy Mean', 'Accuracy STD']\n",
    "df_results = pd.DataFrame(columns=col)\n",
    "\n",
    "i = 0\n",
    "for name, model in models.items():\n",
    "    kfold = KFold(n_splits=10)  # 10-fold cross-validation\n",
    "    if name == 'Random Forest':\n",
    "        x = x_train_nonstd\n",
    "    else:\n",
    "        x = x_train\n",
    "\n",
    "    cv_acc_results = cross_val_score(model, x, y_train, cv=kfold, scoring='accuracy')\n",
    "\n",
    "    cv_auc_results = cross_val_score(model, x, y_train, cv=kfold, scoring='roc_auc')\n",
    "\n",
    "    acc_results.append(cv_acc_results)\n",
    "    auc_results.append(cv_auc_results)\n",
    "\n",
    "    names.append(name)\n",
    "    df_results.loc[i] = [name,\n",
    "                         round(cv_auc_results.mean()*100, 2),\n",
    "                         round(cv_auc_results.std()*100, 2),\n",
    "                         round(cv_acc_results.mean()*100, 2),\n",
    "                         round(cv_acc_results.std()*100, 2)]\n",
    "    i += 1\n",
    "print(df_results.sort_values(by=['ROC AUC Mean'], ascending=False))"
   ]
  },
  {
   "cell_type": "markdown",
   "metadata": {},
   "source": [
    "### Plot accuracy and ROC AUC across models"
   ]
  },
  {
   "cell_type": "code",
   "execution_count": 668,
   "metadata": {
    "colab": {
     "base_uri": "https://localhost:8080/",
     "height": 481
    },
    "colab_type": "code",
    "id": "t9k3-RzT9Z3-",
    "outputId": "566b05ab-e528-47e8-956d-193e725509a9"
   },
   "outputs": [
    {
     "data": {
      "image/png": "[encoded data removed]",
      "text/plain": [
       "<Figure size 1080x504 with 1 Axes>"
      ]
     },
     "metadata": {},
     "output_type": "display_data"
    }
   ],
   "source": [
    "fig = plt.figure(figsize=(15, 7))\n",
    "fig.suptitle('Accuracy')\n",
    "ax = fig.add_subplot(111)\n",
    "plt.boxplot(acc_results)\n",
    "ax.set_xticklabels(names)\n",
    "plt.show()"
   ]
  },
  {
   "cell_type": "code",
   "execution_count": 669,
   "metadata": {
    "colab": {
     "base_uri": "https://localhost:8080/",
     "height": 481
    },
    "colab_type": "code",
    "id": "iykNMXVV_PlE",
    "outputId": "a848bab2-5b67-4fde-fc63-a148d5001910"
   },
   "outputs": [
    {
     "data": {
      "image/png": "[encoded data removed]",
      "text/plain": [
       "<Figure size 1080x504 with 1 Axes>"
      ]
     },
     "metadata": {},
     "output_type": "display_data"
    }
   ],
   "source": [
    "fig = plt.figure(figsize=(15, 7))\n",
    "fig.suptitle('ROC AUC')\n",
    "ax = fig.add_subplot(111)\n",
    "plt.boxplot(auc_results)\n",
    "ax.set_xticklabels(names)\n",
    "plt.show()"
   ]
  },
  {
   "cell_type": "markdown",
   "metadata": {
    "colab_type": "text",
    "id": "uyPcePkW5kVk"
   },
   "source": [
    "# Feed test set into models"
   ]
  },
  {
   "cell_type": "code",
   "execution_count": 670,
   "metadata": {
    "colab": {},
    "colab_type": "code",
    "id": "GuFIXQw85tIn"
   },
   "outputs": [],
   "source": [
    "import sklearn.metrics as metrics\n",
    "from sklearn.metrics import confusion_matrix, f1_score, accuracy_score, precision_score, recall_score, roc_auc_score"
   ]
  },
  {
   "cell_type": "code",
   "execution_count": 671,
   "metadata": {
    "colab": {},
    "colab_type": "code",
    "id": "2Vx739hDO51J"
   },
   "outputs": [],
   "source": [
    "def Plot_Metrics(y_test, y_pred):\n",
    "    cnf_matrix = confusion_matrix(y_test, y_pred)  \n",
    "    \n",
    "    fig, ax = plt.subplots()\n",
    "    sns.heatmap(cnf_matrix, annot=True, cmap=\"YlGnBu\" ,fmt='d', linewidths=0.25)\n",
    "    plt.title('Confusion matrix')\n",
    "    plt.ylabel('Actual label')\n",
    "    plt.xlabel('Predicted label')\n",
    "    print(\"Accuracy:\", accuracy_score(y_test, y_pred))\n",
    "    print(\"roc_auc_score:\",roc_auc_score(y_test, y_pred))\n",
    "    print(\"Precision:\", precision_score(y_test, y_pred))\n",
    "    print(\"Recall:\", recall_score(y_test, y_pred))\n",
    "    print(\"f1_score:\",f1_score(y_test, y_pred))\n",
    "    \n",
    "    \n",
    "def plot_roc(model, x_test, y_test):\n",
    "    # calculate the fpr and tpr for all thresholds of the classification\n",
    "    probs = model.predict_proba(x_test)\n",
    "    preds = probs[:,1]\n",
    "    fpr, tpr, threshold = metrics.roc_curve(y_test, preds)\n",
    "    roc_auc = metrics.auc(fpr, tpr)\n",
    "\n",
    "    plt.title('Receiver Operating Characteristic')\n",
    "    plt.plot(fpr, tpr, 'b', label = 'AUC = %0.2f' % roc_auc)\n",
    "    plt.legend(loc = 'lower right')\n",
    "    plt.plot([0, 1], [0, 1],'r--')\n",
    "    plt.xlim([0, 1])\n",
    "    plt.ylim([0, 1])\n",
    "    plt.ylabel('True Positive Rate')\n",
    "    plt.xlabel('False Positive Rate')\n",
    "    plt.show()"
   ]
  },
  {
   "cell_type": "markdown",
   "metadata": {
    "colab_type": "text",
    "id": "GDvFBkqvO51I"
   },
   "source": [
    "### Logistic Regression"
   ]
  },
  {
   "cell_type": "code",
   "execution_count": 672,
   "metadata": {
    "colab": {
     "base_uri": "https://localhost:8080/",
     "height": 384
    },
    "colab_type": "code",
    "id": "ep6prmoKO51J",
    "outputId": "e60cf7a6-a6ba-45fc-b7f6-e434a0a412e5",
    "scrolled": true
   },
   "outputs": [
    {
     "name": "stdout",
     "output_type": "stream",
     "text": [
      "Accuracy: 0.8077146733863152\n",
      "roc_auc_score: 0.7753922972366962\n",
      "Precision: 0.840531561461794\n",
      "Recall: 0.6271690629647992\n",
      "f1_score: 0.7183418512208972\n"
     ]
    },
    {
     "data": {
      "image/png": "[encoded data removed]",
      "text/plain": [
       "<Figure size 432x288 with 2 Axes>"
      ]
     },
     "metadata": {},
     "output_type": "display_data"
    }
   ],
   "source": [
    "lr = LogisticRegression(solver='lbfgs',max_iter=500).fit(x_train, y_train)\n",
    "y_pred = lr.predict(x_test)\n",
    "\n",
    "Plot_Metrics(y_test, y_pred)"
   ]
  },
  {
   "cell_type": "code",
   "execution_count": 673,
   "metadata": {},
   "outputs": [
    {
     "data": {
      "image/png": "[encoded data removed]",
      "text/plain": [
       "<Figure size 432x288 with 1 Axes>"
      ]
     },
     "metadata": {},
     "output_type": "display_data"
    }
   ],
   "source": [
    "plot_roc(lr, x_test, y_test)"
   ]
  },
  {
   "cell_type": "markdown",
   "metadata": {
    "colab_type": "text",
    "id": "5LVxHXznO51M"
   },
   "source": [
    "### Random Forest & Feature Importance"
   ]
  },
  {
   "cell_type": "code",
   "execution_count": 674,
   "metadata": {
    "colab": {
     "base_uri": "https://localhost:8080/",
     "height": 384
    },
    "colab_type": "code",
    "id": "16yT1XX1O51M",
    "outputId": "a518dfaa-0d89-4802-f1b5-bdfef5291ba3"
   },
   "outputs": [
    {
     "name": "stdout",
     "output_type": "stream",
     "text": [
      "Accuracy: 0.8495832525683272\n",
      "roc_auc_score: 0.8262744078262838\n",
      "Precision: 0.8735701384708007\n",
      "Recall: 0.7193852255825484\n",
      "f1_score: 0.7890157694399129\n"
     ]
    },
    {
     "data": {
      "image/png": "[encoded data removed]",
      "text/plain": [
       "<Figure size 432x288 with 2 Axes>"
      ]
     },
     "metadata": {},
     "output_type": "display_data"
    }
   ],
   "source": [
    "rfc = RandomForestClassifier(n_estimators = 100)\n",
    "rfc.fit(x_train_nonstd, y_train)\n",
    "\n",
    "y_pred = rfc.predict(x_test_nonstd)\n",
    "Plot_Metrics(y_test, y_pred)"
   ]
  },
  {
   "cell_type": "code",
   "execution_count": 675,
   "metadata": {},
   "outputs": [
    {
     "data": {
      "image/png": "[encoded data removed]",
      "text/plain": [
       "<Figure size 432x288 with 1 Axes>"
      ]
     },
     "metadata": {},
     "output_type": "display_data"
    }
   ],
   "source": [
    "plot_roc(rfc, x_test_nonstd, y_test)"
   ]
  },
  {
   "cell_type": "code",
   "execution_count": 676,
   "metadata": {
    "colab": {
     "base_uri": "https://localhost:8080/",
     "height": 608
    },
    "colab_type": "code",
    "id": "E7ip-mRTATl8",
    "outputId": "cdad5df9-94db-42ba-e124-d865cd2a7b7d"
   },
   "outputs": [
    {
     "data": {
      "image/png": "[encoded data removed]",
      "text/plain": [
       "<Figure size 1080x504 with 1 Axes>"
      ]
     },
     "metadata": {},
     "output_type": "display_data"
    }
   ],
   "source": [
    "f = sorted(zip(map(lambda x: round(x, 4), rfc.feature_importances_), data.drop(columns='EMPLOYMENT_STATUS').columns), \n",
    "             reverse=True)\n",
    "plt.figure(figsize=(15, 7))\n",
    "plt.title(\"Feature Importance\") \n",
    "plt.bar(range(len(f)), [x[0] for x in f]) \n",
    "plt.xticks(range(len(f)), [x[1] for x in f], rotation=90) \n",
    "plt.show() "
   ]
  },
  {
   "cell_type": "markdown",
   "metadata": {
    "colab_type": "text",
    "id": "d14Lh5bpO51O"
   },
   "source": [
    "### SVM"
   ]
  },
  {
   "cell_type": "code",
   "execution_count": 677,
   "metadata": {
    "colab": {
     "base_uri": "https://localhost:8080/",
     "height": 404
    },
    "colab_type": "code",
    "id": "-Kdnn__7O51P",
    "outputId": "322b3321-1b07-4f21-a5ce-f65809465a3e"
   },
   "outputs": [
    {
     "name": "stdout",
     "output_type": "stream",
     "text": [
      "Accuracy: 0.8150804419461136\n",
      "roc_auc_score: 0.7797529875750582\n",
      "Precision: 0.8719384184744576\n",
      "Recall: 0.6177491323748141\n",
      "f1_score: 0.7231572838073128\n"
     ]
    },
    {
     "data": {
      "image/png": "[encoded data removed]",
      "text/plain": [
       "<Figure size 432x288 with 2 Axes>"
      ]
     },
     "metadata": {},
     "output_type": "display_data"
    }
   ],
   "source": [
    "svm = SVC(gamma='auto')\n",
    "svm.fit(x_train, y_train) \n",
    "y_pred = svm.predict(x_test)\n",
    "Plot_Metrics(y_test, y_pred)"
   ]
  },
  {
   "cell_type": "markdown",
   "metadata": {
    "colab_type": "text",
    "id": "W8fFBq70Bzph"
   },
   "source": [
    "### XGBoost"
   ]
  },
  {
   "cell_type": "code",
   "execution_count": 678,
   "metadata": {
    "colab": {
     "base_uri": "https://localhost:8080/",
     "height": 384
    },
    "colab_type": "code",
    "id": "5qr3k0kKO51R",
    "outputId": "0a9ba234-8848-42c4-c231-e4ea4fc397c0"
   },
   "outputs": [
    {
     "name": "stdout",
     "output_type": "stream",
     "text": [
      "Accuracy: 0.8426051560379919\n",
      "roc_auc_score: 0.8157526082405221\n",
      "Precision: 0.8791692888609188\n",
      "Recall: 0.6926127912741695\n",
      "f1_score: 0.7748197448696617\n"
     ]
    },
    {
     "data": {
      "image/png": "[encoded data removed]",
      "text/plain": [
       "<Figure size 432x288 with 2 Axes>"
      ]
     },
     "metadata": {},
     "output_type": "display_data"
    }
   ],
   "source": [
    "xg = XGBClassifier()\n",
    "xg.fit(x_train, y_train)\n",
    "y_pred = xg.predict(x_test)\n",
    "\n",
    "Plot_Metrics(y_test, y_pred)"
   ]
  },
  {
   "cell_type": "code",
   "execution_count": 679,
   "metadata": {},
   "outputs": [
    {
     "data": {
      "image/png": "[encoded data removed]",
      "text/plain": [
       "<Figure size 432x288 with 1 Axes>"
      ]
     },
     "metadata": {},
     "output_type": "display_data"
    }
   ],
   "source": [
    "plot_roc(xg, x_test, y_test)"
   ]
  },
  {
   "cell_type": "markdown",
   "metadata": {
    "colab_type": "text",
    "id": "1HVZ552SJv7X"
   },
   "source": [
    "# Fine-tuning"
   ]
  },
  {
   "cell_type": "markdown",
   "metadata": {},
   "source": [
    "Optimize hyperparameters to improve performance."
   ]
  },
  {
   "cell_type": "code",
   "execution_count": 392,
   "metadata": {
    "colab": {},
    "colab_type": "code",
    "id": "sjSNGY1aLTw-"
   },
   "outputs": [],
   "source": [
    "from sklearn.model_selection import GridSearchCV"
   ]
  },
  {
   "cell_type": "markdown",
   "metadata": {
    "colab_type": "text",
    "id": "4dD3A2uPKUdv"
   },
   "source": [
    "### Random Forest"
   ]
  },
  {
   "cell_type": "code",
   "execution_count": 519,
   "metadata": {
    "colab": {},
    "colab_type": "code",
    "id": "ojjXPVALO51S"
   },
   "outputs": [],
   "source": [
    "rf = RandomForestClassifier()\n",
    "param_grid = {'n_estimators': [75, 100, 125, 150, 175, 200],\n",
    "              'min_samples_split':[2,4,6,8,10],\n",
    "              'min_samples_leaf': [1, 2, 3, 4]}\n",
    "\n",
    "grid = GridSearchCV(rf, param_grid = param_grid, scoring = 'f1', cv=10)\n",
    "\n",
    "g = grid.fit(x_train_nonstd, y_train)\n"
   ]
  },
  {
   "cell_type": "code",
   "execution_count": 520,
   "metadata": {
    "colab": {
     "base_uri": "https://localhost:8080/",
     "height": 186
    },
    "colab_type": "code",
    "id": "ommSbTIZCcyR",
    "outputId": "a9eba293-e50c-4df0-d6e7-9b29474e773e"
   },
   "outputs": [
    {
     "name": "stdout",
     "output_type": "stream",
     "text": [
      "best params: RandomForestClassifier(bootstrap=True, class_weight=None, criterion='gini',\n",
      "            max_depth=None, max_features='auto', max_leaf_nodes=None,\n",
      "            min_impurity_decrease=0.0, min_impurity_split=None,\n",
      "            min_samples_leaf=1, min_samples_split=6,\n",
      "            min_weight_fraction_leaf=0.0, n_estimators=175, n_jobs=None,\n",
      "            oob_score=False, random_state=None, verbose=0,\n",
      "            warm_start=False)\n",
      "best params: {'min_samples_leaf': 1, 'min_samples_split': 6, 'n_estimators': 175}\n",
      "best score: 0.7814980043230182\n"
     ]
    }
   ],
   "source": [
    "rf_opt = g.best_estimator_\n",
    "print(\"best params: \" + str(g.best_estimator_))\n",
    "print(\"best params: \" + str(g.best_params_))\n",
    "print('best score:', g.best_score_)"
   ]
  },
  {
   "cell_type": "code",
   "execution_count": 550,
   "metadata": {
    "colab": {
     "base_uri": "https://localhost:8080/",
     "height": 404
    },
    "colab_type": "code",
    "id": "OjGtgryVOCms",
    "outputId": "271100dc-3b7c-4098-a206-0336973d0d33"
   },
   "outputs": [
    {
     "name": "stdout",
     "output_type": "stream",
     "text": [
      "Accuracy: 0.8466757123473542\n",
      "roc_auc_score: 0.8225614987430568\n",
      "Precision: 0.8735562310030395\n",
      "Recall: 0.7113861386138614\n",
      "f1_score: 0.7841746248294679\n"
     ]
    },
    {
     "data": {
      "image/png": "[encoded data removed]",
      "text/plain": [
       "<Figure size 432x288 with 2 Axes>"
      ]
     },
     "metadata": {},
     "output_type": "display_data"
    }
   ],
   "source": [
    "y_pred = rf_opt.predict(x_test_nonstd)\n",
    "Plot_Metrics(y_test,y_pred)\n",
    "\n",
    "'''\n",
    "Notice: Fine tuning did NOT improve the F1 score for RFC. This is probably due to the limited parameter grid.\n",
    "If permitted more time, one should consider expanding the parameter grid to find better hyperparameters.\n",
    "'''"
   ]
  },
  {
   "cell_type": "code",
   "execution_count": 551,
   "metadata": {},
   "outputs": [
    {
     "data": {
      "image/png": "[encoded data removed]",
      "text/plain": [
       "<Figure size 432x288 with 1 Axes>"
      ]
     },
     "metadata": {},
     "output_type": "display_data"
    }
   ],
   "source": [
    "plot_roc(rf_opt, x_test_nonstd, y_test)"
   ]
  },
  {
   "cell_type": "code",
   "execution_count": 541,
   "metadata": {
    "colab": {
     "base_uri": "https://localhost:8080/",
     "height": 338
    },
    "colab_type": "code",
    "id": "B9vXNjwTrRpD",
    "outputId": "699a7d14-5410-4604-f557-97a2abf2c015"
   },
   "outputs": [
    {
     "data": {
      "text/plain": [
       "array([[<matplotlib.axes._subplots.AxesSubplot object at 0x000001D580C6DE80>]],\n",
       "      dtype=object)"
      ]
     },
     "execution_count": 541,
     "metadata": {},
     "output_type": "execute_result"
    },
    {
     "data": {
      "image/png": "[encoded data removed]",
      "text/plain": [
       "<Figure size 432x288 with 1 Axes>"
      ]
     },
     "metadata": {},
     "output_type": "display_data"
    }
   ],
   "source": [
    "pd.DataFrame(probs[:,1]).hist()"
   ]
  },
  {
   "cell_type": "markdown",
   "metadata": {
    "colab_type": "text",
    "id": "TkQ7SaLomFex"
   },
   "source": [
    "### Logistic Regression"
   ]
  },
  {
   "cell_type": "code",
   "execution_count": null,
   "metadata": {
    "colab": {},
    "colab_type": "code",
    "id": "8t0fDCnimF0t"
   },
   "outputs": [],
   "source": [
    "param_grid = {'C': np.arange(1e-03, 2, 0.01)} # hyper-parameter list to fine-tune\n",
    "grid = GridSearchCV(LogisticRegression(solver='lbfgs',max_iter=500),\n",
    "                      iid=True,\n",
    "                      return_train_score=True,\n",
    "                      param_grid=param_grid,\n",
    "                      scoring='roc_auc',\n",
    "                      cv=10)\n",
    "\n",
    "l = grid.fit(x_train, y_train)"
   ]
  },
  {
   "cell_type": "code",
   "execution_count": null,
   "metadata": {
    "colab": {
     "base_uri": "https://localhost:8080/",
     "height": 153
    },
    "colab_type": "code",
    "id": "eb9WYIiamacL",
    "outputId": "f7381027-737d-457c-c927-8396fe41c0aa"
   },
   "outputs": [],
   "source": [
    "lr_opt = l.best_estimator_\n",
    "results = l.cv_results_\n",
    "\n",
    "print(\"best params: \" + str(l.best_estimator_))\n",
    "print(\"best params: \" + str(l.best_params_))\n",
    "print('best score:', l.best_score_)"
   ]
  },
  {
   "cell_type": "code",
   "execution_count": null,
   "metadata": {
    "colab": {
     "base_uri": "https://localhost:8080/",
     "height": 404
    },
    "colab_type": "code",
    "id": "E_lKsBtVmsgz",
    "outputId": "28fb1a0e-daa2-4b85-c9bb-6acebfdd40cb"
   },
   "outputs": [],
   "source": [
    "# lr_opt.fit(x_train_standardized, y_train)\n",
    "y_pred = lr_opt.predict(x_test)\n",
    "Plot_Metrics(y_test,y_pred)"
   ]
  },
  {
   "cell_type": "code",
   "execution_count": null,
   "metadata": {
    "colab": {
     "base_uri": "https://localhost:8080/",
     "height": 54
    },
    "colab_type": "code",
    "id": "zKyNz0aPnQJH",
    "outputId": "f431fc0d-38b5-498b-df45-65e0d9f4317f"
   },
   "outputs": [],
   "source": [
    "lr_opt.fit(x_train, y_train) \n",
    "probs = lr_opt.predict_proba(x_test) \n",
    "# only keep probabilities associated with the employee leaving\n",
    "a = roc_auc_score(y_test, probs[:, 1]) \n",
    "print('AUC score: {}'.format(round(a,3)))"
   ]
  },
  {
   "cell_type": "markdown",
   "metadata": {},
   "source": [
    "# Final model"
   ]
  },
  {
   "cell_type": "markdown",
   "metadata": {},
   "source": [
    "The winner is Random Forest Classifier (without fine tuned hyperparameters)."
   ]
  },
  {
   "cell_type": "markdown",
   "metadata": {},
   "source": [
    "### Obtain probability of leaving for active employees"
   ]
  },
  {
   "cell_type": "code",
   "execution_count": 738,
   "metadata": {},
   "outputs": [],
   "source": [
    "# Recall: data_pred is the same df as 'data,' except with worker IDs\n",
    "# Extract only active employees\n",
    "active_data = data_pred[data_pred.EMPLOYMENT_STATUS == 0]\n",
    "\n",
    "# Save another copy of the df, without the worker IDs and employment status (to be fed into the model)\n",
    "x_pred = active_data.drop(columns = ['WORKER_ID', 'EMPLOYMENT_STATUS'])"
   ]
  },
  {
   "cell_type": "code",
   "execution_count": null,
   "metadata": {
    "scrolled": true
   },
   "outputs": [],
   "source": [
    "y_pred = rfc.predict(x_pred)\n",
    "probs = rfc.predict_proba(x_pred)[:,1]   # probability of leaving\n",
    "\n",
    "active_data['HIGH_RISK'] = y_pred\n",
    "active_data['PROBABILITY'] = probs"
   ]
  },
  {
   "cell_type": "markdown",
   "metadata": {},
   "source": [
    "### Identify \"high risk\" employees "
   ]
  },
  {
   "cell_type": "markdown",
   "metadata": {},
   "source": [
    "There are 54 \"high risk\" employees. Their probability of leaving is greater than 0.5."
   ]
  },
  {
   "cell_type": "code",
   "execution_count": null,
   "metadata": {
    "scrolled": true
   },
   "outputs": [],
   "source": [
    "high_risk_data = active_data[active_data.HIGH_RISK == 1]\n",
    "high_risk_data"
   ]
  }
 ],
 "metadata": {
  "colab": {
   "collapsed_sections": [
    "kDLft77rO50s",
    "4og9qrWbO50u",
    "ePsgxJj-O50w",
    "dVUI79fwO50x",
    "jqMNHjC1O50z",
    "ZLQ9zH4yO503"
   ],
   "name": "FirstModel.ipynb",
   "provenance": []
  },
  "kernelspec": {
   "display_name": "Python 3",
   "language": "python",
   "name": "python3"
  },
  "language_info": {
   "codemirror_mode": {
    "name": "ipython",
    "version": 3
   },
   "file_extension": ".py",
   "mimetype": "text/x-python",
   "name": "python",
   "nbconvert_exporter": "python",
   "pygments_lexer": "ipython3",
   "version": "3.7.3"
  }
 },
 "nbformat": 4,
 "nbformat_minor": 1
}
