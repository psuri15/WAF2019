{
 "cells": [
  {
   "cell_type": "markdown",
   "metadata": {},
   "source": [
    "# Import new AND old datasets"
   ]
  },
  {
   "cell_type": "code",
   "execution_count": 319,
   "metadata": {},
   "outputs": [],
   "source": [
    "import numpy as np\n",
    "import pandas as pd\n",
    "import matplotlib.pyplot as plt\n",
    "\n",
    "%matplotlib inline\n",
    "\n",
    "import seaborn as sns\n",
    "\n",
    "from sklearn.model_selection import train_test_split\n",
    "from sklearn.linear_model import LinearRegression\n",
    "from sklearn import metrics\n",
    "from sklearn.preprocessing import OneHotEncoder, LabelEncoder\n",
    "\n",
    "import datetime"
   ]
  },
  {
   "cell_type": "code",
   "execution_count": 815,
   "metadata": {},
   "outputs": [],
   "source": [
    "df_old = pd.read_csv('penn_hr_data.csv')\n",
    "\n",
    "df = pd.read_csv('clean_data.csv')\n",
    "\n",
    "df_month = pd.read_csv('penn_hr_monthly.csv')"
   ]
  },
  {
   "cell_type": "markdown",
   "metadata": {},
   "source": [
    "# More data cleaning"
   ]
  },
  {
   "cell_type": "code",
   "execution_count": 324,
   "metadata": {
    "scrolled": true
   },
   "outputs": [
    {
     "name": "stdout",
     "output_type": "stream",
     "text": [
      "AGE_AT_TERMINATION\n",
      "Birth_Date\n",
      "COUNTRY_OF_CITIZENSHIP\n",
      "Career_Salary_Growth\n",
      "EDUCATION_LEVEL\n",
      "EDUCATION_LEVEL_YEAR\n",
      "EMPLOYMENT_STATUS\n",
      "GRANT_PAID_F\n",
      "GRANT_PAID_N\n",
      "GRANT_PAID_P\n",
      "HOME_CITY\n",
      "HOME_DEPT_ORG\n",
      "HOME_SCHOOL_CTR\n",
      "IN_UNION\n",
      "JOBS_ACTIVE\n",
      "JOB_GRADE\n",
      "JOB_TITLE\n",
      "MARITAL_STATUS_D\n",
      "MARITAL_STATUS_M\n",
      "MARITAL_STATUS_S\n",
      "MARITAL_STATUS_W\n",
      "MONTHS_IN_PRIMARY_JOB\n",
      "Manager_Age_At_Termination\n",
      "Manager_Edu_Level\n",
      "Manager_Edu_Level_Year\n",
      "Manager_Job_Title\n",
      "Manager_Months_Managed\n",
      "Manager_OfColor\n",
      "Manager_Race_A\n",
      "Manager_Race_B\n",
      "Manager_Race_C\n",
      "Manager_Race_P\n",
      "Manager_Race_R\n",
      "Manager_Race_S\n",
      "Manager_Race_U\n",
      "Manager_Race_Z\n",
      "Manager_Sex\n",
      "Manager_YEARS_OF_SERVICE\n",
      "Number_of_Reclass\n",
      "Number_of_Sal_Adjustments\n",
      "ORIGINAL_HIRE_DATE\n",
      "PAY_CYCLE\n",
      "PRIMARY_APPT_BEGIN_DATE\n",
      "PRIMARY_APPT_SALARY\n",
      "Percent_Career_Salary_Growth\n",
      "RACE_A\n",
      "RACE_B\n",
      "RACE_C\n",
      "RACE_P\n",
      "RACE_R\n",
      "RACE_S\n",
      "RACE_U\n",
      "RACE_Z\n",
      "Race_OfColor\n",
      "SEPARATION_REASON\n",
      "SEX\n",
      "TERMINATION_DATE\n",
      "VISA\n",
      "VISA_EXPIRATION_DATE\n",
      "VOLUNTARY\n",
      "Worker_ID\n",
      "avg_rating\n"
     ]
    }
   ],
   "source": [
    "# All columns in clean_data\n",
    "for i in df.columns.sort_values():\n",
    "    print(i)"
   ]
  },
  {
   "cell_type": "code",
   "execution_count": 182,
   "metadata": {
    "scrolled": true
   },
   "outputs": [
    {
     "name": "stdout",
     "output_type": "stream",
     "text": [
      "APPT_BEGIN_DATE\n",
      "Age\n",
      "BIRTH_DATE\n",
      "CALENDAR_MONTH\n",
      "CALENDAR_YEAR\n",
      "CITY\n",
      "Calendar_Month\n",
      "Calendar_Year\n",
      "Dept_Name\n",
      "EDUCATION_LEVEL\n",
      "EMPLOYMENT_STATUS\n",
      "Education_LEVEL_DESC\n",
      "FISCAL_MONTH\n",
      "FISCAL_YEAR\n",
      "FULL_PART_TIME\n",
      "HOME_DEPT_ORG\n",
      "JOB_GRADE\n",
      "JOB_TITLE\n",
      "MARITAL_STATUS\n",
      "Months_In_Job\n",
      "Months_Of_Service\n",
      "ORIGINAL_HIRE_DATE\n",
      "PAY_CYCLE\n",
      "PRIMARY_APPT_JOB_CLASS\n",
      "PRIMARY_APPT_SALARY\n",
      "Race_Desc\n",
      "SEPARATION_REASON\n",
      "SEPERATION_REASON_DESC\n",
      "School_Name\n",
      "Sex_Desc\n",
      "TERMINATION_DATE\n",
      "WORKER_ID\n",
      "Years_In_Job\n",
      "Years_Of_Service\n",
      "ZIP\n"
     ]
    }
   ],
   "source": [
    "# All columns in monthly snapshot data\n",
    "for i in df_month.columns.sort_values():\n",
    "    print(i)"
   ]
  },
  {
   "cell_type": "markdown",
   "metadata": {},
   "source": [
    "### Drop certain columns"
   ]
  },
  {
   "cell_type": "code",
   "execution_count": 816,
   "metadata": {},
   "outputs": [],
   "source": [
    "# Omit current age -- This is calculated based on Sep, 2019; does not mean much\n",
    "df = df.drop(columns = ['CURRENT_AGE', 'Manager_Current_Age'])\n",
    "\n",
    "# Omit starting full-time salary (= primary salary - salary increase; collinear)\n",
    "df = df.drop(columns = ['Starting_Full_Time_Salary'])"
   ]
  },
  {
   "cell_type": "markdown",
   "metadata": {},
   "source": [
    "### Drop certain entries"
   ]
  },
  {
   "cell_type": "code",
   "execution_count": 817,
   "metadata": {},
   "outputs": [],
   "source": [
    "# Omit 15 entries that are on leave of absence.\n",
    "df = df[df['EMPLOYMENT_STATUS'] != 'L']\n",
    "\n",
    "# Omit 1 entry with invalid visa (19)\n",
    "# (already dropped)\n",
    "\n",
    "# Omit entries with negative months of service\n",
    "df = df[df['MONTHS_IN_PRIMARY_JOB'] >= 0]\n",
    "\n",
    "# Omit entries with nonsensical education level year\n",
    "df = df[~df['EDUCATION_LEVEL_YEAR'].isin([1887, 2020, 2105])]\n",
    "\n",
    "# Omit entries without salary values\n",
    "df = df[-df['PRIMARY_APPT_SALARY'].isnull()]"
   ]
  },
  {
   "cell_type": "markdown",
   "metadata": {},
   "source": [
    "### One hot encoding"
   ]
  },
  {
   "cell_type": "code",
   "execution_count": 818,
   "metadata": {
    "scrolled": true
   },
   "outputs": [],
   "source": [
    "# Convert T => 1 and A => 0\n",
    "le = LabelEncoder()\n",
    "\n",
    "df['EMPLOYMENT_STATUS'] = le.fit_transform(df['EMPLOYMENT_STATUS'])"
   ]
  },
  {
   "cell_type": "code",
   "execution_count": 819,
   "metadata": {},
   "outputs": [],
   "source": [
    "# Turn \"country of citizenship\" into a binary column\n",
    "# US => 0 vs. Other => 1\n",
    "df.loc[df.COUNTRY_OF_CITIZENSHIP.isnull(), 'COUNTRY_OF_CITIZENSHIP'] = 0\n",
    "df.loc[~df.COUNTRY_OF_CITIZENSHIP.isnull(), 'COUNTRY_OF_CITIZENSHIP'] = 1"
   ]
  },
  {
   "cell_type": "markdown",
   "metadata": {},
   "source": [
    "### Monthly dataset"
   ]
  },
  {
   "cell_type": "code",
   "execution_count": null,
   "metadata": {},
   "outputs": [],
   "source": [
    "''' Our main dataset spans July 1, 2009 - June 30, 2019. '''"
   ]
  },
  {
   "cell_type": "markdown",
   "metadata": {},
   "source": [
    "#### Dropping columns"
   ]
  },
  {
   "cell_type": "code",
   "execution_count": 820,
   "metadata": {},
   "outputs": [],
   "source": [
    "# Everyone is full-time\n",
    "df_month = df_month.drop(columns = ['FULL_PART_TIME'])   "
   ]
  },
  {
   "cell_type": "markdown",
   "metadata": {},
   "source": [
    "#### Dropping entries"
   ]
  },
  {
   "cell_type": "code",
   "execution_count": null,
   "metadata": {},
   "outputs": [],
   "source": [
    "# Comparing monthly dataset to original dataset\n",
    "df_old.Worker_ID[-df_old.Worker_ID.isin(df_month.WORKER_ID)].value_counts()  \n",
    "df_month.WORKER_ID[-df_month.WORKER_ID.isin(df_old.Worker_ID)].value_counts()\n",
    "\n",
    "# There are 5346 workers in original dataset that are NOT in the monthly dataset.\n",
    "# There are 14 workers in the monthly dataset that are NOT in the original dataset."
   ]
  },
  {
   "cell_type": "code",
   "execution_count": 822,
   "metadata": {},
   "outputs": [],
   "source": [
    "# Drop workers that are not in the original dataset.\n",
    "df_month = df_month[df_month.WORKER_ID.isin(df.Worker_ID)]\n",
    "\n",
    "# Keep only employment status == A or T\n",
    "df_month = df_month[df_month.EMPLOYMENT_STATUS.isin(['A', 'T'])]"
   ]
  },
  {
   "cell_type": "markdown",
   "metadata": {},
   "source": [
    "#### Create headcount df"
   ]
  },
  {
   "cell_type": "code",
   "execution_count": 823,
   "metadata": {},
   "outputs": [],
   "source": [
    "''' Separate bad vs. good hires '''\n",
    "# Subset 'employees Penn should refrain from hiring'\n",
    "df_month_bad = df_month[df_month['SEPARATION_REASON'].isin(['20', '21', '22', '23', '24'])]\n",
    "\n",
    "# Subset 'employees that Penn can do things for do keep' (i.e. excludes 'out of control' reasons)\n",
    "df_month_good = df_month[-df_month['SEPARATION_REASON'].isin(['20', '21', '22', '23', '24', '3', '4', '6', '30', '31', '80', '81'])]"
   ]
  },
  {
   "cell_type": "code",
   "execution_count": 824,
   "metadata": {},
   "outputs": [],
   "source": [
    "# Focus analysis on \"good\" hires\n",
    "\n",
    "# df for active employees\n",
    "df_headcount_A = df_month_good[df_month_good.EMPLOYMENT_STATUS == 'A'].groupby(['CALENDAR_YEAR', 'CALENDAR_MONTH']).agg({'WORKER_ID': 'count'})\n",
    "df_A_unstack = df_headcount_A.unstack()\n",
    "df_A_unstack = df_A_unstack.fillna(0)\n",
    "\n",
    "# df for terminated employees\n",
    "df_headcount_T = df_month_good[df_month_good.EMPLOYMENT_STATUS == 'T'].groupby(['CALENDAR_YEAR', 'CALENDAR_MONTH']).agg({'WORKER_ID': 'count'})\n",
    "df_T_unstack = df_headcount_T.unstack()\n",
    "df_T_unstack = df_T_unstack.fillna(0)"
   ]
  },
  {
   "cell_type": "code",
   "execution_count": null,
   "metadata": {},
   "outputs": [],
   "source": [
    "''' To access each column '''\n",
    "df_A_unstack.xs(2, level = 'CALENDAR_MONTH', axis = 1)\n",
    "\n",
    "''' To acces each row '''\n",
    "df_A_unstack.loc[2008, :]\n",
    "\n",
    "''' To access a specific entry '''\n",
    "df_T_unstack.loc[2008, ('WORKER_ID', 1)]"
   ]
  },
  {
   "cell_type": "markdown",
   "metadata": {},
   "source": [
    "#### Calculate monthly turnover rate"
   ]
  },
  {
   "cell_type": "code",
   "execution_count": 825,
   "metadata": {
    "scrolled": true
   },
   "outputs": [],
   "source": [
    "# Vectorize no. of terminated employees\n",
    "terminated = []\n",
    "\n",
    "for year in range(2008, 2020):\n",
    "    for month in range(1, 13):\n",
    "        terminated.append(df_T_unstack.loc[year, ('WORKER_ID', month)])\n",
    "        \n",
    "terminated = terminated[6:-6]"
   ]
  },
  {
   "cell_type": "code",
   "execution_count": 826,
   "metadata": {},
   "outputs": [],
   "source": [
    "# Vectorize no. of current employees\n",
    "headcount = []\n",
    "\n",
    "for year in range(2008, 2020):\n",
    "    for month in range(1, 13):\n",
    "        headcount.append(df_A_unstack.loc[year, ('WORKER_ID', month)])\n",
    "        \n",
    "headcount = headcount[5:-6]   # include one extra space to take avg(previous & current month)\n",
    "headcount[0] = headcount[1]   # since the first month is unknown, let it equal July, 2008 count"
   ]
  },
  {
   "cell_type": "code",
   "execution_count": 827,
   "metadata": {},
   "outputs": [],
   "source": [
    "# Find the avg no. of headcount per month\n",
    "def avg(prev, current):\n",
    "    return((prev + current)/2)\n",
    "\n",
    "avg_employed = []\n",
    "for i in range(0, len(headcount)-1):\n",
    "    avg_count = avg(headcount[i], headcount[i+1])\n",
    "    \n",
    "    avg_employed.append(avg_count)"
   ]
  },
  {
   "cell_type": "code",
   "execution_count": 828,
   "metadata": {},
   "outputs": [],
   "source": [
    "# Calculate the monthly turnover\n",
    "turnover = [(a/b)*100 for a,b in zip(terminated, avg_employed)]"
   ]
  },
  {
   "cell_type": "code",
   "execution_count": 829,
   "metadata": {},
   "outputs": [],
   "source": [
    "# Create a df of these values, and export as csv.\n",
    "df_ts = pd.DataFrame(columns = ['Terminated', 'Employed', 'Turnover'])\n",
    "\n",
    "df_ts['Terminated'] = terminated\n",
    "df_ts['Employed'] = headcount[1:]\n",
    "df_ts['Turnover'] = turnover\n",
    "\n",
    "df_ts.to_csv('Penn_HR_ts.csv')"
   ]
  },
  {
   "cell_type": "markdown",
   "metadata": {},
   "source": [
    "# Feature engineering"
   ]
  },
  {
   "cell_type": "code",
   "execution_count": null,
   "metadata": {},
   "outputs": [],
   "source": [
    "'''\n",
    "Keep in mind: Your target variable is EMPLOYMENT_STATUS.\n",
    "\n",
    "1 = terminated\n",
    "0 = active\n",
    "'''"
   ]
  },
  {
   "cell_type": "markdown",
   "metadata": {},
   "source": [
    "### Time till visa expires"
   ]
  },
  {
   "cell_type": "code",
   "execution_count": null,
   "metadata": {},
   "outputs": [],
   "source": [
    "# Calculate the no. of months till visa expires.\n",
    "'''\n",
    "Non foreigners & immigrants don't have a visa expiration date.\n",
    "This means that they will be in America permanently. To differentiate them from visa-holders, assign them a value = 180.\n",
    "\n",
    "Why 180? The longest visa is 10 years, so 15 years (= 180 months) is long enough to denote residents as permanent.\n",
    "'''\n",
    "\n",
    "''' !!!!!!!  Ask Bret: If not all immigrants are green card holders, they should NOT receive 180 for this feature. '''"
   ]
  },
  {
   "cell_type": "code",
   "execution_count": 830,
   "metadata": {},
   "outputs": [],
   "source": [
    "# Get today's datetime.\n",
    "today = datetime.datetime.today()\n",
    "\n",
    "visa_month = df['VISA_EXPIRATION_DATE'].apply(lambda x: str(x).split('/')[0])\n",
    "visa_year = df['VISA_EXPIRATION_DATE'].apply(lambda x: str(x)[-9:-5]) \n",
    "\n",
    "visa_month = visa_month.replace('nan', 99)\n",
    "visa_year = visa_year.replace('', 9999)\n",
    "\n",
    "visa_month = visa_month.apply(lambda x: int(x))\n",
    "visa_year = visa_year.apply(lambda x: int(x))\n",
    "\n",
    "\n",
    "# Calculate the no. of months till visa expires.\n",
    "time_left = (visa_year - today.year) * 12 + (visa_month - today.month)\n",
    "\n",
    "\n",
    "# Add as a column to the df.\n",
    "df['VISA_MONTHS_LEFT'] = time_left"
   ]
  },
  {
   "cell_type": "code",
   "execution_count": 831,
   "metadata": {},
   "outputs": [],
   "source": [
    "# Assign 180 to all workers who don't need to worry about visas.\n",
    "df.loc[df['VISA'].isin(['IM', '  ']), 'VISA_MONTHS_LEFT'] = 180"
   ]
  },
  {
   "cell_type": "markdown",
   "metadata": {},
   "source": [
    "### Age when employee started working at Penn"
   ]
  },
  {
   "cell_type": "code",
   "execution_count": 832,
   "metadata": {},
   "outputs": [],
   "source": [
    "# Put date columns in datetime format again to turn them into numbers (currently strings).\n",
    "date_cols = ['Birth_Date', 'PRIMARY_APPT_BEGIN_DATE','ORIGINAL_HIRE_DATE', 'TERMINATION_DATE']\n",
    "for col in date_cols:\n",
    "    df[col] = pd.DatetimeIndex(df[col])\n",
    "\n",
    "\n",
    "df['AGE_START'] = df['ORIGINAL_HIRE_DATE'] - df['Birth_Date']\n",
    "df['AGE_START'] = df['AGE_START'].apply(lambda x: int(np.floor(x.days/365)))"
   ]
  },
  {
   "cell_type": "markdown",
   "metadata": {},
   "source": [
    "### Age when employee last worked at Penn"
   ]
  },
  {
   "cell_type": "code",
   "execution_count": 833,
   "metadata": {},
   "outputs": [],
   "source": [
    "# For active employees, calculate their age today.\n",
    "today = datetime.datetime.today()\n",
    "\n",
    "age_today = today - df['Birth_Date']\n",
    "age_today = age_today.apply(lambda x: x.days)   # access just the \"days\" from the calculation results\n",
    "age_today = np.floor(age_today / 365)\n",
    "\n",
    "df['AGE_LAST'] = df['AGE_AT_TERMINATION'].fillna(age_today)"
   ]
  },
  {
   "cell_type": "markdown",
   "metadata": {},
   "source": [
    "### Employee edu > manager edu level"
   ]
  },
  {
   "cell_type": "code",
   "execution_count": 390,
   "metadata": {
    "scrolled": false
   },
   "outputs": [
    {
     "name": "stdout",
     "output_type": "stream",
     "text": [
      "Associate Degree :  F \n",
      "Bachelor's Degree :  G \n",
      "Doctor of Philosophy (Ph.D.) :  K \n",
      "High School diploma or equivalent :  C \n",
      "Master's Degree :  H \n",
      "Medical Doctorate (M.D., D.D.S., D.V.M., V.M.D.) :  I \n",
      "No academic credentials :  B \n",
      "Other :  L \n",
      "Other doctorate (Dr of Educ., Dr of Sct., LL.D.) :  J \n",
      "Some college :  E \n",
      "Trade certificate :  D \n",
      "nan :    \n"
     ]
    }
   ],
   "source": [
    "# Dictionary for education levels\n",
    "edu_dict = dict(zip(df_old['EDUCATION_LEVEL_DESC'].apply(lambda x: str(x)), df_old['EDUCATION_LEVEL']))\n",
    "\n",
    "for key in sorted(edu_dict.keys()):\n",
    "    print(key, ': ', edu_dict[key])"
   ]
  },
  {
   "cell_type": "code",
   "execution_count": null,
   "metadata": {},
   "outputs": [],
   "source": [
    "'''\n",
    "Education level ranking: \n",
    "No academic < HS = nan < some college = trade < Associate < BA < MA < Doctorate (PhD, MD, JD, other)\n",
    "\n",
    "# Source considered in ranking:\n",
    "https://www.bls.gov/careeroutlook/2018/article/postsecondary-outlook.htm\n",
    "'''"
   ]
  },
  {
   "cell_type": "code",
   "execution_count": null,
   "metadata": {},
   "outputs": [],
   "source": [
    "# Map categorical values onto numeric values for employee & manager education levels\n",
    "replace_map = {'EDUCATION_LEVEL': {'B': 1, 'C': 2, 'E': 3, 'D': 3, 'F': 4, 'G': 5, 'H': 6, \n",
    "                                   'K': 7, 'I': 7, 'L': 7, 'J': 7}}\n",
    "\n",
    "edu_numeric = df.replace(replace_map, inplace = False)   # saves the whole df copy\n",
    "edu_numeric = edu_numeric['EDUCATION_LEVEL'].fillna(2)   # converts edu_numeric from df into vector\n",
    "\n",
    "df['EDU_EMPLOYEE'] = edu_numeric\n",
    "\n",
    "\n",
    "# Repeat mapping for manager education level\n",
    "replace_map = {'Manager_Edu_Level': {'B': 1, 'C': 2, 'E': 3, 'D': 3, 'F': 4, 'G': 5, 'H': 6, \n",
    "                                   'K': 7, 'I': 7, 'L': 7, 'J': 7}}\n",
    "\n",
    "m_edu_numeric = df.replace(replace_map, inplace = False)   # saves the whole df copy\n",
    "m_edu_numeric = m_edu_numeric['Manager_Edu_Level'].fillna(2)   # converts edu_numeric from df into vector\n",
    "\n",
    "df['EDU_MANAGER'] = m_edu_numeric"
   ]
  },
  {
   "cell_type": "code",
   "execution_count": 851,
   "metadata": {
    "scrolled": true
   },
   "outputs": [],
   "source": [
    "# Compare employee vs. manager levels. If employee level > manager level, assign 1 for a dummy.\n",
    "df['EDU_DIFF'] = df['EDU_EMPLOYEE'] - df['EDU_MANAGER']\n",
    "\n",
    "for index, difference in enumerate(df.EDU_DIFF):\n",
    "    \n",
    "    if (difference > 0):\n",
    "        df.loc[index, 'EDU_DIFF'] = 1\n",
    "        \n",
    "    else:\n",
    "        df.loc[index, 'EDU_DIFF'] = 0"
   ]
  },
  {
   "cell_type": "markdown",
   "metadata": {},
   "source": [
    "### Change in marital status during employment"
   ]
  },
  {
   "cell_type": "code",
   "execution_count": 854,
   "metadata": {},
   "outputs": [
    {
     "data": {
      "text/plain": [
       "S    440478\n",
       "M    246885\n",
       "D     10488\n",
       "W        61\n",
       "Name: MARITAL_STATUS, dtype: int64"
      ]
     },
     "execution_count": 854,
     "metadata": {},
     "output_type": "execute_result"
    }
   ],
   "source": [
    "df_month.MARITAL_STATUS.value_counts()"
   ]
  },
  {
   "cell_type": "code",
   "execution_count": 885,
   "metadata": {},
   "outputs": [],
   "source": [
    "# Find workers who experienced a change in marital status during employment period\n",
    "worker_unique = df_month.WORKER_ID.unique()\n",
    "\n",
    "workers_marriage_changed = []\n",
    "\n",
    "for worker in worker_unique:\n",
    "    status = df_month.MARITAL_STATUS[df_month.WORKER_ID == worker]\n",
    "    \n",
    "    if len(status.unique()) > 1:\n",
    "        workers_marriage_changed.append(worker)"
   ]
  },
  {
   "cell_type": "code",
   "execution_count": 894,
   "metadata": {},
   "outputs": [],
   "source": [
    "df['MARRIAGE_CHANGED'] = np.nan\n",
    "\n",
    "for index, value in enumerate(df.Worker_ID):\n",
    "    \n",
    "    if (value in workers_marriage_changed):\n",
    "        df.loc[index, 'MARRIAGE_CHANGED'] = 1\n",
    "        \n",
    "    else:\n",
    "        df.loc[index, 'MARRIAGE_CHANGED'] = 0"
   ]
  },
  {
   "cell_type": "markdown",
   "metadata": {},
   "source": [
    "### Change in educational attainment during employment"
   ]
  },
  {
   "cell_type": "code",
   "execution_count": null,
   "metadata": {},
   "outputs": [],
   "source": []
  },
  {
   "cell_type": "markdown",
   "metadata": {},
   "source": [
    "### Change in job grade during employment"
   ]
  },
  {
   "cell_type": "code",
   "execution_count": null,
   "metadata": {},
   "outputs": [],
   "source": []
  },
  {
   "cell_type": "code",
   "execution_count": null,
   "metadata": {},
   "outputs": [],
   "source": [
    "'''\n",
    "There are jobs that \n",
    "1) Small earning. Grow a ton.\n",
    "2) High earning. No growth.\n",
    "3) Medium earning. No growth.\n",
    "\n",
    "These probably have correlations with job titles tho (e.g. professors)\n",
    "'''\n",
    "\n",
    "'''\n",
    "Econ study: Heterogeneous taste\n",
    "- Males prefer jobs with high percentage growth (even if lower starting salary) + more open to risk (of being fired).\n",
    "- Women prefer job with high starting salary + flexbility (i.e. the possibilty for part-time work) + less open to risk.\n",
    "'''\n",
    "\n",
    "'''\n",
    "Calculate the proportion of gender, racial, etc. diveristy in the center. See if...\n",
    "e.g.) If there are more women in the workplace, women are more likely to stay.\n",
    "'''"
   ]
  },
  {
   "cell_type": "markdown",
   "metadata": {},
   "source": [
    "# Normalize features!!!"
   ]
  },
  {
   "cell_type": "code",
   "execution_count": null,
   "metadata": {},
   "outputs": [],
   "source": []
  },
  {
   "cell_type": "markdown",
   "metadata": {},
   "source": [
    "# Subset data"
   ]
  },
  {
   "cell_type": "markdown",
   "metadata": {},
   "source": [
    "### Bad vs. Good hires"
   ]
  },
  {
   "cell_type": "code",
   "execution_count": null,
   "metadata": {},
   "outputs": [],
   "source": [
    "# Non-voluntary reasons:\n",
    "'''\n",
    "### Bad hires\n",
    "20 :  Not Qualified\n",
    "21 :  Excessive Unexcused Absence or Tardiness\n",
    "22 :  Unsatisfactory Performance\n",
    "23 :  Misconduct or Violation of Rules\n",
    "24 :  Other Termination for Cause\n",
    "\n",
    "### Out of Penn control / concern\n",
    "3 :  Lack of Funding\n",
    "4 :  Completion of Contract\n",
    "6 :  End of Appointment\n",
    "\n",
    "30 :  Normal Retirement\n",
    "31 :  Early Retirement\n",
    "\n",
    "80 :  Death\n",
    "81 :  Death with Benefits Eligible Dependent(s)\n",
    "'''\n",
    "\n",
    "# Voluntary reasons:\n",
    "'''\n",
    "33 :  Auto Termination\n",
    "\n",
    "40 :  Accepted New Job (Academic)\n",
    "41 :  Accepted New Job (Non-Academic)\n",
    "\n",
    "42 :  Marriage or Domestic Obligations\n",
    "43 :  Dissatisfied with Pay\n",
    "44 :  Personal Reasons\n",
    "45 :  Quit without Notice\n",
    "46 :  Relocation\n",
    "47 :  Returned to School\n",
    "48 :  Dissatisfied with Working Conditions\n",
    "\n",
    "60 :  Medical Necessity\n",
    "'''"
   ]
  },
  {
   "cell_type": "code",
   "execution_count": null,
   "metadata": {},
   "outputs": [],
   "source": [
    "# Subset 'employees Penn should refrain from hiring'\n",
    "df_bad = df[df['SEPARATION_REASON'].isin(['20', '21', '22', '23', '24'])]\n",
    "df_bad.shape   # 710 entries\n",
    "\n",
    "# Subset 'employees that Penn can do things for do keep' (i.e. excludes 'out of control' reasons)\n",
    "df_good = df[-df['SEPARATION_REASON'].isin(['20', '21', '22', '23', '24', '3', '4', '6', '30', '31', '80', '81'])]\n",
    "df_good.shape   # 17134 entries"
   ]
  },
  {
   "cell_type": "markdown",
   "metadata": {},
   "source": [
    "### School centers"
   ]
  },
  {
   "cell_type": "code",
   "execution_count": null,
   "metadata": {},
   "outputs": [],
   "source": [
    "center_dict = dict(zip(df_old['HOME_SCHOOL_CTR'], df_old['School_Name']))\n",
    "\n",
    "for key in sorted(center_dict.keys()):\n",
    "    print(key, ': ', center_dict[key])\n",
    "    \n",
    "print(len(center_dict))   # 35 centers"
   ]
  },
  {
   "cell_type": "code",
   "execution_count": null,
   "metadata": {},
   "outputs": [],
   "source": [
    "# How many workers in each school center? Their avg length of service?\n",
    "                                        \n",
    "df_good.groupby('HOME_SCHOOL_CTR').agg({'Worker_ID': 'count',\n",
    "                                        'MONTHS_IN_PRIMARY_JOB': ['mean', 'min', 'max', 'std']}).sort_values(by = [('Worker_ID', 'count')],\n",
    "                                                                                                            ascending = False)"
   ]
  },
  {
   "cell_type": "code",
   "execution_count": null,
   "metadata": {},
   "outputs": [],
   "source": []
  },
  {
   "cell_type": "code",
   "execution_count": null,
   "metadata": {},
   "outputs": [],
   "source": []
  },
  {
   "cell_type": "code",
   "execution_count": null,
   "metadata": {},
   "outputs": [],
   "source": []
  },
  {
   "cell_type": "markdown",
   "metadata": {},
   "source": [
    "### Age vs. Length of employment"
   ]
  },
  {
   "cell_type": "code",
   "execution_count": null,
   "metadata": {},
   "outputs": [],
   "source": [
    "'''\n",
    "Hypothesis: \n",
    "\n",
    "Length of employment gets shorter with younger generations, who are looking for specific traits in a job and are ready \n",
    "to leave if those expectations are not fulfilled.\n",
    "'''"
   ]
  },
  {
   "cell_type": "code",
   "execution_count": 58,
   "metadata": {},
   "outputs": [
    {
     "name": "stdout",
     "output_type": "stream",
     "text": [
      "Estimated intercept is [-13.00814051]\n",
      "Estimated coefficients are [[0.4706929]]\n"
     ]
    }
   ],
   "source": [
    "# Split the data into training set and test set\n",
    "df_terminated = df[df['EMPLOYMENT_STATUS'] == 'T']\n",
    "\n",
    "x = df_terminated[['CURRENT_AGE']].values\n",
    "y = df_terminated['YEARS_OF_SERVICE'].values.reshape(-1, 1)   # -1 = as many rows as needed; 1 column\n",
    "\n",
    "x_train, x_test, y_train, y_test = train_test_split(x, y, test_size = 0.2, random_state = 11031998)   # setting random seed\n",
    "\n",
    "\n",
    "# Training the model\n",
    "regressor = LinearRegression()   # importing LinearRegression class\n",
    "regressor.fit(x_train, y_train)   # train the algorithm\n",
    "\n",
    "\n",
    "# Retrieve intercet and coefficient\n",
    "print('Estimated intercept is', regressor.intercept_)\n",
    "print('Estimated coefficients are', regressor.coef_)"
   ]
  },
  {
   "cell_type": "code",
   "execution_count": 66,
   "metadata": {
    "scrolled": true
   },
   "outputs": [
    {
     "name": "stdout",
     "output_type": "stream",
     "text": [
      "      Actual  Predicted\n",
      "0         23  12.879969\n",
      "1         53  21.352441\n",
      "2          4   6.290268\n",
      "3          4   1.112647\n",
      "4          2   2.054032\n",
      "5          4   4.407497\n",
      "6          7   8.173040\n",
      "7          2  -0.299432\n",
      "8          3   6.760961\n",
      "9         10   3.466111\n",
      "10         3   1.583339\n",
      "11         4  21.352441\n",
      "12         0  14.292048\n",
      "13         0  10.055812\n",
      "14         1   5.819576\n",
      "15        47  31.236992\n",
      "16         0  10.997197\n",
      "17         4  -0.770125\n",
      "18         0   6.760961\n",
      "19        14   7.702347\n",
      "20         0   2.524725\n",
      "21         2  15.704126\n",
      "22         0   4.407497\n",
      "23         0   4.407497\n",
      "24         3  15.233434\n",
      "25         9  16.645512\n",
      "26        32  20.881748\n",
      "27         1   4.407497\n",
      "28         1   4.407497\n",
      "29         6   3.466111\n",
      "...      ...        ...\n",
      "1767      41  26.059370\n",
      "1768       3   3.466111\n",
      "1769       3   0.641954\n",
      "1770       0   7.231654\n",
      "1771       0   2.524725\n",
      "1772      18  17.586898\n",
      "1773       4   2.524725\n",
      "1774       0  10.526505\n",
      "1775       2   1.583339\n",
      "1776       0  -1.711511\n",
      "1777       1   3.936804\n",
      "1778      31  27.471449\n",
      "1779       0  18.528284\n",
      "1780       6   7.231654\n",
      "1781      32  18.057591\n",
      "1782       2   1.583339\n",
      "1783       1   2.054032\n",
      "1784       5   3.466111\n",
      "1785       1   7.231654\n",
      "1786       5   2.524725\n",
      "1787       2   0.641954\n",
      "1788       0  -0.299432\n",
      "1789       1   2.054032\n",
      "1790       0  -2.652897\n",
      "1791       3   3.466111\n",
      "1792       6   6.290268\n",
      "1793       0   1.583339\n",
      "1794      23  19.469670\n",
      "1795       1   5.348883\n",
      "1796       5   2.524725\n",
      "\n",
      "[1797 rows x 2 columns]\n",
      "RMSE of this model is 41.811030451663065\n",
      "RMSE is about 608.2084423854043 % of the average of y-values.\n",
      "The R-squared value is 0.506707996713659\n"
     ]
    }
   ],
   "source": [
    "# How accurate is this regression?\n",
    "y_pred = regressor.predict(x_test)\n",
    "\n",
    "# Compare prdicted vs. actual\n",
    "df_compare = pd.DataFrame({'Actual': y_test.flatten(), 'Predicted': y_pred.flatten()})\n",
    "print(df_compare)\n",
    "\n",
    "# RMSE\n",
    "RMSE = metrics.mean_squared_error(y_test, y_pred)\n",
    "print('RMSE of this model is', RMSE)\n",
    "\n",
    "# Let's compare RMSE to the mean\n",
    "y_mean = df_terminated['YEARS_OF_SERVICE'].mean()\n",
    "print('RMSE is about', (RMSE / y_mean)*100, '% of the average of y-values.')\n",
    "\n",
    "# R-squared value\n",
    "R_sq = regressor.score(x_test, y_test)\n",
    "print('The R-squared value is', R_sq)"
   ]
  },
  {
   "cell_type": "code",
   "execution_count": 69,
   "metadata": {},
   "outputs": [
    {
     "data": {
      "image/png": "[encoded data removed]",
      "text/plain": [
       "<Figure size 432x288 with 1 Axes>"
      ]
     },
     "metadata": {
      "needs_background": "light"
     },
     "output_type": "display_data"
    }
   ],
   "source": [
    "# Residuals\n",
    "x_plot = plt.scatter(y_pred, (y_pred - y_test))\n",
    "\n",
    "'''\n",
    "Clearly, there is heteroscedasticty present in the data. There is uncaptured structure. \n",
    "We should try polynomial regression.\n",
    "'''"
   ]
  },
  {
   "cell_type": "code",
   "execution_count": null,
   "metadata": {},
   "outputs": [],
   "source": []
  }
 ],
 "metadata": {
  "kernelspec": {
   "display_name": "Python 3",
   "language": "python",
   "name": "python3"
  },
  "language_info": {
   "codemirror_mode": {
    "name": "ipython",
    "version": 3
   },
   "file_extension": ".py",
   "mimetype": "text/x-python",
   "name": "python",
   "nbconvert_exporter": "python",
   "pygments_lexer": "ipython3",
   "version": "3.7.3"
  }
 },
 "nbformat": 4,
 "nbformat_minor": 2
}
