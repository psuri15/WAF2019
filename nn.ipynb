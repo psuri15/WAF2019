{
  "nbformat": 4,
  "nbformat_minor": 0,
  "metadata": {
    "colab": {
      "name": "nn.ipynb",
      "provenance": [],
      "collapsed_sections": []
    },
    "kernelspec": {
      "name": "python3",
      "display_name": "Python 3"
    },
    "accelerator": "GPU"
  },
  "cells": [
    {
      "cell_type": "code",
      "metadata": {
        "id": "QeAmUFn_VCFK",
        "colab_type": "code",
        "colab": {}
      },
      "source": [
        "import pandas as pd\n",
        "import numpy as np\n",
        "data = pd.read_csv('final_data.csv')"
      ],
      "execution_count": 0,
      "outputs": []
    },
    {
      "cell_type": "code",
      "metadata": {
        "id": "qMbtmwR6VTKa",
        "colab_type": "code",
        "outputId": "68556174-71f3-4a21-c33b-271da04a57a0",
        "colab": {
          "base_uri": "https://localhost:8080/",
          "height": 99
        }
      },
      "source": [
        "import tensorflow as tf\n",
        "import keras\n",
        "#cpu - gpu configuration\n",
        "config = tf.ConfigProto(device_count = {'GPU': 1 , 'CPU': 1} ) #max: 1 gpu, 56 cpu\n",
        "sess = tf.Session(config=config) \n",
        "keras.backend.set_session(sess)"
      ],
      "execution_count": 0,
      "outputs": [
        {
          "output_type": "display_data",
          "data": {
            "text/html": [
              "<p style=\"color: red;\">\n",
              "The default version of TensorFlow in Colab will soon switch to TensorFlow 2.x.<br>\n",
              "We recommend you <a href=\"https://www.tensorflow.org/guide/migrate\" target=\"_blank\">upgrade</a> now \n",
              "or ensure your notebook will continue to use TensorFlow 1.x via the <code>%tensorflow_version 1.x</code> magic:\n",
              "<a href=\"https://colab.research.google.com/notebooks/tensorflow_version.ipynb\" target=\"_blank\">more info</a>.</p>\n"
            ],
            "text/plain": [
              "<IPython.core.display.HTML object>"
            ]
          },
          "metadata": {
            "tags": []
          }
        },
        {
          "output_type": "stream",
          "text": [
            "Using TensorFlow backend.\n"
          ],
          "name": "stderr"
        }
      ]
    },
    {
      "cell_type": "code",
      "metadata": {
        "id": "wz9rXMjiVnY0",
        "colab_type": "code",
        "colab": {}
      },
      "source": [
        "from sklearn.model_selection import train_test_split\n",
        "from sklearn.preprocessing import StandardScaler\n",
        "\n",
        "x_train, x_test, y_train, y_test = train_test_split(np.asarray(data.drop(columns='label')), np.asarray(pd.get_dummies(data['label'])), test_size=0.3)\n",
        "\n",
        "scaler = StandardScaler()\n",
        "scaler.fit(x_train)\n",
        "x_train = scaler.transform(x_train)\n",
        "x_test = scaler.transform(x_test)"
      ],
      "execution_count": 0,
      "outputs": []
    },
    {
      "cell_type": "code",
      "metadata": {
        "id": "5e7JYnZpVcEG",
        "colab_type": "code",
        "outputId": "719515f5-aafe-4da8-9c4b-4ab0f6f76706",
        "colab": {
          "base_uri": "https://localhost:8080/",
          "height": 732
        }
      },
      "source": [
        "from keras.models import Sequential\n",
        "from keras.layers import Dense, Activation, Dropout, Flatten\n",
        "\n",
        "model = Sequential()\n",
        "model.add(Dense(16, activation = 'relu', input_dim = x_train[0].shape[0]))\n",
        "model.add(Dense(32, activation = 'relu'))\n",
        "model.add(Dense(2, activation = 'softmax'))\n",
        "model.compile(optimizer='sgd',\n",
        "              loss='categorical_crossentropy',\n",
        "              metrics = ['accuracy'])\n",
        "model.fit(x_train, y_train, epochs=20)\n",
        "\n",
        "test_accuracy = model.evaluate(x_test,y_test)[1]\n",
        "\n",
        "print(test_accuracy)"
      ],
      "execution_count": 0,
      "outputs": [
        {
          "output_type": "stream",
          "text": [
            "Epoch 1/20\n",
            "11132/11132 [==============================] - 2s 159us/step - loss: 0.5403 - acc: 0.7423\n",
            "Epoch 2/20\n",
            "11132/11132 [==============================] - 1s 132us/step - loss: 0.4780 - acc: 0.7814\n",
            "Epoch 3/20\n",
            "11132/11132 [==============================] - 1s 129us/step - loss: 0.4645 - acc: 0.7882\n",
            "Epoch 4/20\n",
            "11132/11132 [==============================] - 1s 129us/step - loss: 0.4584 - acc: 0.7913\n",
            "Epoch 5/20\n",
            "11132/11132 [==============================] - 1s 128us/step - loss: 0.4546 - acc: 0.7929\n",
            "Epoch 6/20\n",
            "11132/11132 [==============================] - 1s 131us/step - loss: 0.4514 - acc: 0.7947\n",
            "Epoch 7/20\n",
            "11132/11132 [==============================] - 1s 131us/step - loss: 0.4493 - acc: 0.7968\n",
            "Epoch 8/20\n",
            "11132/11132 [==============================] - 1s 129us/step - loss: 0.4474 - acc: 0.7954\n",
            "Epoch 9/20\n",
            "11132/11132 [==============================] - 1s 129us/step - loss: 0.4455 - acc: 0.7973\n",
            "Epoch 10/20\n",
            "11132/11132 [==============================] - 1s 128us/step - loss: 0.4443 - acc: 0.7987\n",
            "Epoch 11/20\n",
            "11132/11132 [==============================] - 1s 126us/step - loss: 0.4429 - acc: 0.7972\n",
            "Epoch 12/20\n",
            "11132/11132 [==============================] - 1s 132us/step - loss: 0.4415 - acc: 0.7986\n",
            "Epoch 13/20\n",
            "11132/11132 [==============================] - 1s 129us/step - loss: 0.4404 - acc: 0.7994\n",
            "Epoch 14/20\n",
            "11132/11132 [==============================] - 1s 128us/step - loss: 0.4392 - acc: 0.7989\n",
            "Epoch 15/20\n",
            "11132/11132 [==============================] - 1s 128us/step - loss: 0.4383 - acc: 0.7994\n",
            "Epoch 16/20\n",
            "11132/11132 [==============================] - 1s 129us/step - loss: 0.4370 - acc: 0.7999\n",
            "Epoch 17/20\n",
            "11132/11132 [==============================] - 1s 127us/step - loss: 0.4363 - acc: 0.8009\n",
            "Epoch 18/20\n",
            "11132/11132 [==============================] - 1s 127us/step - loss: 0.4350 - acc: 0.8004\n",
            "Epoch 19/20\n",
            "11132/11132 [==============================] - 1s 131us/step - loss: 0.4343 - acc: 0.8016\n",
            "Epoch 20/20\n",
            "11132/11132 [==============================] - 1s 126us/step - loss: 0.4332 - acc: 0.8016\n",
            "4772/4772 [==============================] - 0s 81us/step\n",
            "0.797569153394803\n"
          ],
          "name": "stdout"
        }
      ]
    },
    {
      "cell_type": "code",
      "metadata": {
        "id": "Md_70GRoWDMz",
        "colab_type": "code",
        "colab": {}
      },
      "source": [
        ""
      ],
      "execution_count": 0,
      "outputs": []
    }
  ]
}