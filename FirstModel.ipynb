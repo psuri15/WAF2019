{
 "cells": [
  {
   "cell_type": "code",
   "execution_count": 1,
   "metadata": {},
   "outputs": [],
   "source": [
    "import pandas as pd\n",
    "import numpy as np\n",
    "import datetime\n",
    "import matplotlib.pyplot as plt\n",
    "import seaborn as sns\n",
    "from dateutil.relativedelta import relativedelta\n",
    "pd.set_option('display.max_columns', None)"
   ]
  },
  {
   "cell_type": "code",
   "execution_count": 2,
   "metadata": {},
   "outputs": [
    {
     "name": "stderr",
     "output_type": "stream",
     "text": [
      "/Users/yang/anaconda3/lib/python3.6/site-packages/IPython/core/interactiveshell.py:2785: DtypeWarning: Columns (27,31) have mixed types. Specify dtype option on import or set low_memory=False.\n",
      "  interactivity=interactivity, compiler=compiler, result=result)\n"
     ]
    }
   ],
   "source": [
    "data = pd.read_csv('clean_data.csv')"
   ]
  },
  {
   "cell_type": "markdown",
   "metadata": {},
   "source": [
    "## Feature Engineering"
   ]
  },
  {
   "cell_type": "markdown",
   "metadata": {},
   "source": [
    "#### To keep things simple first:\n",
    "#### 1.remove manager and rating data"
   ]
  },
  {
   "cell_type": "code",
   "execution_count": 3,
   "metadata": {},
   "outputs": [],
   "source": [
    "data = data.drop(columns = ['Manager_Months_Managed', 'Manager_Current_Age','Manager_Age_At_Termination', 'Manager_Edu_Level',\\\n",
    "                            'Manager_Edu_Level_Year', 'Manager_YEARS_OF_SERVICE', 'Manager_OfColor','Manager_Job_Title',\\\n",
    "                            'Manager_Sex_F', 'Manager_Sex_M', 'Manager_Race_A', 'Manager_Race_B','Manager_Race_C', \\\n",
    "                            'Manager_Race_P', 'Manager_Race_R', 'Manager_Race_S','Manager_Race_U', 'Manager_Race_Z'])\n",
    "data = data.drop(columns = 'avg_rating')"
   ]
  },
  {
   "cell_type": "markdown",
   "metadata": {},
   "source": [
    "#### 2. remove home department data"
   ]
  },
  {
   "cell_type": "code",
   "execution_count": 4,
   "metadata": {},
   "outputs": [],
   "source": [
    "data = data.drop(columns = ['HOME_DEPT_ORG', 'HOME_SCHOOL_CTR'])"
   ]
  },
  {
   "cell_type": "markdown",
   "metadata": {},
   "source": [
    "#### 3. Remove Race_OfColor, JOB_TITLE and SEPARATION_REASON"
   ]
  },
  {
   "cell_type": "code",
   "execution_count": 5,
   "metadata": {},
   "outputs": [],
   "source": [
    "data = data.drop(columns = ['Race_OfColor','JOB_TITLE', 'SEPARATION_REASON'])"
   ]
  },
  {
   "cell_type": "markdown",
   "metadata": {},
   "source": [
    "#### 4. Make new age columns"
   ]
  },
  {
   "cell_type": "markdown",
   "metadata": {},
   "source": [
    "Age/Time related columns\n",
    "'Birth_Date', 'AGE_AT_TERMINATION', 'CURRENT_AGE', 'PRIMARY_APPT_BEGIN_DATE', 'MONTHS_IN_PRIMARY_JOB', \n",
    "'ORIGINAL_HIRE_DATE', 'TERMINATION_DATE'"
   ]
  },
  {
   "cell_type": "markdown",
   "metadata": {},
   "source": [
    "1.Age_start: age when started to work at Penn: ORIGINAL_HIRE_DATE - Birth_Date <br>\n",
    "2.Age_last: AGE_AT_TERMINATION or CURRENT_AGE if active <br>\n",
    "3.MONTHS_IN_PRIMARY_JOB"
   ]
  },
  {
   "cell_type": "markdown",
   "metadata": {},
   "source": [
    "Remove other Age/Time related columns other than the three above. <br>\n",
    "TO GENERALIZE???: Should calculate using Date columns instead of using given age columns"
   ]
  },
  {
   "cell_type": "code",
   "execution_count": 6,
   "metadata": {},
   "outputs": [],
   "source": [
    "date_cols = ['Birth_Date', 'PRIMARY_APPT_BEGIN_DATE','ORIGINAL_HIRE_DATE', 'TERMINATION_DATE']\n",
    "for col in date_cols:\n",
    "    data[col] = pd.DatetimeIndex(data[col])"
   ]
  },
  {
   "cell_type": "code",
   "execution_count": 7,
   "metadata": {},
   "outputs": [],
   "source": [
    "# today = datetime.date.today()"
   ]
  },
  {
   "cell_type": "code",
   "execution_count": 8,
   "metadata": {},
   "outputs": [],
   "source": [
    "# age = np.zeros(data.shape[0])\n",
    "# for i in range(len(age)):\n",
    "#     age[i] = relativedelta(data['ORIGINAL_HIRE_DATE'].iloc[i], data['Birth_Date'].iloc[i]).years\n",
    "# data['Age_start'] = pd.Series(age)"
   ]
  },
  {
   "cell_type": "code",
   "execution_count": 9,
   "metadata": {},
   "outputs": [],
   "source": [
    "data['Age_start'] = data['ORIGINAL_HIRE_DATE'] - data['Birth_Date']\n",
    "data['Age_start'] = data['Age_start'].apply(lambda x: int(np.floor(x.days/365)))"
   ]
  },
  {
   "cell_type": "code",
   "execution_count": 10,
   "metadata": {},
   "outputs": [],
   "source": [
    "data['Age_last'] = data['AGE_AT_TERMINATION'].fillna(data['CURRENT_AGE'])"
   ]
  },
  {
   "cell_type": "code",
   "execution_count": 11,
   "metadata": {},
   "outputs": [],
   "source": [
    "data = data.drop(columns = ['Birth_Date', 'AGE_AT_TERMINATION', 'CURRENT_AGE', 'PRIMARY_APPT_BEGIN_DATE',\\\n",
    "                            'ORIGINAL_HIRE_DATE', 'TERMINATION_DATE'])"
   ]
  },
  {
   "cell_type": "code",
   "execution_count": 12,
   "metadata": {},
   "outputs": [],
   "source": [
    "# x = np.array(data['PRIMARY_APPT_BEGIN_DATE'] == data['ORIGINAL_HIRE_DATE'])\n",
    "# np.where(x==True)[0].shape"
   ]
  },
  {
   "cell_type": "markdown",
   "metadata": {},
   "source": [
    "#### 5.job grade match"
   ]
  },
  {
   "cell_type": "markdown",
   "metadata": {},
   "source": [
    "Remove job grade = 'PHR'<br>\n",
    "Job grade A-H are IT positions and correspond to job grade 25-32 respectively <br>\n",
    "Job grade U indicates in union: mostly maintenance people judging from their job titles, classify them as job grade 21(lowest in dataset) <br>\n",
    "Add new column IS_IT <br>  \n"
   ]
  },
  {
   "cell_type": "code",
   "execution_count": 13,
   "metadata": {},
   "outputs": [],
   "source": [
    "job_grade = {}\n",
    "\n",
    "# create a dict that maps A-H to 25-32\n",
    "for i,j in enumerate(range(25,33)):\n",
    "    job_grade[chr(ord('A')+i)] = j\n",
    "    \n",
    "# new one-hot encoding columns IS_IT_0, IS_IT_1, 1 for yes, 0 for no\n",
    "x = data['JOB_GRADE'].apply(lambda x: 1 if x in job_grade else 0)\n",
    "df = pd.get_dummies(x).rename(lambda x: 'IS_IT_'+str(x), axis=1)\n",
    "data = pd.concat([data, df], axis=1)\n",
    "\n",
    "# convert letter job grades to numbers\n",
    "job_grade['U'] = 21\n",
    "data['JOB_GRADE'] = data['JOB_GRADE'].apply(lambda x: job_grade[x] if x in job_grade else x)\n",
    "\n",
    "# Remove job grade = 'PHR'\n",
    "data = data[data['JOB_GRADE']!='PHR']\n",
    "\n",
    "data['JOB_GRADE'] = data['JOB_GRADE'].astype(int)"
   ]
  },
  {
   "cell_type": "markdown",
   "metadata": {},
   "source": [
    "#### 6. convert education level to numbers"
   ]
  },
  {
   "cell_type": "code",
   "execution_count": 14,
   "metadata": {},
   "outputs": [],
   "source": [
    "edu_map = {'B':0, 'C':1, 'F':1, 'E':1, 'D':1, 'G':2, 'H':3, 'K':4,'I':4, 'L':4, 'J':4}\n",
    "data['EDUCATION_LEVEL'] = data['EDUCATION_LEVEL'].apply(lambda x: edu_map[x] if x in edu_map else None)\n",
    "\n",
    "# Remove employees with no EDUCATION_LEVEL data\n",
    "data = data[data['EDUCATION_LEVEL'].notnull()]\n",
    "\n",
    "# remove EDUCATION_LEVEL_YEAR for now, 5000 missing values\n",
    "data = data.drop(columns='EDUCATION_LEVEL_YEAR')"
   ]
  },
  {
   "cell_type": "markdown",
   "metadata": {},
   "source": [
    "#### 7. add column: if visa terminates within a year of terminatino date/in two years if active"
   ]
  },
  {
   "cell_type": "code",
   "execution_count": 15,
   "metadata": {},
   "outputs": [],
   "source": [
    "data['VISA_EXPIRATION_DATE'] = pd.DatetimeIndex(data['VISA_EXPIRATION_DATE'])\n",
    "data = data.drop(columns = ['VISA','VISA_EXPIRATION_DATE'])"
   ]
  },
  {
   "cell_type": "markdown",
   "metadata": {},
   "source": [
    "#### 8. US, Local"
   ]
  },
  {
   "cell_type": "code",
   "execution_count": 16,
   "metadata": {},
   "outputs": [],
   "source": [
    "x = data['COUNTRY_OF_CITIZENSHIP'].isnull().astype(int)\n",
    "y = data['HOME_CITY'].apply(lambda x: 1 if x == 'PHILADELPHIA' else 0)\n",
    "\n",
    "df = pd.get_dummies(x).rename(lambda x: 'US_'+str(x), axis=1)\n",
    "data = pd.concat([data, df], axis=1)\n",
    "\n",
    "df = pd.get_dummies(y).rename(lambda x: 'Local_'+str(x), axis=1)\n",
    "data = pd.concat([data, df], axis=1)\n",
    "\n",
    "data = data.drop(columns = ['COUNTRY_OF_CITIZENSHIP','HOME_CITY'])"
   ]
  },
  {
   "cell_type": "code",
   "execution_count": null,
   "metadata": {},
   "outputs": [],
   "source": []
  },
  {
   "cell_type": "markdown",
   "metadata": {},
   "source": [
    "#### TO DO: \n",
    "1.partition by home school ctr <br>\n",
    "2.Fiscal Year is ignored here <br>\n",
    "3."
   ]
  },
  {
   "cell_type": "markdown",
   "metadata": {},
   "source": [
    "## Training Data Selection"
   ]
  },
  {
   "cell_type": "markdown",
   "metadata": {},
   "source": [
    "##### remove rows where Starting_Full_Time_Salary is null"
   ]
  },
  {
   "cell_type": "code",
   "execution_count": 17,
   "metadata": {},
   "outputs": [],
   "source": [
    "data = data[data['Starting_Full_Time_Salary'].notnull()]"
   ]
  },
  {
   "cell_type": "markdown",
   "metadata": {},
   "source": [
    "### Data selection and partition criteria\n",
    "1.we would like to partition people into two classes: who stayed more than T (active or terminated) and people who stayed less than T (only terminated) <br> \n",
    "2.two classes shouldn't be skewed"
   ]
  },
  {
   "cell_type": "code",
   "execution_count": 18,
   "metadata": {},
   "outputs": [
    {
     "data": {
      "image/png": "[encoded data removed]",
      "text/plain": [
       "<Figure size 432x288 with 1 Axes>"
      ]
     },
     "metadata": {},
     "output_type": "display_data"
    }
   ],
   "source": [
    "hist = data[['MONTHS_IN_PRIMARY_JOB']].plot.hist(bins=10)"
   ]
  },
  {
   "cell_type": "code",
   "execution_count": 19,
   "metadata": {},
   "outputs": [
    {
     "data": {
      "image/png": "[encoded data removed]",
      "text/plain": [
       "<Figure size 432x288 with 1 Axes>"
      ]
     },
     "metadata": {},
     "output_type": "display_data"
    }
   ],
   "source": [
    "hist = data[['MONTHS_IN_PRIMARY_JOB']][data['EMPLOYMENT_STATUS']!='T'].plot.hist(bins=10) "
   ]
  },
  {
   "cell_type": "code",
   "execution_count": 20,
   "metadata": {},
   "outputs": [
    {
     "data": {
      "image/png": "[encoded data removed]",
      "text/plain": [
       "<Figure size 432x288 with 1 Axes>"
      ]
     },
     "metadata": {},
     "output_type": "display_data"
    }
   ],
   "source": [
    "hist = data[['MONTHS_IN_PRIMARY_JOB']][data['EMPLOYMENT_STATUS']=='T'].plot.hist(bins=10)"
   ]
  },
  {
   "cell_type": "markdown",
   "metadata": {},
   "source": [
    "#### seems like 4 years is a good place to set the threshold T"
   ]
  },
  {
   "cell_type": "code",
   "execution_count": 21,
   "metadata": {},
   "outputs": [],
   "source": [
    "T = 48"
   ]
  },
  {
   "cell_type": "code",
   "execution_count": 22,
   "metadata": {},
   "outputs": [
    {
     "name": "stdout",
     "output_type": "stream",
     "text": [
      "(4425, 1) (5509, 1) (15448, 43)\n"
     ]
    }
   ],
   "source": [
    "label0 = data[['Worker_ID']][(data['EMPLOYMENT_STATUS'] == 'T') & (data['VOLUNTARY'] == 1)\\\n",
    "                           & (data['MONTHS_IN_PRIMARY_JOB']<=T)]\n",
    "label1 = data[['Worker_ID']][((data['VOLUNTARY'].isnull()) | (data['VOLUNTARY'] == 1))\\\n",
    "                           & (data['MONTHS_IN_PRIMARY_JOB']>T)]\n",
    "print(label0.shape,label1.shape,data.shape,sep=' ')\n",
    "data = data.drop(columns = ['EMPLOYMENT_STATUS','VOLUNTARY'])"
   ]
  },
  {
   "cell_type": "code",
   "execution_count": 23,
   "metadata": {},
   "outputs": [],
   "source": [
    "label0['label'] = 0\n",
    "label1['label'] = 1\n",
    "label = pd.concat([label0,label1],axis=0)"
   ]
  },
  {
   "cell_type": "code",
   "execution_count": 24,
   "metadata": {},
   "outputs": [],
   "source": [
    "data = data.merge(label, how='right')\n",
    "data.set_index('Worker_ID',inplace=True)"
   ]
  },
  {
   "cell_type": "code",
   "execution_count": 25,
   "metadata": {},
   "outputs": [
    {
     "data": {
      "text/html": [
       "<div>\n",
       "<style scoped>\n",
       "    .dataframe tbody tr th:only-of-type {\n",
       "        vertical-align: middle;\n",
       "    }\n",
       "\n",
       "    .dataframe tbody tr th {\n",
       "        vertical-align: top;\n",
       "    }\n",
       "\n",
       "    .dataframe thead th {\n",
       "        text-align: right;\n",
       "    }\n",
       "</style>\n",
       "<table border=\"1\" class=\"dataframe\">\n",
       "  <thead>\n",
       "    <tr style=\"text-align: right;\">\n",
       "      <th></th>\n",
       "      <th>EDUCATION_LEVEL</th>\n",
       "      <th>MONTHS_IN_PRIMARY_JOB</th>\n",
       "      <th>PRIMARY_APPT_SALARY</th>\n",
       "      <th>JOB_GRADE</th>\n",
       "      <th>Starting_Full_Time_Salary</th>\n",
       "      <th>Career_Salary_Growth</th>\n",
       "      <th>Percent_Career_Salary_Growth</th>\n",
       "      <th>Number_of_Sal_Adjustments</th>\n",
       "      <th>Number_of_Reclass</th>\n",
       "      <th>RACE_A</th>\n",
       "      <th>RACE_B</th>\n",
       "      <th>RACE_C</th>\n",
       "      <th>RACE_P</th>\n",
       "      <th>RACE_R</th>\n",
       "      <th>RACE_S</th>\n",
       "      <th>RACE_U</th>\n",
       "      <th>RACE_Z</th>\n",
       "      <th>SEX_F</th>\n",
       "      <th>SEX_M</th>\n",
       "      <th>MARITAL_STATUS_D</th>\n",
       "      <th>MARITAL_STATUS_M</th>\n",
       "      <th>MARITAL_STATUS_S</th>\n",
       "      <th>MARITAL_STATUS_W</th>\n",
       "      <th>IN_UNION_0</th>\n",
       "      <th>IN_UNION_1</th>\n",
       "      <th>PAY_CYCLE_M1</th>\n",
       "      <th>PAY_CYCLE_W1</th>\n",
       "      <th>GRANT_PAID_F</th>\n",
       "      <th>GRANT_PAID_N</th>\n",
       "      <th>GRANT_PAID_P</th>\n",
       "      <th>JOBS_ACTIVE_0</th>\n",
       "      <th>JOBS_ACTIVE_1</th>\n",
       "      <th>Age_start</th>\n",
       "      <th>Age_last</th>\n",
       "      <th>IS_IT_0</th>\n",
       "      <th>IS_IT_1</th>\n",
       "      <th>US_0</th>\n",
       "      <th>US_1</th>\n",
       "      <th>Local_0</th>\n",
       "      <th>Local_1</th>\n",
       "      <th>label</th>\n",
       "    </tr>\n",
       "    <tr>\n",
       "      <th>Worker_ID</th>\n",
       "      <th></th>\n",
       "      <th></th>\n",
       "      <th></th>\n",
       "      <th></th>\n",
       "      <th></th>\n",
       "      <th></th>\n",
       "      <th></th>\n",
       "      <th></th>\n",
       "      <th></th>\n",
       "      <th></th>\n",
       "      <th></th>\n",
       "      <th></th>\n",
       "      <th></th>\n",
       "      <th></th>\n",
       "      <th></th>\n",
       "      <th></th>\n",
       "      <th></th>\n",
       "      <th></th>\n",
       "      <th></th>\n",
       "      <th></th>\n",
       "      <th></th>\n",
       "      <th></th>\n",
       "      <th></th>\n",
       "      <th></th>\n",
       "      <th></th>\n",
       "      <th></th>\n",
       "      <th></th>\n",
       "      <th></th>\n",
       "      <th></th>\n",
       "      <th></th>\n",
       "      <th></th>\n",
       "      <th></th>\n",
       "      <th></th>\n",
       "      <th></th>\n",
       "      <th></th>\n",
       "      <th></th>\n",
       "      <th></th>\n",
       "      <th></th>\n",
       "      <th></th>\n",
       "      <th></th>\n",
       "      <th></th>\n",
       "    </tr>\n",
       "  </thead>\n",
       "  <tbody>\n",
       "    <tr>\n",
       "      <th>2</th>\n",
       "      <td>2.0</td>\n",
       "      <td>10</td>\n",
       "      <td>32714.00</td>\n",
       "      <td>25</td>\n",
       "      <td>26000.0</td>\n",
       "      <td>6714.00</td>\n",
       "      <td>0.2582</td>\n",
       "      <td>0</td>\n",
       "      <td>0</td>\n",
       "      <td>0</td>\n",
       "      <td>0</td>\n",
       "      <td>1</td>\n",
       "      <td>0</td>\n",
       "      <td>0</td>\n",
       "      <td>0</td>\n",
       "      <td>0</td>\n",
       "      <td>0</td>\n",
       "      <td>0</td>\n",
       "      <td>1</td>\n",
       "      <td>0</td>\n",
       "      <td>0</td>\n",
       "      <td>1</td>\n",
       "      <td>0</td>\n",
       "      <td>1</td>\n",
       "      <td>0</td>\n",
       "      <td>1</td>\n",
       "      <td>0</td>\n",
       "      <td>0</td>\n",
       "      <td>0</td>\n",
       "      <td>1</td>\n",
       "      <td>1</td>\n",
       "      <td>0</td>\n",
       "      <td>23</td>\n",
       "      <td>27.0</td>\n",
       "      <td>1</td>\n",
       "      <td>0</td>\n",
       "      <td>0</td>\n",
       "      <td>1</td>\n",
       "      <td>0</td>\n",
       "      <td>1</td>\n",
       "      <td>0</td>\n",
       "    </tr>\n",
       "    <tr>\n",
       "      <th>4</th>\n",
       "      <td>2.0</td>\n",
       "      <td>115</td>\n",
       "      <td>90815.00</td>\n",
       "      <td>29</td>\n",
       "      <td>65000.0</td>\n",
       "      <td>25815.00</td>\n",
       "      <td>0.3971</td>\n",
       "      <td>0</td>\n",
       "      <td>0</td>\n",
       "      <td>0</td>\n",
       "      <td>0</td>\n",
       "      <td>1</td>\n",
       "      <td>0</td>\n",
       "      <td>0</td>\n",
       "      <td>0</td>\n",
       "      <td>0</td>\n",
       "      <td>0</td>\n",
       "      <td>0</td>\n",
       "      <td>1</td>\n",
       "      <td>0</td>\n",
       "      <td>1</td>\n",
       "      <td>0</td>\n",
       "      <td>0</td>\n",
       "      <td>1</td>\n",
       "      <td>0</td>\n",
       "      <td>1</td>\n",
       "      <td>0</td>\n",
       "      <td>0</td>\n",
       "      <td>1</td>\n",
       "      <td>0</td>\n",
       "      <td>1</td>\n",
       "      <td>0</td>\n",
       "      <td>27</td>\n",
       "      <td>52.0</td>\n",
       "      <td>1</td>\n",
       "      <td>0</td>\n",
       "      <td>0</td>\n",
       "      <td>1</td>\n",
       "      <td>1</td>\n",
       "      <td>0</td>\n",
       "      <td>1</td>\n",
       "    </tr>\n",
       "    <tr>\n",
       "      <th>8</th>\n",
       "      <td>2.0</td>\n",
       "      <td>18</td>\n",
       "      <td>33014.00</td>\n",
       "      <td>24</td>\n",
       "      <td>31500.0</td>\n",
       "      <td>1514.00</td>\n",
       "      <td>0.0480</td>\n",
       "      <td>0</td>\n",
       "      <td>0</td>\n",
       "      <td>0</td>\n",
       "      <td>0</td>\n",
       "      <td>1</td>\n",
       "      <td>0</td>\n",
       "      <td>0</td>\n",
       "      <td>0</td>\n",
       "      <td>0</td>\n",
       "      <td>0</td>\n",
       "      <td>1</td>\n",
       "      <td>0</td>\n",
       "      <td>0</td>\n",
       "      <td>0</td>\n",
       "      <td>1</td>\n",
       "      <td>0</td>\n",
       "      <td>1</td>\n",
       "      <td>0</td>\n",
       "      <td>1</td>\n",
       "      <td>0</td>\n",
       "      <td>1</td>\n",
       "      <td>0</td>\n",
       "      <td>0</td>\n",
       "      <td>1</td>\n",
       "      <td>0</td>\n",
       "      <td>31</td>\n",
       "      <td>32.0</td>\n",
       "      <td>1</td>\n",
       "      <td>0</td>\n",
       "      <td>0</td>\n",
       "      <td>1</td>\n",
       "      <td>1</td>\n",
       "      <td>0</td>\n",
       "      <td>0</td>\n",
       "    </tr>\n",
       "    <tr>\n",
       "      <th>9</th>\n",
       "      <td>3.0</td>\n",
       "      <td>19</td>\n",
       "      <td>53170.00</td>\n",
       "      <td>27</td>\n",
       "      <td>52000.0</td>\n",
       "      <td>1170.00</td>\n",
       "      <td>0.0225</td>\n",
       "      <td>0</td>\n",
       "      <td>0</td>\n",
       "      <td>0</td>\n",
       "      <td>0</td>\n",
       "      <td>1</td>\n",
       "      <td>0</td>\n",
       "      <td>0</td>\n",
       "      <td>0</td>\n",
       "      <td>0</td>\n",
       "      <td>0</td>\n",
       "      <td>1</td>\n",
       "      <td>0</td>\n",
       "      <td>0</td>\n",
       "      <td>1</td>\n",
       "      <td>0</td>\n",
       "      <td>0</td>\n",
       "      <td>1</td>\n",
       "      <td>0</td>\n",
       "      <td>1</td>\n",
       "      <td>0</td>\n",
       "      <td>1</td>\n",
       "      <td>0</td>\n",
       "      <td>0</td>\n",
       "      <td>1</td>\n",
       "      <td>0</td>\n",
       "      <td>29</td>\n",
       "      <td>30.0</td>\n",
       "      <td>1</td>\n",
       "      <td>0</td>\n",
       "      <td>0</td>\n",
       "      <td>1</td>\n",
       "      <td>0</td>\n",
       "      <td>1</td>\n",
       "      <td>0</td>\n",
       "    </tr>\n",
       "    <tr>\n",
       "      <th>10</th>\n",
       "      <td>3.0</td>\n",
       "      <td>40</td>\n",
       "      <td>54695.56</td>\n",
       "      <td>28</td>\n",
       "      <td>50000.0</td>\n",
       "      <td>4695.56</td>\n",
       "      <td>0.0939</td>\n",
       "      <td>0</td>\n",
       "      <td>0</td>\n",
       "      <td>0</td>\n",
       "      <td>1</td>\n",
       "      <td>0</td>\n",
       "      <td>0</td>\n",
       "      <td>0</td>\n",
       "      <td>0</td>\n",
       "      <td>0</td>\n",
       "      <td>0</td>\n",
       "      <td>0</td>\n",
       "      <td>1</td>\n",
       "      <td>0</td>\n",
       "      <td>0</td>\n",
       "      <td>1</td>\n",
       "      <td>0</td>\n",
       "      <td>1</td>\n",
       "      <td>0</td>\n",
       "      <td>1</td>\n",
       "      <td>0</td>\n",
       "      <td>0</td>\n",
       "      <td>0</td>\n",
       "      <td>1</td>\n",
       "      <td>1</td>\n",
       "      <td>0</td>\n",
       "      <td>37</td>\n",
       "      <td>41.0</td>\n",
       "      <td>1</td>\n",
       "      <td>0</td>\n",
       "      <td>0</td>\n",
       "      <td>1</td>\n",
       "      <td>0</td>\n",
       "      <td>1</td>\n",
       "      <td>0</td>\n",
       "    </tr>\n",
       "  </tbody>\n",
       "</table>\n",
       "</div>"
      ],
      "text/plain": [
       "           EDUCATION_LEVEL  MONTHS_IN_PRIMARY_JOB  PRIMARY_APPT_SALARY  \\\n",
       "Worker_ID                                                                \n",
       "2                      2.0                     10             32714.00   \n",
       "4                      2.0                    115             90815.00   \n",
       "8                      2.0                     18             33014.00   \n",
       "9                      3.0                     19             53170.00   \n",
       "10                     3.0                     40             54695.56   \n",
       "\n",
       "           JOB_GRADE  Starting_Full_Time_Salary  Career_Salary_Growth  \\\n",
       "Worker_ID                                                               \n",
       "2                 25                    26000.0               6714.00   \n",
       "4                 29                    65000.0              25815.00   \n",
       "8                 24                    31500.0               1514.00   \n",
       "9                 27                    52000.0               1170.00   \n",
       "10                28                    50000.0               4695.56   \n",
       "\n",
       "           Percent_Career_Salary_Growth  Number_of_Sal_Adjustments  \\\n",
       "Worker_ID                                                            \n",
       "2                                0.2582                          0   \n",
       "4                                0.3971                          0   \n",
       "8                                0.0480                          0   \n",
       "9                                0.0225                          0   \n",
       "10                               0.0939                          0   \n",
       "\n",
       "           Number_of_Reclass  RACE_A  RACE_B  RACE_C  RACE_P  RACE_R  RACE_S  \\\n",
       "Worker_ID                                                                      \n",
       "2                          0       0       0       1       0       0       0   \n",
       "4                          0       0       0       1       0       0       0   \n",
       "8                          0       0       0       1       0       0       0   \n",
       "9                          0       0       0       1       0       0       0   \n",
       "10                         0       0       1       0       0       0       0   \n",
       "\n",
       "           RACE_U  RACE_Z  SEX_F  SEX_M  MARITAL_STATUS_D  MARITAL_STATUS_M  \\\n",
       "Worker_ID                                                                     \n",
       "2               0       0      0      1                 0                 0   \n",
       "4               0       0      0      1                 0                 1   \n",
       "8               0       0      1      0                 0                 0   \n",
       "9               0       0      1      0                 0                 1   \n",
       "10              0       0      0      1                 0                 0   \n",
       "\n",
       "           MARITAL_STATUS_S  MARITAL_STATUS_W  IN_UNION_0  IN_UNION_1  \\\n",
       "Worker_ID                                                               \n",
       "2                         1                 0           1           0   \n",
       "4                         0                 0           1           0   \n",
       "8                         1                 0           1           0   \n",
       "9                         0                 0           1           0   \n",
       "10                        1                 0           1           0   \n",
       "\n",
       "           PAY_CYCLE_M1  PAY_CYCLE_W1  GRANT_PAID_F  GRANT_PAID_N  \\\n",
       "Worker_ID                                                           \n",
       "2                     1             0             0             0   \n",
       "4                     1             0             0             1   \n",
       "8                     1             0             1             0   \n",
       "9                     1             0             1             0   \n",
       "10                    1             0             0             0   \n",
       "\n",
       "           GRANT_PAID_P  JOBS_ACTIVE_0  JOBS_ACTIVE_1  Age_start  Age_last  \\\n",
       "Worker_ID                                                                    \n",
       "2                     1              1              0         23      27.0   \n",
       "4                     0              1              0         27      52.0   \n",
       "8                     0              1              0         31      32.0   \n",
       "9                     0              1              0         29      30.0   \n",
       "10                    1              1              0         37      41.0   \n",
       "\n",
       "           IS_IT_0  IS_IT_1  US_0  US_1  Local_0  Local_1  label  \n",
       "Worker_ID                                                         \n",
       "2                1        0     0     1        0        1      0  \n",
       "4                1        0     0     1        1        0      1  \n",
       "8                1        0     0     1        1        0      0  \n",
       "9                1        0     0     1        0        1      0  \n",
       "10               1        0     0     1        0        1      0  "
      ]
     },
     "execution_count": 25,
     "metadata": {},
     "output_type": "execute_result"
    }
   ],
   "source": [
    "data.head()"
   ]
  },
  {
   "cell_type": "code",
   "execution_count": 26,
   "metadata": {},
   "outputs": [
    {
     "data": {
      "image/png": "[encoded data removed]",
      "text/plain": [
       "<Figure size 1440x1440 with 2 Axes>"
      ]
     },
     "metadata": {},
     "output_type": "display_data"
    }
   ],
   "source": [
    "sns.set(style=\"white\")\n",
    "\n",
    "corr = data.corr()\n",
    "mask = np.zeros_like(corr, dtype=np.bool)\n",
    "mask[np.triu_indices_from(mask)] = True\n",
    "\n",
    "f, ax = plt.subplots(figsize=(20,20))\n",
    "\n",
    "cmap = sns.diverging_palette(220, 10, as_cmap=True)\n",
    "sns.heatmap(corr, mask=mask, cmap=cmap, center=0,\n",
    "            square=True, linewidths=.5, cbar_kws={\"shrink\": .5})\n",
    "plt.show()"
   ]
  },
  {
   "cell_type": "markdown",
   "metadata": {},
   "source": [
    "## Logistic Regression"
   ]
  },
  {
   "cell_type": "code",
   "execution_count": 27,
   "metadata": {},
   "outputs": [
    {
     "name": "stdout",
     "output_type": "stream",
     "text": [
      "0.9644414625964441\n"
     ]
    },
    {
     "name": "stderr",
     "output_type": "stream",
     "text": [
      "/Users/yang/anaconda3/lib/python3.6/site-packages/sklearn/utils/validation.py:578: DataConversionWarning: A column-vector y was passed when a 1d array was expected. Please change the shape of y to (n_samples, ), for example using ravel().\n",
      "  y = column_or_1d(y, warn=True)\n"
     ]
    }
   ],
   "source": [
    "from sklearn.linear_model import LogisticRegression\n",
    "from sklearn.model_selection import train_test_split\n",
    "\n",
    "x_train, x_test, y_train, y_test = train_test_split(data.drop(columns='label'), data[['label']], test_size=0.3)\n",
    "lr = LogisticRegression().fit(x_train, y_train)\n",
    "score = lr.score(x_test, y_test)\n",
    "print(score)"
   ]
  },
  {
   "cell_type": "code",
   "execution_count": null,
   "metadata": {},
   "outputs": [],
   "source": []
  }
 ],
 "metadata": {
  "kernelspec": {
   "display_name": "Python 3",
   "language": "python",
   "name": "python3"
  },
  "language_info": {
   "codemirror_mode": {
    "name": "ipython",
    "version": 3
   },
   "file_extension": ".py",
   "mimetype": "text/x-python",
   "name": "python",
   "nbconvert_exporter": "python",
   "pygments_lexer": "ipython3",
   "version": "3.6.5"
  }
 },
 "nbformat": 4,
 "nbformat_minor": 2
}
