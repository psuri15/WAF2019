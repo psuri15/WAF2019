{
  "nbformat": 4,
  "nbformat_minor": 0,
  "metadata": {
    "kernelspec": {
      "display_name": "Python 3",
      "language": "python",
      "name": "python3"
    },
    "language_info": {
      "codemirror_mode": {
        "name": "ipython",
        "version": 3
      },
      "file_extension": ".py",
      "mimetype": "text/x-python",
      "name": "python",
      "nbconvert_exporter": "python",
      "pygments_lexer": "ipython3",
      "version": "3.6.5"
    },
    "colab": {
      "name": "FirstModel.ipynb",
      "provenance": [],
      "collapsed_sections": [
        "kDLft77rO50s",
        "4og9qrWbO50u",
        "ePsgxJj-O50w",
        "dVUI79fwO50x",
        "jqMNHjC1O50z",
        "ZLQ9zH4yO503"
      ]
    }
  },
  "cells": [
    {
      "cell_type": "code",
      "metadata": {
        "id": "vrRUCJVoO50G",
        "colab_type": "code",
        "colab": {}
      },
      "source": [
        "import pandas as pd\n",
        "import numpy as np\n",
        "import datetime\n",
        "import matplotlib.pyplot as plt\n",
        "import seaborn as sns\n",
        "from dateutil.relativedelta import relativedelta\n",
        "from collections import Counter\n",
        "pd.set_option('display.max_columns', None)"
      ],
      "execution_count": 0,
      "outputs": []
    },
    {
      "cell_type": "code",
      "metadata": {
        "id": "P2RAwP3OO50N",
        "colab_type": "code",
        "outputId": "75335b07-305a-4362-c684-cb3fc2ed6b3c",
        "colab": {
          "base_uri": "https://localhost:8080/",
          "height": 71
        }
      },
      "source": [
        "data = pd.read_csv('hr.csv')"
      ],
      "execution_count": 13,
      "outputs": [
        {
          "output_type": "stream",
          "text": [
            "/usr/local/lib/python3.6/dist-packages/IPython/core/interactiveshell.py:2718: DtypeWarning: Columns (48,52,55,56,57,59,60,61,63,64) have mixed types. Specify dtype option on import or set low_memory=False.\n",
            "  interactivity=interactivity, compiler=compiler, result=result)\n"
          ],
          "name": "stderr"
        }
      ]
    },
    {
      "cell_type": "markdown",
      "metadata": {
        "id": "gJA-jULuO50T",
        "colab_type": "text"
      },
      "source": [
        "## Data Cleaning & Feature Engineering"
      ]
    },
    {
      "cell_type": "markdown",
      "metadata": {
        "id": "DUquBIehO50V",
        "colab_type": "text"
      },
      "source": [
        "### remove redundant columns and perform type conversion, encoding etc."
      ]
    },
    {
      "cell_type": "code",
      "metadata": {
        "id": "pvM4n3VnO50Y",
        "colab_type": "code",
        "colab": {}
      },
      "source": [
        "text_cols = ['EDUCATION_LEVEL','COUNTRY_OF_CITIZENSHIP','HOME_CITY','VISA','JOB_GRADE','JOB_TITLE','Manager_Edu_Level'\\\n",
        "             ,'EDUCATION_LEVEL_YEAR','Manager_Edu_Level_Year','REPORTS_TO_PENN_ID']\n",
        "for col in text_cols:\n",
        "    data[col] = data[col].fillna('')\n",
        "    data[col] = data[col].apply(str).str.strip()\n",
        "    \n",
        "edu_cols = ['EDUCATION_LEVEL_YEAR','Manager_Edu_Level_Year']\n",
        "for col in edu_cols:\n",
        "    data[col] = data[col].apply(lambda x: int(x) if len(x)>0 else None)"
      ],
      "execution_count": 0,
      "outputs": []
    },
    {
      "cell_type": "code",
      "metadata": {
        "id": "tnLKAmvMO50c",
        "colab_type": "code",
        "colab": {}
      },
      "source": [
        "# transform str to datetime object\n",
        "dates_cols = ['Birth_Date','PRIMARY_APPT_BEGIN_DATE','ORIGINAL_HIRE_DATE','TERMINATION_DATE']\n",
        "for col in dates_cols:\n",
        "    data[col] = pd.DatetimeIndex(data[col])"
      ],
      "execution_count": 0,
      "outputs": []
    },
    {
      "cell_type": "markdown",
      "metadata": {
        "id": "XQWPhclkO50h",
        "colab_type": "text"
      },
      "source": [
        "#### Make new age columns\n",
        "Age/Time related columns\n",
        "'Birth_Date', 'AGE_AT_TERMINATION', 'CURRENT_AGE', 'PRIMARY_APPT_BEGIN_DATE', 'MONTHS_IN_PRIMARY_JOB', \n",
        "'ORIGINAL_HIRE_DATE', 'TERMINATION_DATE'<br>\n",
        "\n",
        "1.Age_start: age when started to work at Penn: ORIGINAL_HIRE_DATE - Birth_Date <br>\n",
        "2.Age_last: AGE_AT_TERMINATION or CURRENT_AGE if active <br>\n",
        "3.MONTHS_IN_PRIMARY_JOB<br>\n",
        "\n",
        "Remove other Age/Time related columns other than the three above. <br>"
      ]
    },
    {
      "cell_type": "code",
      "metadata": {
        "id": "UlB5EyJwO50i",
        "colab_type": "code",
        "colab": {}
      },
      "source": [
        "data['Age_start'] = data['ORIGINAL_HIRE_DATE'] - data['Birth_Date']\n",
        "data['Age_start'] = data['Age_start'].apply(lambda x: int(np.floor(x.days/365)))\n",
        "data['Age_last'] = data['AGE_AT_TERMINATION'].fillna(data['CURRENT_AGE'])"
      ],
      "execution_count": 0,
      "outputs": []
    },
    {
      "cell_type": "markdown",
      "metadata": {
        "id": "qNgN84DtO50l",
        "colab_type": "text"
      },
      "source": [
        "#### Is_First"
      ]
    },
    {
      "cell_type": "code",
      "metadata": {
        "id": "gp22Gp_cO50m",
        "colab_type": "code",
        "colab": {}
      },
      "source": [
        "# 1 indicates the primary job is the employee's first job at Penn, 0 indicates otherwise\n",
        "data['Is_First'] = (data['ORIGINAL_HIRE_DATE'] == data['PRIMARY_APPT_BEGIN_DATE']).astype(int)\n",
        "\n",
        "data = data.drop(columns = ['Birth_Date', 'AGE_AT_TERMINATION', 'CURRENT_AGE', 'PRIMARY_APPT_BEGIN_DATE',\\\n",
        "                            'ORIGINAL_HIRE_DATE', 'TERMINATION_DATE'])"
      ],
      "execution_count": 0,
      "outputs": []
    },
    {
      "cell_type": "markdown",
      "metadata": {
        "id": "55GjHn-MO50n",
        "colab_type": "text"
      },
      "source": [
        "### Local, US"
      ]
    },
    {
      "cell_type": "code",
      "metadata": {
        "id": "HM8EDnNhO50o",
        "colab_type": "code",
        "colab": {}
      },
      "source": [
        "# replace \"PHILA\" with PHILADELPHIA. \n",
        "data['HOME_CITY'] = data['HOME_CITY'].apply(lambda x: 'PHILADELPHIA' if x == 'PHILA' else x)\n",
        "data['Local'] = data['HOME_CITY'].apply(lambda x: 1 if x == 'PHILADELPHIA' else 0)\n",
        "data['US'] = data['COUNTRY_OF_CITIZENSHIP'].apply(lambda x: 1 if x == '' else 0)\n",
        "\n",
        "data = data.drop(columns = ['COUNTRY_OF_CITIZENSHIP','HOME_CITY'])"
      ],
      "execution_count": 0,
      "outputs": []
    },
    {
      "cell_type": "markdown",
      "metadata": {
        "id": "j5NI6L2fO50p",
        "colab_type": "text"
      },
      "source": [
        "### average ratings"
      ]
    },
    {
      "cell_type": "code",
      "metadata": {
        "id": "MXZ9PR8WO50p",
        "colab_type": "code",
        "colab": {}
      },
      "source": [
        "rating_map = {'E':10,'R':8,'M':6,'N':4,'U':2}\n",
        "rating_df = pd.DataFrame()\n",
        "for year in range(2010,2020):\n",
        "    data['OVR_RATING_CD_'+str(year)] = data['OVR_RATING_CD_'+str(year)].apply(lambda x: rating_map[x] if x in rating_map else 0)\n",
        "    rating_df = pd.concat([rating_df,data['OVR_RATING_CD_'+str(year)]],axis=1)\n",
        "    data = data.drop(columns = ['OVR_RATING_DESCR_'+str(year),'OVR_RATING_CD_'+str(year)])\n",
        "\n",
        "valid_years = np.array([10-c[0] for c in [Counter(x) for x in rating_df.values]])\n",
        "total = np.array(rating_df.apply(np.sum,axis=1).values)\n",
        "avg_rating = np.zeros(len(total))\n",
        "for i in range(len(total)):\n",
        "    if valid_years[i] == 0:\n",
        "        avg_rating[i] = None\n",
        "    else:\n",
        "        avg_rating[i] = total[i]/valid_years[i]\n",
        "data['avg_rating'] = pd.Series(avg_rating)"
      ],
      "execution_count": 0,
      "outputs": []
    },
    {
      "cell_type": "markdown",
      "metadata": {
        "id": "u7XDN3LrO50q",
        "colab_type": "text"
      },
      "source": [
        "### model manager data as the difference between manager and employee"
      ]
    },
    {
      "cell_type": "markdown",
      "metadata": {
        "id": "Dq3vGk5PO50q",
        "colab_type": "text"
      },
      "source": [
        "### encoding the following text columns into numerical values"
      ]
    },
    {
      "cell_type": "code",
      "metadata": {
        "id": "VLgWTdvhO50r",
        "colab_type": "code",
        "colab": {}
      },
      "source": [
        "# Has_Manager indicates if a person has a manager (1)\n",
        "data['Has_Manager'] = data['REPORTS_TO_PENN_ID'].apply(lambda x: 0 if len(x)==0 else 1)\n",
        "\n",
        "# 1 if manager and employee are of different sex\n",
        "data['sex_diff'] = (data[\"SEX\"]!=data['Manager_Sex']).apply(int)\n",
        "data.loc[data['Manager_Sex'].isnull(),'sex_diff'] = 0\n",
        "\n",
        "# 1 if manager and employee are of different race\n",
        "data['race_diff'] = (data[\"RACE\"]!=data['Manager_Race']).apply(int)\n",
        "data.loc[data['Manager_Race'].isnull(),'race_diff'] = 0\n",
        "\n",
        "data = data.drop(columns = ['Manager_Race','Manager_Sex'])"
      ],
      "execution_count": 0,
      "outputs": []
    },
    {
      "cell_type": "markdown",
      "metadata": {
        "id": "kDLft77rO50s",
        "colab_type": "text"
      },
      "source": [
        "#### Education level "
      ]
    },
    {
      "cell_type": "code",
      "metadata": {
        "id": "Y7zBIVTgO50s",
        "colab_type": "code",
        "colab": {}
      },
      "source": [
        "edu_map = {'B':0, 'C':1,'E':2, 'D':2, 'F':3, 'G':4, 'H':5, 'K':6,'I':6, 'L':6, 'J':6}\n",
        "\n",
        "# map NaN in education level to 1, same group as \"C\"\n",
        "data['EDUCATION_LEVEL'] = data['EDUCATION_LEVEL'].apply(lambda x: edu_map[x] if x in edu_map else 1)\n",
        "\n",
        "# leave NaN in nanager education as None\n",
        "data['Manager_Edu_Level'] = data['Manager_Edu_Level'].apply(lambda x: edu_map[x] if x in edu_map else None)\n",
        "\n",
        "# difference between manager and employee education levels\n",
        "# if someone doesn't have a manager, or manager education data is missing make the difference 0\n",
        "data['edu_diff'] = data['Manager_Edu_Level'] - data['EDUCATION_LEVEL']\n",
        "data['edu_diff'] = data['edu_diff'].fillna(0)\n",
        "\n",
        "# remove EDUCATION_LEVEL_YEAR for now, 5000 missing values\n",
        "data = data.drop(columns=['EDUCATION_LEVEL_YEAR','Manager_Edu_Level'])"
      ],
      "execution_count": 0,
      "outputs": []
    },
    {
      "cell_type": "code",
      "metadata": {
        "id": "G4KdG0RoO50t",
        "colab_type": "code",
        "colab": {}
      },
      "source": [
        "data['PAY_CYCLE'] = data['PAY_CYCLE'].apply(lambda x: 0 if x == 'M1' else 1)\n",
        "data['SEX'] = data['SEX'].apply(lambda x: 0 if x == 'M' else 1)\n",
        "\n",
        "categorical_cols = ['RACE','MARITAL_STATUS','GRANT_PAID']\n",
        "for col in categorical_cols:\n",
        "    df = pd.get_dummies(data[col]).rename(lambda x: col+'_'+str(x), axis=1)\n",
        "    data = pd.concat([data, df], axis=1)\n",
        "    data = data.drop(columns = col)"
      ],
      "execution_count": 0,
      "outputs": []
    },
    {
      "cell_type": "markdown",
      "metadata": {
        "id": "4og9qrWbO50u",
        "colab_type": "text"
      },
      "source": [
        "#### job grade"
      ]
    },
    {
      "cell_type": "markdown",
      "metadata": {
        "id": "gsJEPrdVO50u",
        "colab_type": "text"
      },
      "source": [
        "Remove job grade = 'PHR'<br>\n",
        "Job grade A-H are IT positions and correspond to job grade 25-32 respectively <br>\n",
        "Job grade U indicates in union: mostly maintenance people judging from their job titles, classify them as job grade 21(lowest in dataset) <br>\n",
        "Add new column IS_IT <br>  \n"
      ]
    },
    {
      "cell_type": "code",
      "metadata": {
        "id": "xVqxuT-CO50u",
        "colab_type": "code",
        "colab": {}
      },
      "source": [
        "job_grade = {}\n",
        "\n",
        "# create a dict that maps A-H to 25-32\n",
        "for i,j in enumerate(range(25,33)):\n",
        "    job_grade[chr(ord('A')+i)] = j\n",
        "    \n",
        "# new column IS_IT, 1 for yes, 0 for no\n",
        "x = data['JOB_GRADE'].apply(lambda x: 1 if x in job_grade else 0)\n",
        "x = x.to_frame().rename(columns={'JOB_GRADE':'IS_IT'})\n",
        "data = pd.concat([data, x], axis=1)\n",
        "\n",
        "# convert letter job grades to numbers\n",
        "job_grade['U'] = 21\n",
        "data['JOB_GRADE'] = data['JOB_GRADE'].apply(lambda x: job_grade[x] if x in job_grade else x)\n",
        "\n",
        "# Remove job grade = 'PHR'\n",
        "data = data[data['JOB_GRADE']!='PHR']\n",
        "\n",
        "data['JOB_GRADE'] = data['JOB_GRADE'].astype(int)"
      ],
      "execution_count": 0,
      "outputs": []
    },
    {
      "cell_type": "code",
      "metadata": {
        "id": "l9oAlN4MO50v",
        "colab_type": "code",
        "colab": {}
      },
      "source": [
        "redundant_cols = ['Race_Desc','Sex_Desc','EDUCATION_LEVEL_DESC','HOME_ZIP','YEARS_IN_PRIMARY_JOB','YEARS_OF_SERVICE',\n",
        "                  'EMPLOYMENT_STATUS_DESC',\n",
        "                  'Dept_Name','Dept_Name_Short',\n",
        "                  'School_Name','School_Abbrev',\n",
        "                  'PRIMARY_APPT_JOB_CLASS',\n",
        "                  'Job_Grade_Fiscal_Year','AnnualMinimum',\n",
        "                  'AnnualFirstThird','AnnualMidPoint','AnnualSecondThird','AnnualMax',\n",
        "                  'REPORTS_TO_PENN_ID',\n",
        "                  'REPORTS_TO_DATE',\n",
        "                  'Manager_Years_Managed',\n",
        "                  'Manager_Original_Hire_Date',\n",
        "                  'Manager_Edu_Level_Desc','Manager_Sex_Desc','Manager_Race_Desc','Termination_Fiscal_Year',\n",
        "                  'SEPERATION_REASON_DESC',\n",
        "                  'Retirement_Eligible_Date']\n",
        "\n",
        "data = data.drop(columns = redundant_cols)"
      ],
      "execution_count": 0,
      "outputs": []
    },
    {
      "cell_type": "markdown",
      "metadata": {
        "id": "ePsgxJj-O50w",
        "colab_type": "text"
      },
      "source": [
        "#### remove rating and some manager data"
      ]
    },
    {
      "cell_type": "code",
      "metadata": {
        "id": "YCQAJ_M5O50w",
        "colab_type": "code",
        "colab": {}
      },
      "source": [
        "data = data.drop(columns = ['Manager_Months_Managed','Manager_Current_Age','Manager_Age_At_Termination',\\\n",
        "                            'Manager_Edu_Level_Year','Manager_YEARS_OF_SERVICE','Manager_OfColor','Manager_Job_Title'])\n",
        "data = data.drop(columns = 'avg_rating')"
      ],
      "execution_count": 0,
      "outputs": []
    },
    {
      "cell_type": "markdown",
      "metadata": {
        "id": "dVUI79fwO50x",
        "colab_type": "text"
      },
      "source": [
        "####  remove home department data"
      ]
    },
    {
      "cell_type": "code",
      "metadata": {
        "id": "HWbWuOhKO50y",
        "colab_type": "code",
        "colab": {}
      },
      "source": [
        "data = data.drop(columns = ['HOME_DEPT_ORG', 'HOME_SCHOOL_CTR'])"
      ],
      "execution_count": 0,
      "outputs": []
    },
    {
      "cell_type": "markdown",
      "metadata": {
        "id": "jqMNHjC1O50z",
        "colab_type": "text"
      },
      "source": [
        "####  Remove Race_OfColor, JOB_TITLE, jobs_active and SEPARATION_REASON"
      ]
    },
    {
      "cell_type": "code",
      "metadata": {
        "id": "88g57KelO50z",
        "colab_type": "code",
        "colab": {}
      },
      "source": [
        "# remove entries whose separation reason is death or retirement\n",
        "data = data[(data['SEPARATION_REASON'] !='80') & (data['SEPARATION_REASON'] !='30') \\\n",
        "            &(data['SEPARATION_REASON'] !='33') & (data['SEPARATION_REASON'] !='81')]"
      ],
      "execution_count": 0,
      "outputs": []
    },
    {
      "cell_type": "code",
      "metadata": {
        "id": "-FqrdUH1O502",
        "colab_type": "code",
        "colab": {}
      },
      "source": [
        "data = data.drop(columns = ['Race_OfColor','JOB_TITLE', 'SEPARATION_REASON','JOBS_ACTIVE'])"
      ],
      "execution_count": 0,
      "outputs": []
    },
    {
      "cell_type": "markdown",
      "metadata": {
        "id": "ZLQ9zH4yO503",
        "colab_type": "text"
      },
      "source": [
        "#### TO DO: \n",
        "1.partition by home school ctr <br>\n",
        "2.Fiscal Year is ignored here <br>\n",
        "3.add column: if visa terminates within a year of terminatino date/in two years if active"
      ]
    },
    {
      "cell_type": "code",
      "metadata": {
        "id": "KVU7HuYaO504",
        "colab_type": "code",
        "colab": {}
      },
      "source": [
        "data['VISA_EXPIRATION_DATE'] = pd.DatetimeIndex(data['VISA_EXPIRATION_DATE'])\n",
        "data = data.drop(columns = ['VISA','VISA_EXPIRATION_DATE'])"
      ],
      "execution_count": 0,
      "outputs": []
    },
    {
      "cell_type": "code",
      "metadata": {
        "id": "jeDRKu_bO504",
        "colab_type": "code",
        "outputId": "61cb73bf-bb8d-4438-9c11-ecbbf6736e9a",
        "colab": {
          "base_uri": "https://localhost:8080/",
          "height": 221
        }
      },
      "source": [
        "data.head()"
      ],
      "execution_count": 30,
      "outputs": [
        {
          "output_type": "execute_result",
          "data": {
            "text/html": [
              "<div>\n",
              "<style scoped>\n",
              "    .dataframe tbody tr th:only-of-type {\n",
              "        vertical-align: middle;\n",
              "    }\n",
              "\n",
              "    .dataframe tbody tr th {\n",
              "        vertical-align: top;\n",
              "    }\n",
              "\n",
              "    .dataframe thead th {\n",
              "        text-align: right;\n",
              "    }\n",
              "</style>\n",
              "<table border=\"1\" class=\"dataframe\">\n",
              "  <thead>\n",
              "    <tr style=\"text-align: right;\">\n",
              "      <th></th>\n",
              "      <th>Worker_ID</th>\n",
              "      <th>SEX</th>\n",
              "      <th>EDUCATION_LEVEL</th>\n",
              "      <th>MONTHS_IN_PRIMARY_JOB</th>\n",
              "      <th>PRIMARY_APPT_SALARY</th>\n",
              "      <th>JOB_GRADE</th>\n",
              "      <th>IN_UNION</th>\n",
              "      <th>PAY_CYCLE</th>\n",
              "      <th>Starting_Full_Time_Salary</th>\n",
              "      <th>Career_Salary_Growth</th>\n",
              "      <th>Percent_Career_Salary_Growth</th>\n",
              "      <th>Number_of_Sal_Adjustments</th>\n",
              "      <th>Number_of_Reclass</th>\n",
              "      <th>EMPLOYMENT_STATUS</th>\n",
              "      <th>VOLUNTARY</th>\n",
              "      <th>Age_start</th>\n",
              "      <th>Age_last</th>\n",
              "      <th>Is_First</th>\n",
              "      <th>Local</th>\n",
              "      <th>US</th>\n",
              "      <th>Has_Manager</th>\n",
              "      <th>sex_diff</th>\n",
              "      <th>race_diff</th>\n",
              "      <th>edu_diff</th>\n",
              "      <th>RACE_A</th>\n",
              "      <th>RACE_B</th>\n",
              "      <th>RACE_C</th>\n",
              "      <th>RACE_P</th>\n",
              "      <th>RACE_R</th>\n",
              "      <th>RACE_S</th>\n",
              "      <th>RACE_U</th>\n",
              "      <th>RACE_Z</th>\n",
              "      <th>MARITAL_STATUS_D</th>\n",
              "      <th>MARITAL_STATUS_M</th>\n",
              "      <th>MARITAL_STATUS_S</th>\n",
              "      <th>MARITAL_STATUS_W</th>\n",
              "      <th>GRANT_PAID_F</th>\n",
              "      <th>GRANT_PAID_N</th>\n",
              "      <th>GRANT_PAID_P</th>\n",
              "      <th>IS_IT</th>\n",
              "    </tr>\n",
              "  </thead>\n",
              "  <tbody>\n",
              "    <tr>\n",
              "      <th>0</th>\n",
              "      <td>1</td>\n",
              "      <td>0</td>\n",
              "      <td>1</td>\n",
              "      <td>32</td>\n",
              "      <td>41615.00</td>\n",
              "      <td>25</td>\n",
              "      <td>0</td>\n",
              "      <td>1</td>\n",
              "      <td>40000.0</td>\n",
              "      <td>1615.00</td>\n",
              "      <td>0.0403</td>\n",
              "      <td>0</td>\n",
              "      <td>0</td>\n",
              "      <td>T</td>\n",
              "      <td>0.0</td>\n",
              "      <td>26</td>\n",
              "      <td>28.0</td>\n",
              "      <td>1</td>\n",
              "      <td>0</td>\n",
              "      <td>1</td>\n",
              "      <td>1</td>\n",
              "      <td>0</td>\n",
              "      <td>0</td>\n",
              "      <td>4.0</td>\n",
              "      <td>0</td>\n",
              "      <td>0</td>\n",
              "      <td>1</td>\n",
              "      <td>0</td>\n",
              "      <td>0</td>\n",
              "      <td>0</td>\n",
              "      <td>0</td>\n",
              "      <td>0</td>\n",
              "      <td>0</td>\n",
              "      <td>0</td>\n",
              "      <td>1</td>\n",
              "      <td>0</td>\n",
              "      <td>0</td>\n",
              "      <td>1</td>\n",
              "      <td>0</td>\n",
              "      <td>0</td>\n",
              "    </tr>\n",
              "    <tr>\n",
              "      <th>1</th>\n",
              "      <td>2</td>\n",
              "      <td>0</td>\n",
              "      <td>4</td>\n",
              "      <td>10</td>\n",
              "      <td>32714.00</td>\n",
              "      <td>25</td>\n",
              "      <td>0</td>\n",
              "      <td>0</td>\n",
              "      <td>26000.0</td>\n",
              "      <td>6714.00</td>\n",
              "      <td>0.2582</td>\n",
              "      <td>0</td>\n",
              "      <td>0</td>\n",
              "      <td>T</td>\n",
              "      <td>1.0</td>\n",
              "      <td>23</td>\n",
              "      <td>27.0</td>\n",
              "      <td>0</td>\n",
              "      <td>1</td>\n",
              "      <td>1</td>\n",
              "      <td>1</td>\n",
              "      <td>0</td>\n",
              "      <td>0</td>\n",
              "      <td>0.0</td>\n",
              "      <td>0</td>\n",
              "      <td>0</td>\n",
              "      <td>1</td>\n",
              "      <td>0</td>\n",
              "      <td>0</td>\n",
              "      <td>0</td>\n",
              "      <td>0</td>\n",
              "      <td>0</td>\n",
              "      <td>0</td>\n",
              "      <td>0</td>\n",
              "      <td>1</td>\n",
              "      <td>0</td>\n",
              "      <td>0</td>\n",
              "      <td>0</td>\n",
              "      <td>1</td>\n",
              "      <td>0</td>\n",
              "    </tr>\n",
              "    <tr>\n",
              "      <th>2</th>\n",
              "      <td>3</td>\n",
              "      <td>0</td>\n",
              "      <td>4</td>\n",
              "      <td>84</td>\n",
              "      <td>62636.72</td>\n",
              "      <td>26</td>\n",
              "      <td>0</td>\n",
              "      <td>0</td>\n",
              "      <td>52000.0</td>\n",
              "      <td>10636.72</td>\n",
              "      <td>0.2045</td>\n",
              "      <td>0</td>\n",
              "      <td>0</td>\n",
              "      <td>T</td>\n",
              "      <td>0.0</td>\n",
              "      <td>39</td>\n",
              "      <td>46.0</td>\n",
              "      <td>1</td>\n",
              "      <td>1</td>\n",
              "      <td>1</td>\n",
              "      <td>1</td>\n",
              "      <td>1</td>\n",
              "      <td>0</td>\n",
              "      <td>2.0</td>\n",
              "      <td>0</td>\n",
              "      <td>0</td>\n",
              "      <td>1</td>\n",
              "      <td>0</td>\n",
              "      <td>0</td>\n",
              "      <td>0</td>\n",
              "      <td>0</td>\n",
              "      <td>0</td>\n",
              "      <td>0</td>\n",
              "      <td>0</td>\n",
              "      <td>1</td>\n",
              "      <td>0</td>\n",
              "      <td>1</td>\n",
              "      <td>0</td>\n",
              "      <td>0</td>\n",
              "      <td>1</td>\n",
              "    </tr>\n",
              "    <tr>\n",
              "      <th>4</th>\n",
              "      <td>5</td>\n",
              "      <td>1</td>\n",
              "      <td>1</td>\n",
              "      <td>4</td>\n",
              "      <td>29120.00</td>\n",
              "      <td>24</td>\n",
              "      <td>0</td>\n",
              "      <td>0</td>\n",
              "      <td>29120.0</td>\n",
              "      <td>0.00</td>\n",
              "      <td>0.0000</td>\n",
              "      <td>0</td>\n",
              "      <td>0</td>\n",
              "      <td>T</td>\n",
              "      <td>1.0</td>\n",
              "      <td>21</td>\n",
              "      <td>23.0</td>\n",
              "      <td>0</td>\n",
              "      <td>1</td>\n",
              "      <td>1</td>\n",
              "      <td>1</td>\n",
              "      <td>1</td>\n",
              "      <td>0</td>\n",
              "      <td>5.0</td>\n",
              "      <td>0</td>\n",
              "      <td>0</td>\n",
              "      <td>1</td>\n",
              "      <td>0</td>\n",
              "      <td>0</td>\n",
              "      <td>0</td>\n",
              "      <td>0</td>\n",
              "      <td>0</td>\n",
              "      <td>0</td>\n",
              "      <td>0</td>\n",
              "      <td>1</td>\n",
              "      <td>0</td>\n",
              "      <td>0</td>\n",
              "      <td>1</td>\n",
              "      <td>0</td>\n",
              "      <td>0</td>\n",
              "    </tr>\n",
              "    <tr>\n",
              "      <th>5</th>\n",
              "      <td>6</td>\n",
              "      <td>0</td>\n",
              "      <td>1</td>\n",
              "      <td>26</td>\n",
              "      <td>27895.49</td>\n",
              "      <td>24</td>\n",
              "      <td>0</td>\n",
              "      <td>0</td>\n",
              "      <td>27000.0</td>\n",
              "      <td>895.49</td>\n",
              "      <td>0.0331</td>\n",
              "      <td>0</td>\n",
              "      <td>0</td>\n",
              "      <td>T</td>\n",
              "      <td>1.0</td>\n",
              "      <td>23</td>\n",
              "      <td>25.0</td>\n",
              "      <td>1</td>\n",
              "      <td>0</td>\n",
              "      <td>1</td>\n",
              "      <td>1</td>\n",
              "      <td>0</td>\n",
              "      <td>0</td>\n",
              "      <td>5.0</td>\n",
              "      <td>0</td>\n",
              "      <td>0</td>\n",
              "      <td>1</td>\n",
              "      <td>0</td>\n",
              "      <td>0</td>\n",
              "      <td>0</td>\n",
              "      <td>0</td>\n",
              "      <td>0</td>\n",
              "      <td>0</td>\n",
              "      <td>0</td>\n",
              "      <td>1</td>\n",
              "      <td>0</td>\n",
              "      <td>0</td>\n",
              "      <td>1</td>\n",
              "      <td>0</td>\n",
              "      <td>0</td>\n",
              "    </tr>\n",
              "  </tbody>\n",
              "</table>\n",
              "</div>"
            ],
            "text/plain": [
              "   Worker_ID  SEX  EDUCATION_LEVEL  MONTHS_IN_PRIMARY_JOB  \\\n",
              "0          1    0                1                     32   \n",
              "1          2    0                4                     10   \n",
              "2          3    0                4                     84   \n",
              "4          5    1                1                      4   \n",
              "5          6    0                1                     26   \n",
              "\n",
              "   PRIMARY_APPT_SALARY  JOB_GRADE  IN_UNION  PAY_CYCLE  \\\n",
              "0             41615.00         25         0          1   \n",
              "1             32714.00         25         0          0   \n",
              "2             62636.72         26         0          0   \n",
              "4             29120.00         24         0          0   \n",
              "5             27895.49         24         0          0   \n",
              "\n",
              "   Starting_Full_Time_Salary  Career_Salary_Growth  \\\n",
              "0                    40000.0               1615.00   \n",
              "1                    26000.0               6714.00   \n",
              "2                    52000.0              10636.72   \n",
              "4                    29120.0                  0.00   \n",
              "5                    27000.0                895.49   \n",
              "\n",
              "   Percent_Career_Salary_Growth  Number_of_Sal_Adjustments  Number_of_Reclass  \\\n",
              "0                        0.0403                          0                  0   \n",
              "1                        0.2582                          0                  0   \n",
              "2                        0.2045                          0                  0   \n",
              "4                        0.0000                          0                  0   \n",
              "5                        0.0331                          0                  0   \n",
              "\n",
              "  EMPLOYMENT_STATUS  VOLUNTARY  Age_start  Age_last  Is_First  Local  US  \\\n",
              "0                 T        0.0         26      28.0         1      0   1   \n",
              "1                 T        1.0         23      27.0         0      1   1   \n",
              "2                 T        0.0         39      46.0         1      1   1   \n",
              "4                 T        1.0         21      23.0         0      1   1   \n",
              "5                 T        1.0         23      25.0         1      0   1   \n",
              "\n",
              "   Has_Manager  sex_diff  race_diff  edu_diff  RACE_A  RACE_B  RACE_C  RACE_P  \\\n",
              "0            1         0          0       4.0       0       0       1       0   \n",
              "1            1         0          0       0.0       0       0       1       0   \n",
              "2            1         1          0       2.0       0       0       1       0   \n",
              "4            1         1          0       5.0       0       0       1       0   \n",
              "5            1         0          0       5.0       0       0       1       0   \n",
              "\n",
              "   RACE_R  RACE_S  RACE_U  RACE_Z  MARITAL_STATUS_D  MARITAL_STATUS_M  \\\n",
              "0       0       0       0       0                 0                 0   \n",
              "1       0       0       0       0                 0                 0   \n",
              "2       0       0       0       0                 0                 0   \n",
              "4       0       0       0       0                 0                 0   \n",
              "5       0       0       0       0                 0                 0   \n",
              "\n",
              "   MARITAL_STATUS_S  MARITAL_STATUS_W  GRANT_PAID_F  GRANT_PAID_N  \\\n",
              "0                 1                 0             0             1   \n",
              "1                 1                 0             0             0   \n",
              "2                 1                 0             1             0   \n",
              "4                 1                 0             0             1   \n",
              "5                 1                 0             0             1   \n",
              "\n",
              "   GRANT_PAID_P  IS_IT  \n",
              "0             0      0  \n",
              "1             1      0  \n",
              "2             0      1  \n",
              "4             0      0  \n",
              "5             0      0  "
            ]
          },
          "metadata": {
            "tags": []
          },
          "execution_count": 30
        }
      ]
    },
    {
      "cell_type": "markdown",
      "metadata": {
        "id": "yq_1DrPXO506",
        "colab_type": "text"
      },
      "source": [
        "## Training Data Selection"
      ]
    },
    {
      "cell_type": "markdown",
      "metadata": {
        "id": "0L9KE8sRO506",
        "colab_type": "text"
      },
      "source": [
        "##### remove rows where Starting_Full_Time_Salary is null, remove the column because it is linearly correlated with PRIMARY_APPT_SALARY and Career_Salary_Growth"
      ]
    },
    {
      "cell_type": "code",
      "metadata": {
        "id": "0Xu60lM_O506",
        "colab_type": "code",
        "colab": {}
      },
      "source": [
        "data = data[data['Starting_Full_Time_Salary'].notnull()]\n",
        "data = data.drop(columns='Starting_Full_Time_Salary')"
      ],
      "execution_count": 0,
      "outputs": []
    },
    {
      "cell_type": "markdown",
      "metadata": {
        "id": "e38jmubzO507",
        "colab_type": "text"
      },
      "source": [
        "### Data selection and partition criteria\n",
        "1.we would like to partition people into two classes: who stayed more than T (active or terminated) and people who stayed less than T (only terminated) <br> \n",
        "2.two classes shouldn't be skewed"
      ]
    },
    {
      "cell_type": "code",
      "metadata": {
        "id": "j1KisqEZO507",
        "colab_type": "code",
        "colab": {}
      },
      "source": [
        "data = data[data['MONTHS_IN_PRIMARY_JOB']>=0]"
      ],
      "execution_count": 0,
      "outputs": []
    },
    {
      "cell_type": "code",
      "metadata": {
        "id": "z2iDFETNO508",
        "colab_type": "code",
        "outputId": "3a75f698-1e6d-4d89-cd66-f43b8b810075",
        "colab": {
          "base_uri": "https://localhost:8080/",
          "height": 782
        }
      },
      "source": [
        "hist = data[['MONTHS_IN_PRIMARY_JOB']].plot.hist(bins=10)\n",
        "\n",
        "hist = data[['MONTHS_IN_PRIMARY_JOB']][data['EMPLOYMENT_STATUS']!='T'].plot.hist(bins=10) \n",
        "\n",
        "hist = data[['MONTHS_IN_PRIMARY_JOB']][data['EMPLOYMENT_STATUS']=='T'].plot.hist(bins=10)"
      ],
      "execution_count": 33,
      "outputs": [
        {
          "output_type": "display_data",
          "data": {
            "image/png": "[encoded data removed]",
            "text/plain": [
              "<Figure size 432x288 with 1 Axes>"
            ]
          },
          "metadata": {
            "tags": []
          }
        },
        {
          "output_type": "display_data",
          "data": {
            "image/png": "[encoded data removed]",
            "text/plain": [
              "<Figure size 432x288 with 1 Axes>"
            ]
          },
          "metadata": {
            "tags": []
          }
        },
        {
          "output_type": "display_data",
          "data": {
            "image/png": "[encoded data removed]",
            "text/plain": [
              "<Figure size 432x288 with 1 Axes>"
            ]
          },
          "metadata": {
            "tags": []
          }
        }
      ]
    },
    {
      "cell_type": "code",
      "metadata": {
        "scrolled": true,
        "id": "P8HrvLneO509",
        "colab_type": "code",
        "outputId": "055f9aa2-73e8-428a-853e-f5dc38494360",
        "colab": {
          "base_uri": "https://localhost:8080/",
          "height": 478
        }
      },
      "source": [
        "x = data[['MONTHS_IN_PRIMARY_JOB']][data['EMPLOYMENT_STATUS']=='T'].\\\n",
        "    groupby(by = np.floor(data['MONTHS_IN_PRIMARY_JOB']/12)).\\\n",
        "    count().rename(columns={'MONTHS_IN_PRIMARY_JOB':'count'})\n",
        "\n",
        "ax = x.plot.bar(y='count')\n",
        " \n",
        "for c,i in enumerate(x.index):\n",
        "    per_year = x.iloc[c:(c+1)].values.sum()/x.values.sum()\n",
        "    percentage = x.iloc[:(c+1)].values.sum()/x.values.sum()\n",
        "    print('terminated within {}-{} years (<= {} months): {}'.format(i,i+1,12*(i+1)-1,per_year), 'percentage_sum: {}'.format(percentage),sep=', ')\n",
        "    if percentage>=0.95:\n",
        "        break"
      ],
      "execution_count": 34,
      "outputs": [
        {
          "output_type": "stream",
          "text": [
            "terminated within 0.0-1.0 years (<= 11.0 months): 0.2511621900826446, percentage_sum: 0.2511621900826446\n",
            "terminated within 1.0-2.0 years (<= 23.0 months): 0.2550361570247934, percentage_sum: 0.506198347107438\n",
            "terminated within 2.0-3.0 years (<= 35.0 months): 0.1716167355371901, percentage_sum: 0.6778150826446281\n",
            "terminated within 3.0-4.0 years (<= 47.0 months): 0.09839876033057851, percentage_sum: 0.7762138429752066\n",
            "terminated within 4.0-5.0 years (<= 59.0 months): 0.06159607438016529, percentage_sum: 0.8378099173553719\n",
            "terminated within 5.0-6.0 years (<= 71.0 months): 0.03848140495867768, percentage_sum: 0.8762913223140496\n",
            "terminated within 6.0-7.0 years (<= 83.0 months): 0.026472107438016527, percentage_sum: 0.9027634297520661\n",
            "terminated within 7.0-8.0 years (<= 95.0 months): 0.022985537190082644, percentage_sum: 0.9257489669421488\n",
            "terminated within 8.0-9.0 years (<= 107.0 months): 0.016141528925619833, percentage_sum: 0.9418904958677686\n",
            "terminated within 9.0-10.0 years (<= 119.0 months): 0.013042355371900826, percentage_sum: 0.9549328512396694\n"
          ],
          "name": "stdout"
        },
        {
          "output_type": "display_data",
          "data": {
            "image/png": "[encoded data removed]",
            "text/plain": [
              "<Figure size 432x288 with 1 Axes>"
            ]
          },
          "metadata": {
            "tags": []
          }
        }
      ]
    },
    {
      "cell_type": "code",
      "metadata": {
        "id": "47YBGCtwO50-",
        "colab_type": "code",
        "outputId": "b80c62ff-db53-464a-d664-956117b52b55",
        "colab": {
          "base_uri": "https://localhost:8080/",
          "height": 54
        }
      },
      "source": [
        "label0 = data[['Worker_ID']][data['EMPLOYMENT_STATUS'] == 'A']                    \n",
        "label1 = data[['Worker_ID']][(data['EMPLOYMENT_STATUS'] == 'T') & (data['VOLUNTARY'] == 1)]\n",
        "\n",
        "data = data.drop(columns = ['EMPLOYMENT_STATUS','VOLUNTARY']) \n",
        "\n",
        "print(label0.shape, label1.shape, data.shape,sep=' ')\n",
        "\n",
        "label0['label'] = 0\n",
        "label1['label'] = 1\n",
        "label = pd.concat([label0,label1],axis=0)"
      ],
      "execution_count": 35,
      "outputs": [
        {
          "output_type": "stream",
          "text": [
            "(9376, 1) (6528, 1) (17133, 37)\n"
          ],
          "name": "stdout"
        }
      ]
    },
    {
      "cell_type": "code",
      "metadata": {
        "id": "Mfv-oSj1O51A",
        "colab_type": "code",
        "colab": {}
      },
      "source": [
        "data = data.merge(label, how='right')\n",
        "data.set_index('Worker_ID',inplace=True)"
      ],
      "execution_count": 0,
      "outputs": []
    },
    {
      "cell_type": "code",
      "metadata": {
        "id": "vRViiQvFO51B",
        "colab_type": "code",
        "outputId": "8311ad5d-4653-4222-cf36-957492566684",
        "colab": {
          "base_uri": "https://localhost:8080/",
          "height": 252
        }
      },
      "source": [
        "data.head()"
      ],
      "execution_count": 37,
      "outputs": [
        {
          "output_type": "execute_result",
          "data": {
            "text/html": [
              "<div>\n",
              "<style scoped>\n",
              "    .dataframe tbody tr th:only-of-type {\n",
              "        vertical-align: middle;\n",
              "    }\n",
              "\n",
              "    .dataframe tbody tr th {\n",
              "        vertical-align: top;\n",
              "    }\n",
              "\n",
              "    .dataframe thead th {\n",
              "        text-align: right;\n",
              "    }\n",
              "</style>\n",
              "<table border=\"1\" class=\"dataframe\">\n",
              "  <thead>\n",
              "    <tr style=\"text-align: right;\">\n",
              "      <th></th>\n",
              "      <th>SEX</th>\n",
              "      <th>EDUCATION_LEVEL</th>\n",
              "      <th>MONTHS_IN_PRIMARY_JOB</th>\n",
              "      <th>PRIMARY_APPT_SALARY</th>\n",
              "      <th>JOB_GRADE</th>\n",
              "      <th>IN_UNION</th>\n",
              "      <th>PAY_CYCLE</th>\n",
              "      <th>Career_Salary_Growth</th>\n",
              "      <th>Percent_Career_Salary_Growth</th>\n",
              "      <th>Number_of_Sal_Adjustments</th>\n",
              "      <th>Number_of_Reclass</th>\n",
              "      <th>Age_start</th>\n",
              "      <th>Age_last</th>\n",
              "      <th>Is_First</th>\n",
              "      <th>Local</th>\n",
              "      <th>US</th>\n",
              "      <th>Has_Manager</th>\n",
              "      <th>sex_diff</th>\n",
              "      <th>race_diff</th>\n",
              "      <th>edu_diff</th>\n",
              "      <th>RACE_A</th>\n",
              "      <th>RACE_B</th>\n",
              "      <th>RACE_C</th>\n",
              "      <th>RACE_P</th>\n",
              "      <th>RACE_R</th>\n",
              "      <th>RACE_S</th>\n",
              "      <th>RACE_U</th>\n",
              "      <th>RACE_Z</th>\n",
              "      <th>MARITAL_STATUS_D</th>\n",
              "      <th>MARITAL_STATUS_M</th>\n",
              "      <th>MARITAL_STATUS_S</th>\n",
              "      <th>MARITAL_STATUS_W</th>\n",
              "      <th>GRANT_PAID_F</th>\n",
              "      <th>GRANT_PAID_N</th>\n",
              "      <th>GRANT_PAID_P</th>\n",
              "      <th>IS_IT</th>\n",
              "      <th>label</th>\n",
              "    </tr>\n",
              "    <tr>\n",
              "      <th>Worker_ID</th>\n",
              "      <th></th>\n",
              "      <th></th>\n",
              "      <th></th>\n",
              "      <th></th>\n",
              "      <th></th>\n",
              "      <th></th>\n",
              "      <th></th>\n",
              "      <th></th>\n",
              "      <th></th>\n",
              "      <th></th>\n",
              "      <th></th>\n",
              "      <th></th>\n",
              "      <th></th>\n",
              "      <th></th>\n",
              "      <th></th>\n",
              "      <th></th>\n",
              "      <th></th>\n",
              "      <th></th>\n",
              "      <th></th>\n",
              "      <th></th>\n",
              "      <th></th>\n",
              "      <th></th>\n",
              "      <th></th>\n",
              "      <th></th>\n",
              "      <th></th>\n",
              "      <th></th>\n",
              "      <th></th>\n",
              "      <th></th>\n",
              "      <th></th>\n",
              "      <th></th>\n",
              "      <th></th>\n",
              "      <th></th>\n",
              "      <th></th>\n",
              "      <th></th>\n",
              "      <th></th>\n",
              "      <th></th>\n",
              "      <th></th>\n",
              "    </tr>\n",
              "  </thead>\n",
              "  <tbody>\n",
              "    <tr>\n",
              "      <th>2</th>\n",
              "      <td>0</td>\n",
              "      <td>4</td>\n",
              "      <td>10</td>\n",
              "      <td>32714.00</td>\n",
              "      <td>25</td>\n",
              "      <td>0</td>\n",
              "      <td>0</td>\n",
              "      <td>6714.00</td>\n",
              "      <td>0.2582</td>\n",
              "      <td>0</td>\n",
              "      <td>0</td>\n",
              "      <td>23</td>\n",
              "      <td>27.0</td>\n",
              "      <td>0</td>\n",
              "      <td>1</td>\n",
              "      <td>1</td>\n",
              "      <td>1</td>\n",
              "      <td>0</td>\n",
              "      <td>0</td>\n",
              "      <td>0.0</td>\n",
              "      <td>0</td>\n",
              "      <td>0</td>\n",
              "      <td>1</td>\n",
              "      <td>0</td>\n",
              "      <td>0</td>\n",
              "      <td>0</td>\n",
              "      <td>0</td>\n",
              "      <td>0</td>\n",
              "      <td>0</td>\n",
              "      <td>0</td>\n",
              "      <td>1</td>\n",
              "      <td>0</td>\n",
              "      <td>0</td>\n",
              "      <td>0</td>\n",
              "      <td>1</td>\n",
              "      <td>0</td>\n",
              "      <td>1</td>\n",
              "    </tr>\n",
              "    <tr>\n",
              "      <th>5</th>\n",
              "      <td>1</td>\n",
              "      <td>1</td>\n",
              "      <td>4</td>\n",
              "      <td>29120.00</td>\n",
              "      <td>24</td>\n",
              "      <td>0</td>\n",
              "      <td>0</td>\n",
              "      <td>0.00</td>\n",
              "      <td>0.0000</td>\n",
              "      <td>0</td>\n",
              "      <td>0</td>\n",
              "      <td>21</td>\n",
              "      <td>23.0</td>\n",
              "      <td>0</td>\n",
              "      <td>1</td>\n",
              "      <td>1</td>\n",
              "      <td>1</td>\n",
              "      <td>1</td>\n",
              "      <td>0</td>\n",
              "      <td>5.0</td>\n",
              "      <td>0</td>\n",
              "      <td>0</td>\n",
              "      <td>1</td>\n",
              "      <td>0</td>\n",
              "      <td>0</td>\n",
              "      <td>0</td>\n",
              "      <td>0</td>\n",
              "      <td>0</td>\n",
              "      <td>0</td>\n",
              "      <td>0</td>\n",
              "      <td>1</td>\n",
              "      <td>0</td>\n",
              "      <td>0</td>\n",
              "      <td>1</td>\n",
              "      <td>0</td>\n",
              "      <td>0</td>\n",
              "      <td>1</td>\n",
              "    </tr>\n",
              "    <tr>\n",
              "      <th>6</th>\n",
              "      <td>0</td>\n",
              "      <td>1</td>\n",
              "      <td>26</td>\n",
              "      <td>27895.49</td>\n",
              "      <td>24</td>\n",
              "      <td>0</td>\n",
              "      <td>0</td>\n",
              "      <td>895.49</td>\n",
              "      <td>0.0331</td>\n",
              "      <td>0</td>\n",
              "      <td>0</td>\n",
              "      <td>23</td>\n",
              "      <td>25.0</td>\n",
              "      <td>1</td>\n",
              "      <td>0</td>\n",
              "      <td>1</td>\n",
              "      <td>1</td>\n",
              "      <td>0</td>\n",
              "      <td>0</td>\n",
              "      <td>5.0</td>\n",
              "      <td>0</td>\n",
              "      <td>0</td>\n",
              "      <td>1</td>\n",
              "      <td>0</td>\n",
              "      <td>0</td>\n",
              "      <td>0</td>\n",
              "      <td>0</td>\n",
              "      <td>0</td>\n",
              "      <td>0</td>\n",
              "      <td>0</td>\n",
              "      <td>1</td>\n",
              "      <td>0</td>\n",
              "      <td>0</td>\n",
              "      <td>1</td>\n",
              "      <td>0</td>\n",
              "      <td>0</td>\n",
              "      <td>1</td>\n",
              "    </tr>\n",
              "    <tr>\n",
              "      <th>7</th>\n",
              "      <td>1</td>\n",
              "      <td>1</td>\n",
              "      <td>49</td>\n",
              "      <td>41593.00</td>\n",
              "      <td>26</td>\n",
              "      <td>0</td>\n",
              "      <td>0</td>\n",
              "      <td>18280.00</td>\n",
              "      <td>0.7841</td>\n",
              "      <td>0</td>\n",
              "      <td>0</td>\n",
              "      <td>27</td>\n",
              "      <td>31.0</td>\n",
              "      <td>1</td>\n",
              "      <td>0</td>\n",
              "      <td>1</td>\n",
              "      <td>1</td>\n",
              "      <td>1</td>\n",
              "      <td>0</td>\n",
              "      <td>5.0</td>\n",
              "      <td>0</td>\n",
              "      <td>0</td>\n",
              "      <td>1</td>\n",
              "      <td>0</td>\n",
              "      <td>0</td>\n",
              "      <td>0</td>\n",
              "      <td>0</td>\n",
              "      <td>0</td>\n",
              "      <td>0</td>\n",
              "      <td>1</td>\n",
              "      <td>0</td>\n",
              "      <td>0</td>\n",
              "      <td>1</td>\n",
              "      <td>0</td>\n",
              "      <td>0</td>\n",
              "      <td>0</td>\n",
              "      <td>1</td>\n",
              "    </tr>\n",
              "    <tr>\n",
              "      <th>8</th>\n",
              "      <td>1</td>\n",
              "      <td>4</td>\n",
              "      <td>18</td>\n",
              "      <td>33014.00</td>\n",
              "      <td>24</td>\n",
              "      <td>0</td>\n",
              "      <td>0</td>\n",
              "      <td>1514.00</td>\n",
              "      <td>0.0480</td>\n",
              "      <td>0</td>\n",
              "      <td>0</td>\n",
              "      <td>31</td>\n",
              "      <td>32.0</td>\n",
              "      <td>1</td>\n",
              "      <td>0</td>\n",
              "      <td>1</td>\n",
              "      <td>1</td>\n",
              "      <td>0</td>\n",
              "      <td>0</td>\n",
              "      <td>2.0</td>\n",
              "      <td>0</td>\n",
              "      <td>0</td>\n",
              "      <td>1</td>\n",
              "      <td>0</td>\n",
              "      <td>0</td>\n",
              "      <td>0</td>\n",
              "      <td>0</td>\n",
              "      <td>0</td>\n",
              "      <td>0</td>\n",
              "      <td>0</td>\n",
              "      <td>1</td>\n",
              "      <td>0</td>\n",
              "      <td>1</td>\n",
              "      <td>0</td>\n",
              "      <td>0</td>\n",
              "      <td>0</td>\n",
              "      <td>1</td>\n",
              "    </tr>\n",
              "  </tbody>\n",
              "</table>\n",
              "</div>"
            ],
            "text/plain": [
              "           SEX  EDUCATION_LEVEL  MONTHS_IN_PRIMARY_JOB  PRIMARY_APPT_SALARY  \\\n",
              "Worker_ID                                                                     \n",
              "2            0                4                     10             32714.00   \n",
              "5            1                1                      4             29120.00   \n",
              "6            0                1                     26             27895.49   \n",
              "7            1                1                     49             41593.00   \n",
              "8            1                4                     18             33014.00   \n",
              "\n",
              "           JOB_GRADE  IN_UNION  PAY_CYCLE  Career_Salary_Growth  \\\n",
              "Worker_ID                                                         \n",
              "2                 25         0          0               6714.00   \n",
              "5                 24         0          0                  0.00   \n",
              "6                 24         0          0                895.49   \n",
              "7                 26         0          0              18280.00   \n",
              "8                 24         0          0               1514.00   \n",
              "\n",
              "           Percent_Career_Salary_Growth  Number_of_Sal_Adjustments  \\\n",
              "Worker_ID                                                            \n",
              "2                                0.2582                          0   \n",
              "5                                0.0000                          0   \n",
              "6                                0.0331                          0   \n",
              "7                                0.7841                          0   \n",
              "8                                0.0480                          0   \n",
              "\n",
              "           Number_of_Reclass  Age_start  Age_last  Is_First  Local  US  \\\n",
              "Worker_ID                                                                \n",
              "2                          0         23      27.0         0      1   1   \n",
              "5                          0         21      23.0         0      1   1   \n",
              "6                          0         23      25.0         1      0   1   \n",
              "7                          0         27      31.0         1      0   1   \n",
              "8                          0         31      32.0         1      0   1   \n",
              "\n",
              "           Has_Manager  sex_diff  race_diff  edu_diff  RACE_A  RACE_B  RACE_C  \\\n",
              "Worker_ID                                                                       \n",
              "2                    1         0          0       0.0       0       0       1   \n",
              "5                    1         1          0       5.0       0       0       1   \n",
              "6                    1         0          0       5.0       0       0       1   \n",
              "7                    1         1          0       5.0       0       0       1   \n",
              "8                    1         0          0       2.0       0       0       1   \n",
              "\n",
              "           RACE_P  RACE_R  RACE_S  RACE_U  RACE_Z  MARITAL_STATUS_D  \\\n",
              "Worker_ID                                                             \n",
              "2               0       0       0       0       0                 0   \n",
              "5               0       0       0       0       0                 0   \n",
              "6               0       0       0       0       0                 0   \n",
              "7               0       0       0       0       0                 0   \n",
              "8               0       0       0       0       0                 0   \n",
              "\n",
              "           MARITAL_STATUS_M  MARITAL_STATUS_S  MARITAL_STATUS_W  GRANT_PAID_F  \\\n",
              "Worker_ID                                                                       \n",
              "2                         0                 1                 0             0   \n",
              "5                         0                 1                 0             0   \n",
              "6                         0                 1                 0             0   \n",
              "7                         1                 0                 0             1   \n",
              "8                         0                 1                 0             1   \n",
              "\n",
              "           GRANT_PAID_N  GRANT_PAID_P  IS_IT  label  \n",
              "Worker_ID                                            \n",
              "2                     0             1      0      1  \n",
              "5                     1             0      0      1  \n",
              "6                     1             0      0      1  \n",
              "7                     0             0      0      1  \n",
              "8                     0             0      0      1  "
            ]
          },
          "metadata": {
            "tags": []
          },
          "execution_count": 37
        }
      ]
    },
    {
      "cell_type": "code",
      "metadata": {
        "id": "2I5K5RO9O51F",
        "colab_type": "code",
        "colab": {}
      },
      "source": [
        "data.to_csv('final_data.csv')"
      ],
      "execution_count": 0,
      "outputs": []
    },
    {
      "cell_type": "code",
      "metadata": {
        "id": "qJrI5fnUO51F",
        "colab_type": "code",
        "outputId": "a81b802d-c448-420f-ca75-5c8a95c259c8",
        "colab": {
          "base_uri": "https://localhost:8080/",
          "height": 1000
        }
      },
      "source": [
        "sns.set(style=\"white\")\n",
        "\n",
        "corr = data.corr()\n",
        "mask = np.zeros_like(corr, dtype=np.bool)\n",
        "mask[np.triu_indices_from(mask)] = True\n",
        "\n",
        "f, ax = plt.subplots(figsize=(20,20))\n",
        "\n",
        "cmap = sns.diverging_palette(220, 10, as_cmap=True)\n",
        "sns.heatmap(corr, mask=mask, cmap=cmap, center=0,\n",
        "            square=True, linewidths=.5, cbar_kws={\"shrink\": .5})\n",
        "plt.show()"
      ],
      "execution_count": 39,
      "outputs": [
        {
          "output_type": "display_data",
          "data": {
            "image/png": "[encoded data removed]",
            "text/plain": [
              "<Figure size 1440x1440 with 2 Axes>"
            ]
          },
          "metadata": {
            "tags": []
          }
        }
      ]
    },
    {
      "cell_type": "markdown",
      "metadata": {
        "id": "Uo5bYL9sO51M",
        "colab_type": "text"
      },
      "source": [
        "## Standardize the data"
      ]
    },
    {
      "cell_type": "code",
      "metadata": {
        "id": "sx-ev6lUO51G",
        "colab_type": "code",
        "colab": {}
      },
      "source": [
        "# transform data into array\n",
        "y = data[['label']].values.reshape(-1)\n",
        "X = data.drop(columns='label')\n",
        "X = X.values\n",
        "\n",
        "# split into training and testing data\n",
        "from sklearn.model_selection import train_test_split\n",
        "x_train, x_test, y_train, y_test = train_test_split(X, y, test_size=0.3)"
      ],
      "execution_count": 0,
      "outputs": []
    },
    {
      "cell_type": "code",
      "metadata": {
        "id": "eZ0QuOzog0OD",
        "colab_type": "code",
        "colab": {}
      },
      "source": [
        "from sklearn.preprocessing import StandardScaler\n",
        "\n",
        "scaler = StandardScaler().fit(x_train)\n",
        "x_train_standardized = scaler.transform(x_train)\n",
        "x_test_standardized = scaler.transform(x_test)"
      ],
      "execution_count": 0,
      "outputs": []
    },
    {
      "cell_type": "markdown",
      "metadata": {
        "id": "liurshQ_O51I",
        "colab_type": "text"
      },
      "source": [
        "## PCA"
      ]
    },
    {
      "cell_type": "code",
      "metadata": {
        "id": "gHoNcyU9O51I",
        "colab_type": "code",
        "outputId": "2fdefc5b-4811-479d-c4fe-775191ff34d7",
        "colab": {
          "base_uri": "https://localhost:8080/",
          "height": 334
        }
      },
      "source": [
        "from sklearn.decomposition import PCA\n",
        "\n",
        "pca = PCA(n_components = x_train_standardized.shape[1]-1, whiten=True).fit(x_train_standardized) # \n",
        "\n",
        "ratio = pca.explained_variance_ratio_\n",
        "cum_ratio = np.array([sum(ratio[0:i+1]) for i in range(len(ratio))])\n",
        "\n",
        "plt.bar(list(range(len(ratio))),ratio)\n",
        "plt.plot(cum_ratio,'-o')\n",
        "plt.show()\n",
        "print(np.round(cum_ratio,3))\n",
        "t = 0.99\n",
        "cut_off = np.where(cum_ratio>t)[0][0]+1\n",
        "print('{} components explained over {}% variance'.format(cut_off, int(100*t)))"
      ],
      "execution_count": 0,
      "outputs": [
        {
          "output_type": "display_data",
          "data": {
            "image/png": "[encoded data removed]",
            "text/plain": [
              "<Figure size 432x288 with 1 Axes>"
            ]
          },
          "metadata": {
            "tags": []
          }
        },
        {
          "output_type": "stream",
          "text": [
            "[0.131 0.203 0.266 0.319 0.364 0.402 0.438 0.472 0.505 0.536 0.567 0.595\n",
            " 0.623 0.651 0.679 0.707 0.735 0.762 0.787 0.812 0.836 0.859 0.88  0.9\n",
            " 0.919 0.938 0.955 0.97  0.981 0.989 0.996 0.998 1.    1.    1.   ]\n",
            "31 components explained over 99% variance\n"
          ],
          "name": "stdout"
        }
      ]
    },
    {
      "cell_type": "code",
      "metadata": {
        "id": "QyRvwchZbPqR",
        "colab_type": "code",
        "colab": {}
      },
      "source": [
        "pca_final = PCA(n_components=cut_off).fit(x_train_standardized)\n",
        "x_train_pca = pca.transform(x_train_standardized)\n",
        "x_test_pca = pca.transform(x_test_standardized)"
      ],
      "execution_count": 0,
      "outputs": []
    },
    {
      "cell_type": "markdown",
      "metadata": {
        "id": "KfsKtLrMD3H_",
        "colab_type": "text"
      },
      "source": [
        "PCA not applicable for Random Forest. Only marginally better for the rest. "
      ]
    },
    {
      "cell_type": "markdown",
      "metadata": {
        "id": "EAWq0IAt5byX",
        "colab_type": "text"
      },
      "source": [
        "## cross validation"
      ]
    },
    {
      "cell_type": "code",
      "metadata": {
        "id": "6GlNm3mL9IcJ",
        "colab_type": "code",
        "colab": {}
      },
      "source": [
        "from sklearn.linear_model import LogisticRegression\n",
        "from sklearn.svm import SVC\n",
        "from xgboost import XGBClassifier\n",
        "from sklearn.ensemble import RandomForestClassifier\n",
        "\n",
        "rfc = RandomForestClassifier(n_estimators = 100,class_weight = \"balanced\")\n",
        "lr = LogisticRegression(solver='lbfgs',max_iter=500)\n",
        "svm = SVC(gamma='auto')\n",
        "xg = XGBClassifier()\n",
        "\n",
        "models = {}\n",
        "models['Logistic Regression'] = lr\n",
        "models['Random Forest'] = rfc\n",
        "models['SVM'] = svm\n",
        "models['XGBoost'] = xg"
      ],
      "execution_count": 0,
      "outputs": []
    },
    {
      "cell_type": "code",
      "metadata": {
        "id": "AiP8N_95O51T",
        "colab_type": "code",
        "outputId": "f0e64316-e32f-46b7-e34a-b9687bdcb27a",
        "colab": {
          "base_uri": "https://localhost:8080/",
          "height": 100
        }
      },
      "source": [
        "from sklearn.model_selection import KFold,cross_val_score\n",
        "acc_results = []\n",
        "auc_results = []\n",
        "\n",
        "names = []\n",
        "col = ['Algorithm', 'ROC AUC Mean', 'ROC AUC STD', \n",
        "       'Accuracy Mean', 'Accuracy STD']\n",
        "df_results = pd.DataFrame(columns=col)\n",
        "\n",
        "i = 0\n",
        "for name, model in models.items():\n",
        "    kfold = KFold(n_splits=10)  # 10-fold cross-validation\n",
        "    if name == 'Random Forest':\n",
        "      x = x_train\n",
        "    else:\n",
        "      x = x_train_standardized\n",
        "\n",
        "    cv_acc_results = cross_val_score(model, x, y_train, cv=kfold, scoring='accuracy')\n",
        "\n",
        "    cv_auc_results = cross_val_score(model, x, y_train, cv=kfold, scoring='roc_auc')\n",
        "\n",
        "    acc_results.append(cv_acc_results)\n",
        "    auc_results.append(cv_auc_results)\n",
        "\n",
        "    names.append(name)\n",
        "    df_results.loc[i] = [name,\n",
        "                         round(cv_auc_results.mean()*100, 2),\n",
        "                         round(cv_auc_results.std()*100, 2),\n",
        "                         round(cv_acc_results.mean()*100, 2),\n",
        "                         round(cv_acc_results.std()*100, 2)]\n",
        "    i += 1\n",
        "print(df_results.sort_values(by=['ROC AUC Mean'], ascending=False))"
      ],
      "execution_count": 0,
      "outputs": [
        {
          "output_type": "stream",
          "text": [
            "             Algorithm  ROC AUC Mean  ROC AUC STD  Accuracy Mean  Accuracy STD\n",
            "3              XGBoost         89.61         1.07          83.05          1.07\n",
            "1        Random Forest         89.45         0.99          83.57          1.21\n",
            "0  Logistic Regression         85.87         1.15          79.91          1.38\n",
            "2                  SVM         85.61         1.30          79.68          1.33\n"
          ],
          "name": "stdout"
        }
      ]
    },
    {
      "cell_type": "code",
      "metadata": {
        "id": "t9k3-RzT9Z3-",
        "colab_type": "code",
        "outputId": "566b05ab-e528-47e8-956d-193e725509a9",
        "colab": {
          "base_uri": "https://localhost:8080/",
          "height": 481
        }
      },
      "source": [
        "fig = plt.figure(figsize=(15, 7))\n",
        "fig.suptitle('Accuracy')\n",
        "ax = fig.add_subplot(111)\n",
        "plt.boxplot(acc_results)\n",
        "ax.set_xticklabels(names)\n",
        "plt.show()\n"
      ],
      "execution_count": 0,
      "outputs": [
        {
          "output_type": "display_data",
          "data": {
            "image/png": "[encoded data removed]",
            "text/plain": [
              "<Figure size 1080x504 with 1 Axes>"
            ]
          },
          "metadata": {
            "tags": []
          }
        }
      ]
    },
    {
      "cell_type": "code",
      "metadata": {
        "id": "iykNMXVV_PlE",
        "colab_type": "code",
        "outputId": "a848bab2-5b67-4fde-fc63-a148d5001910",
        "colab": {
          "base_uri": "https://localhost:8080/",
          "height": 481
        }
      },
      "source": [
        "fig = plt.figure(figsize=(15, 7))\n",
        "fig.suptitle('ROC AUC')\n",
        "ax = fig.add_subplot(111)\n",
        "plt.boxplot(auc_results)\n",
        "ax.set_xticklabels(names)\n",
        "plt.show()"
      ],
      "execution_count": 0,
      "outputs": [
        {
          "output_type": "display_data",
          "data": {
            "image/png": "[encoded data removed]",
            "text/plain": [
              "<Figure size 1080x504 with 1 Axes>"
            ]
          },
          "metadata": {
            "tags": []
          }
        }
      ]
    },
    {
      "cell_type": "markdown",
      "metadata": {
        "id": "uyPcePkW5kVk",
        "colab_type": "text"
      },
      "source": [
        "## Training accuracy"
      ]
    },
    {
      "cell_type": "code",
      "metadata": {
        "id": "GuFIXQw85tIn",
        "colab_type": "code",
        "colab": {}
      },
      "source": [
        "from sklearn.metrics import confusion_matrix, f1_score, accuracy_score, precision_score, recall_score, roc_auc_score"
      ],
      "execution_count": 0,
      "outputs": []
    },
    {
      "cell_type": "code",
      "metadata": {
        "id": "2Vx739hDO51J",
        "colab_type": "code",
        "colab": {}
      },
      "source": [
        "# from imblearn.over_sampling import SMOTE\n",
        "# sm = SMOTE(random_state=42)\n",
        "# X_res, y_res = sm.fit_resample(data.drop(columns='label'), data[['label']])\n",
        "# print('Resampled dataset shape %s' % Counter(y_res))\n",
        "def Plot_Metrics(y_test, y_pred):\n",
        "  cnf_matrix = confusion_matrix(y_test, y_pred)  \n",
        "  fig, ax = plt.subplots()\n",
        "  sns.heatmap(cnf_matrix, annot=True, cmap=\"YlGnBu\" ,fmt='d', linewidths=0.25)\n",
        "  plt.title('Confusion matrix')\n",
        "  plt.ylabel('Actual label')\n",
        "  plt.xlabel('Predicted label')\n",
        "  print(\"Accuracy:\", accuracy_score(y_test, y_pred))\n",
        "  print(\"roc_auc_score:\",roc_auc_score(y_test, y_pred))\n",
        "  print(\"Precision:\", precision_score(y_test, y_pred))\n",
        "  print(\"Recall:\", recall_score(y_test, y_pred))\n",
        "  print(\"f1_score:\",f1_score(y_test, y_pred))"
      ],
      "execution_count": 0,
      "outputs": []
    },
    {
      "cell_type": "markdown",
      "metadata": {
        "id": "GDvFBkqvO51I",
        "colab_type": "text"
      },
      "source": [
        "### Logistic Regression"
      ]
    },
    {
      "cell_type": "code",
      "metadata": {
        "id": "ep6prmoKO51J",
        "colab_type": "code",
        "outputId": "e60cf7a6-a6ba-45fc-b7f6-e434a0a412e5",
        "colab": {
          "base_uri": "https://localhost:8080/",
          "height": 384
        }
      },
      "source": [
        "lr = LogisticRegression(solver='lbfgs',max_iter=500).fit(x_train_standardized, y_train)\n",
        "y_pred = lr.predict(x_test_standardized)\n",
        "\n",
        "Plot_Metrics(y_test, y_pred)"
      ],
      "execution_count": 0,
      "outputs": [
        {
          "output_type": "stream",
          "text": [
            "Accuracy: 0.7917015926236379\n",
            "roc_auc_score: 0.7604288857374629\n",
            "Precision: 0.8408759124087591\n",
            "Recall: 0.5975103734439834\n",
            "f1_score: 0.698605215281989\n"
          ],
          "name": "stdout"
        },
        {
          "output_type": "display_data",
          "data": {
            "image/png": "[encoded data removed]",
            "text/plain": [
              "<Figure size 432x288 with 2 Axes>"
            ]
          },
          "metadata": {
            "tags": []
          }
        }
      ]
    },
    {
      "cell_type": "markdown",
      "metadata": {
        "id": "5LVxHXznO51M",
        "colab_type": "text"
      },
      "source": [
        "### Random Forest & Feature Importance"
      ]
    },
    {
      "cell_type": "code",
      "metadata": {
        "id": "16yT1XX1O51M",
        "colab_type": "code",
        "outputId": "a518dfaa-0d89-4802-f1b5-bdfef5291ba3",
        "colab": {
          "base_uri": "https://localhost:8080/",
          "height": 384
        }
      },
      "source": [
        "rfc = RandomForestClassifier(n_estimators = 100)\n",
        "rfc.fit(x_train, y_train)\n",
        "\n",
        "y_pred = rfc.predict(x_test)\n",
        "Plot_Metrics(y_test, y_pred)\n"
      ],
      "execution_count": 0,
      "outputs": [
        {
          "output_type": "stream",
          "text": [
            "Accuracy: 0.8300502933780386\n",
            "roc_auc_score: 0.8062168443720784\n",
            "Precision: 0.8691341705221415\n",
            "Recall: 0.6820539419087137\n",
            "f1_score: 0.7643126997965708\n"
          ],
          "name": "stdout"
        },
        {
          "output_type": "display_data",
          "data": {
            "image/png": "[encoded data removed]",
            "text/plain": [
              "<Figure size 432x288 with 2 Axes>"
            ]
          },
          "metadata": {
            "tags": []
          }
        }
      ]
    },
    {
      "cell_type": "code",
      "metadata": {
        "id": "E7ip-mRTATl8",
        "colab_type": "code",
        "outputId": "cdad5df9-94db-42ba-e124-d865cd2a7b7d",
        "colab": {
          "base_uri": "https://localhost:8080/",
          "height": 608
        }
      },
      "source": [
        "f = sorted(zip(map(lambda x: round(x, 4), rfc.feature_importances_), data.drop(columns='label').columns), \n",
        "             reverse=True)\n",
        "plt.figure(figsize=(15, 7))\n",
        "plt.title(\"Feature Importance\") \n",
        "plt.bar(range(len(f)), [x[0] for x in f]) \n",
        "plt.xticks(range(len(f)), [x[1] for x in f], rotation=90) \n",
        "plt.show() "
      ],
      "execution_count": 0,
      "outputs": [
        {
          "output_type": "display_data",
          "data": {
            "image/png": "[encoded data removed]",
            "text/plain": [
              "<Figure size 1080x504 with 1 Axes>"
            ]
          },
          "metadata": {
            "tags": []
          }
        }
      ]
    },
    {
      "cell_type": "markdown",
      "metadata": {
        "id": "DAW2JAsSO51N",
        "colab_type": "text"
      },
      "source": [
        "### Neural Nets"
      ]
    },
    {
      "cell_type": "code",
      "metadata": {
        "id": "Du-hH-QHO51N",
        "colab_type": "code",
        "colab": {}
      },
      "source": [
        "# see other notebook"
      ],
      "execution_count": 0,
      "outputs": []
    },
    {
      "cell_type": "markdown",
      "metadata": {
        "id": "d14Lh5bpO51O",
        "colab_type": "text"
      },
      "source": [
        "### SVM"
      ]
    },
    {
      "cell_type": "code",
      "metadata": {
        "id": "-Kdnn__7O51P",
        "colab_type": "code",
        "outputId": "322b3321-1b07-4f21-a5ce-f65809465a3e",
        "colab": {
          "base_uri": "https://localhost:8080/",
          "height": 404
        }
      },
      "source": [
        "svm = SVC(gamma='auto')\n",
        "svm.fit(x_train_standardized, y_train) \n",
        "y_pred = svm.predict(x_test_standardized)\n",
        "Plot_Metrics(y_test, y_pred)"
      ],
      "execution_count": 59,
      "outputs": [
        {
          "output_type": "stream",
          "text": [
            "Accuracy: 0.7893964794635373\n",
            "roc_auc_score: 0.7578978833484331\n",
            "Precision: 0.8718342287029931\n",
            "Recall: 0.5754812563323202\n",
            "f1_score: 0.6933170582850167\n"
          ],
          "name": "stdout"
        },
        {
          "output_type": "display_data",
          "data": {
            "image/png": "[encoded data removed]",
            "text/plain": [
              "<Figure size 432x288 with 2 Axes>"
            ]
          },
          "metadata": {
            "tags": []
          }
        }
      ]
    },
    {
      "cell_type": "markdown",
      "metadata": {
        "id": "W8fFBq70Bzph",
        "colab_type": "text"
      },
      "source": [
        "### XGBoost"
      ]
    },
    {
      "cell_type": "code",
      "metadata": {
        "id": "kfNCovKAO51R",
        "colab_type": "code",
        "colab": {}
      },
      "source": [
        "# import os\n",
        "# os.environ['KMP_DUPLICATE_LIB_OK']='True'"
      ],
      "execution_count": 0,
      "outputs": []
    },
    {
      "cell_type": "code",
      "metadata": {
        "id": "5qr3k0kKO51R",
        "colab_type": "code",
        "outputId": "0a9ba234-8848-42c4-c231-e4ea4fc397c0",
        "colab": {
          "base_uri": "https://localhost:8080/",
          "height": 384
        }
      },
      "source": [
        "# from sklearn.metrics import mean_squared_error\n",
        "# data_dmatrix = xgb.DMatrix(data=np.asarray(data.drop(columns='label')),label= np.asarray(data['label']))\n",
        "\n",
        "xg = XGBClassifier()\n",
        "xg.fit(x_train_standardized, y_train)\n",
        "y_pred = xg.predict(x_test_standardized)\n",
        "\n",
        "Plot_Metrics(y_test, y_pred)"
      ],
      "execution_count": 0,
      "outputs": [
        {
          "output_type": "stream",
          "text": [
            "Accuracy: 0.8227158424140821\n",
            "roc_auc_score: 0.7937989857076994\n",
            "Precision: 0.8869814020028612\n",
            "Recall: 0.6431535269709544\n",
            "f1_score: 0.745640408899579\n"
          ],
          "name": "stdout"
        },
        {
          "output_type": "display_data",
          "data": {
            "image/png": "[encoded data removed]",
            "text/plain": [
              "<Figure size 432x288 with 2 Axes>"
            ]
          },
          "metadata": {
            "tags": []
          }
        }
      ]
    },
    {
      "cell_type": "markdown",
      "metadata": {
        "id": "1HVZ552SJv7X",
        "colab_type": "text"
      },
      "source": [
        "## Fine-tuning"
      ]
    },
    {
      "cell_type": "code",
      "metadata": {
        "id": "sjSNGY1aLTw-",
        "colab_type": "code",
        "colab": {}
      },
      "source": [
        "from sklearn.model_selection import GridSearchCV"
      ],
      "execution_count": 0,
      "outputs": []
    },
    {
      "cell_type": "markdown",
      "metadata": {
        "id": "4dD3A2uPKUdv",
        "colab_type": "text"
      },
      "source": [
        "### Random Forest"
      ]
    },
    {
      "cell_type": "code",
      "metadata": {
        "id": "ojjXPVALO51S",
        "colab_type": "code",
        "colab": {}
      },
      "source": [
        "rf = RandomForestClassifier()\n",
        "param_grid = {'n_estimators': [75, 100, 125, 150, 175, 200],\n",
        "              'min_samples_split':[2,4,6,8,10],\n",
        "              'min_samples_leaf': [1, 2, 3, 4]}\n",
        "\n",
        "grid = GridSearchCV(rf, param_grid=param_grid, scoring='roc_auc', cv=10)\n",
        "\n",
        "g = grid.fit(x_train, y_train)\n"
      ],
      "execution_count": 0,
      "outputs": []
    },
    {
      "cell_type": "code",
      "metadata": {
        "id": "ommSbTIZCcyR",
        "colab_type": "code",
        "outputId": "a9eba293-e50c-4df0-d6e7-9b29474e773e",
        "colab": {
          "base_uri": "https://localhost:8080/",
          "height": 186
        }
      },
      "source": [
        "rf_opt = g.best_estimator_\n",
        "print(\"best params: \" + str(g.best_estimator_))\n",
        "print(\"best params: \" + str(g.best_params_))\n",
        "print('best score:', g.best_score_)"
      ],
      "execution_count": 92,
      "outputs": [
        {
          "output_type": "stream",
          "text": [
            "best params: RandomForestClassifier(bootstrap=True, class_weight=None, criterion='gini',\n",
            "                       max_depth=None, max_features='auto', max_leaf_nodes=None,\n",
            "                       min_impurity_decrease=0.0, min_impurity_split=None,\n",
            "                       min_samples_leaf=1, min_samples_split=8,\n",
            "                       min_weight_fraction_leaf=0.0, n_estimators=200,\n",
            "                       n_jobs=None, oob_score=False, random_state=None,\n",
            "                       verbose=0, warm_start=False)\n",
            "best params: {'min_samples_leaf': 1, 'min_samples_split': 8, 'n_estimators': 200}\n",
            "best score: 0.8949896611649929\n"
          ],
          "name": "stdout"
        }
      ]
    },
    {
      "cell_type": "code",
      "metadata": {
        "id": "OjGtgryVOCms",
        "colab_type": "code",
        "outputId": "271100dc-3b7c-4098-a206-0336973d0d33",
        "colab": {
          "base_uri": "https://localhost:8080/",
          "height": 404
        }
      },
      "source": [
        "y_pred = rf_opt.predict(x_test)\n",
        "Plot_Metrics(y_test,y_pred)"
      ],
      "execution_count": 93,
      "outputs": [
        {
          "output_type": "stream",
          "text": [
            "Accuracy: 0.8292120704107293\n",
            "roc_auc_score: 0.8084105161234721\n",
            "Precision: 0.8721901091843288\n",
            "Recall: 0.6879432624113475\n",
            "f1_score: 0.7691871990937411\n"
          ],
          "name": "stdout"
        },
        {
          "output_type": "display_data",
          "data": {
            "image/png": "[encoded data removed]",
            "text/plain": [
              "<Figure size 432x288 with 2 Axes>"
            ]
          },
          "metadata": {
            "tags": []
          }
        }
      ]
    },
    {
      "cell_type": "code",
      "metadata": {
        "id": "WFJqHjl-quCw",
        "colab_type": "code",
        "colab": {
          "base_uri": "https://localhost:8080/",
          "height": 54
        },
        "outputId": "f059ea70-4540-4dd2-ad2d-7eba7896c031"
      },
      "source": [
        " probs = rf_opt.predict_proba(x_test) \n",
        "# only keep probabilities associated with the employee leaving\n",
        "a = roc_auc_score(y_test, probs[:, 1]) \n",
        "print('AUC score: {}'.format(round(a,3)))"
      ],
      "execution_count": 94,
      "outputs": [
        {
          "output_type": "stream",
          "text": [
            "AUC score: 0.893\n"
          ],
          "name": "stdout"
        }
      ]
    },
    {
      "cell_type": "code",
      "metadata": {
        "id": "B9vXNjwTrRpD",
        "colab_type": "code",
        "colab": {
          "base_uri": "https://localhost:8080/",
          "height": 338
        },
        "outputId": "699a7d14-5410-4604-f557-97a2abf2c015"
      },
      "source": [
        "pd.DataFrame(probs[:,1]).hist()"
      ],
      "execution_count": 66,
      "outputs": [
        {
          "output_type": "execute_result",
          "data": {
            "text/plain": [
              "array([[<matplotlib.axes._subplots.AxesSubplot object at 0x7f055fe67e80>]],\n",
              "      dtype=object)"
            ]
          },
          "metadata": {
            "tags": []
          },
          "execution_count": 66
        },
        {
          "output_type": "display_data",
          "data": {
            "image/png": "[encoded data removed]",
            "text/plain": [
              "<Figure size 432x288 with 1 Axes>"
            ]
          },
          "metadata": {
            "tags": []
          }
        }
      ]
    },
    {
      "cell_type": "markdown",
      "metadata": {
        "id": "TkQ7SaLomFex",
        "colab_type": "text"
      },
      "source": [
        "### Logistic Regression"
      ]
    },
    {
      "cell_type": "code",
      "metadata": {
        "id": "8t0fDCnimF0t",
        "colab_type": "code",
        "colab": {}
      },
      "source": [
        "param_grid = {'C': np.arange(1e-03, 2, 0.01)} # hyper-parameter list to fine-tune\n",
        "grid = GridSearchCV(LogisticRegression(solver='lbfgs',max_iter=500),\n",
        "                      iid=True,\n",
        "                      return_train_score=True,\n",
        "                      param_grid=param_grid,\n",
        "                      scoring='roc_auc',\n",
        "                      cv=10)\n",
        "\n",
        "l = grid.fit(x_train_standardized, y_train)"
      ],
      "execution_count": 0,
      "outputs": []
    },
    {
      "cell_type": "code",
      "metadata": {
        "id": "eb9WYIiamacL",
        "colab_type": "code",
        "colab": {
          "base_uri": "https://localhost:8080/",
          "height": 153
        },
        "outputId": "f7381027-737d-457c-c927-8396fe41c0aa"
      },
      "source": [
        "lr_opt = l.best_estimator_\n",
        "results = l.cv_results_\n",
        "\n",
        "print(\"best params: \" + str(l.best_estimator_))\n",
        "print(\"best params: \" + str(l.best_params_))\n",
        "print('best score:', l.best_score_)"
      ],
      "execution_count": 56,
      "outputs": [
        {
          "output_type": "stream",
          "text": [
            "best params: LogisticRegression(C=1.8109999999999997, class_weight=None, dual=False,\n",
            "                   fit_intercept=True, intercept_scaling=1, l1_ratio=None,\n",
            "                   max_iter=500, multi_class='warn', n_jobs=None, penalty='l2',\n",
            "                   random_state=None, solver='lbfgs', tol=0.0001, verbose=0,\n",
            "                   warm_start=False)\n",
            "best params: {'C': 1.8109999999999997}\n",
            "best score: 0.8564028470495619\n"
          ],
          "name": "stdout"
        }
      ]
    },
    {
      "cell_type": "code",
      "metadata": {
        "id": "E_lKsBtVmsgz",
        "colab_type": "code",
        "colab": {
          "base_uri": "https://localhost:8080/",
          "height": 404
        },
        "outputId": "28fb1a0e-daa2-4b85-c9bb-6acebfdd40cb"
      },
      "source": [
        "# lr_opt.fit(x_train_standardized, y_train)\n",
        "y_pred = lr_opt.predict(x_test_standardized)\n",
        "Plot_Metrics(y_test,y_pred)"
      ],
      "execution_count": 57,
      "outputs": [
        {
          "output_type": "stream",
          "text": [
            "Accuracy: 0.7917015926236379\n",
            "roc_auc_score: 0.7641900097985753\n",
            "Precision: 0.8480113636363636\n",
            "Recall: 0.6048632218844985\n",
            "f1_score: 0.7060910703725607\n"
          ],
          "name": "stdout"
        },
        {
          "output_type": "display_data",
          "data": {
            "image/png": "[encoded data removed]",
            "text/plain": [
              "<Figure size 432x288 with 2 Axes>"
            ]
          },
          "metadata": {
            "tags": []
          }
        }
      ]
    },
    {
      "cell_type": "code",
      "metadata": {
        "id": "zKyNz0aPnQJH",
        "colab_type": "code",
        "colab": {
          "base_uri": "https://localhost:8080/",
          "height": 54
        },
        "outputId": "f431fc0d-38b5-498b-df45-65e0d9f4317f"
      },
      "source": [
        "lr_opt.fit(x_train_standardized, y_train) \n",
        "probs = lr_opt.predict_proba(x_test_standardized) \n",
        "# only keep probabilities associated with the employee leaving\n",
        "abs = roc_auc_score(y_test, probs[:, 1]) \n",
        "print('AUC score: {}'.format(round(a,3)))"
      ],
      "execution_count": 58,
      "outputs": [
        {
          "output_type": "stream",
          "text": [
            "AUC score: 0.853\n"
          ],
          "name": "stdout"
        }
      ]
    }
  ]
}